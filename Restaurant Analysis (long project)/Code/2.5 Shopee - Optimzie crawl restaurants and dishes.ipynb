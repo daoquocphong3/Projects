{
  "cells": [
    {
      "cell_type": "code",
      "execution_count": null,
      "metadata": {
        "id": "WUCzSFCbX7c3"
      },
      "outputs": [],
      "source": [
        "import os\n",
        "import concurrent.futures\n",
        "\n",
        "import json\n",
        "import requests\n",
        "from datetime import date\n",
        "\n",
        "import pandas as pd\n",
        "import sqlite3 as lite\n",
        "from tqdm import tqdm\n",
        "\n",
        "import io\n",
        "import json\n",
        "import pyarrow as pa\n",
        "import pyarrow.json as pj\n",
        "import pyarrow.parquet as pq"
      ]
    },
    {
      "cell_type": "markdown",
      "metadata": {
        "id": "QEG4pz93QCkf"
      },
      "source": [
        "# Mount Google Drive and connect to SQLlite3"
      ]
    },
    {
      "cell_type": "code",
      "execution_count": null,
      "metadata": {
        "colab": {
          "base_uri": "https://localhost:8080/"
        },
        "id": "QaJIhrXzYxqK",
        "outputId": "61da6cad-16ca-469f-afc8-0cbfa7c162ae"
      },
      "outputs": [
        {
          "name": "stdout",
          "output_type": "stream",
          "text": [
            "Mounted at /content/drive\n"
          ]
        }
      ],
      "source": [
        "from google.colab import drive\n",
        "from pathlib import Path\n",
        "drive.mount('/content/drive')"
      ]
    },
    {
      "cell_type": "code",
      "execution_count": null,
      "metadata": {
        "colab": {
          "base_uri": "https://localhost:8080/"
        },
        "id": "99g-1x94ZgXD",
        "outputId": "aa9bb81f-87ce-4a50-c113-0a4e3d9f27a6"
      },
      "outputs": [
        {
          "name": "stdout",
          "output_type": "stream",
          "text": [
            " 20221126_dishes    dishes\n",
            " 20221129_dishes    dishes21_11.zip\n",
            " 20221203_dishes    dishes_restaurant_ids.xlsx\n",
            " 20221206_dishes   'Shopee food - get detail & dishes.ipynb'\n",
            "'Copy of Main.db'   test_schema\n"
          ]
        }
      ],
      "source": [
        "!ls drive/MyDrive/Data/'1 - raw data'/shopee/'shopee dish'"
      ]
    },
    {
      "cell_type": "code",
      "execution_count": null,
      "metadata": {
        "colab": {
          "base_uri": "https://localhost:8080/"
        },
        "id": "7cKS4j8bbEMu",
        "outputId": "774c2039-346f-4591-d326-44680b2822f9"
      },
      "outputs": [
        {
          "name": "stdout",
          "output_type": "stream",
          "text": [
            "sqlite3 2.6.0 has connected to database successfully\n"
          ]
        }
      ],
      "source": [
        "root_path=\"/content/drive/MyDrive/Data/1 - raw data/shopee/shopee dish\"\n",
        "db='Copy of Main.db'\n",
        "_root = Path(root_path)\n",
        "db_path=_root.joinpath(db)\n",
        "#----------------------------------------\n",
        "try:\n",
        "    conn = lite.connect(db_path)\n",
        "    print(f\"sqlite3 {lite.version} has connected to database successfully\")\n",
        "except lite.Error as e:\n",
        "    print(\"Error: \", e)"
      ]
    },
    {
      "cell_type": "markdown",
      "metadata": {
        "id": "GyN4T1DbAzYU"
      },
      "source": [
        "# Get detail"
      ]
    },
    {
      "cell_type": "markdown",
      "metadata": {
        "id": "g8ln8J1fUeBY"
      },
      "source": [
        "## Test"
      ]
    },
    {
      "cell_type": "code",
      "execution_count": null,
      "metadata": {
        "id": "GwjZa56BAp2S"
      },
      "outputs": [],
      "source": [
        "get_detail_url='https://gappapi.deliverynow.vn/api/delivery/get_detail'"
      ]
    },
    {
      "cell_type": "code",
      "execution_count": null,
      "metadata": {
        "id": "nAHwtVyEAvw-"
      },
      "outputs": [],
      "source": [
        "header={'accept': 'application/json, text/plain, */*'\n",
        ",'x-foody-client-id': '525d4c83-bab2-4d1e-b17e-f867be8de94f'\n",
        ",'x-foody-client-type': '4'\n",
        ",'x-foody-app-type': '1004'\n",
        ",'x-foody-client-version': '5.23.0'\n",
        ",'x-foody-api-version': '1'\n",
        ",'x-foody-client-language': 'en'\n",
        ",'x-foody-access-token': None\n",
        ",'user-agent': 'NOW/5.13.2 (sdk_gphone64_x86_64; android 33; Scale/2.75)'\n",
        ",'x-foody-client-rn-version': '5.13.2'\n",
        ",'x-foody-device-fingerprint': None\n",
        ",'accept-encoding': 'gzip'}\n",
        "\n",
        "query={\n",
        "    'request_id': 920007\n",
        "    ,'id_type':    1\n",
        "}"
      ]
    },
    {
      "cell_type": "markdown",
      "metadata": {
        "id": "J7jw8pg0OmjH"
      },
      "source": [
        "#### Benchmark thời gian request"
      ]
    },
    {
      "cell_type": "code",
      "execution_count": null,
      "metadata": {
        "colab": {
          "base_uri": "https://localhost:8080/"
        },
        "id": "93gNzGHjXD_y",
        "outputId": "f54c47bc-dc24-4289-f6b1-1db452541cba"
      },
      "outputs": [
        {
          "name": "stdout",
          "output_type": "stream",
          "text": [
            "1.6 s ± 23.1 ms per loop (mean ± std. dev. of 7 runs, 1 loop each)\n"
          ]
        }
      ],
      "source": [
        "%%timeit 10\n",
        "response=requests.get(get_detail_url, params=query, headers=header)"
      ]
    },
    {
      "cell_type": "markdown",
      "metadata": {
        "id": "ErF3tMf-OtKb"
      },
      "source": [
        "Như vậy estimate: 61k quán \\* 0.5s/request = 8.5 hrs"
      ]
    },
    {
      "cell_type": "markdown",
      "metadata": {
        "id": "8Cp09X1YO_nH"
      },
      "source": [
        "#### Thử dùng multithread"
      ]
    },
    {
      "cell_type": "code",
      "execution_count": null,
      "metadata": {
        "id": "0-_kvbU-R27H"
      },
      "outputs": [],
      "source": [
        "def request_detail(restaurant_id):\n",
        "  return requests.get(get_detail_url, params={'request_id': restaurant_id,'id_type': 1}, headers=header)"
      ]
    },
    {
      "cell_type": "code",
      "execution_count": null,
      "metadata": {
        "colab": {
          "base_uri": "https://localhost:8080/"
        },
        "id": "HnFAHQTQQbY4",
        "outputId": "93c0b8b3-ece6-4159-ff4c-df14197400d2"
      },
      "outputs": [
        {
          "name": "stdout",
          "output_type": "stream",
          "text": [
            "CPU times: user 1.46 s, sys: 147 ms, total: 1.61 s\n",
            "Wall time: 28 s\n"
          ]
        }
      ],
      "source": [
        "%%time\n",
        "t = []\n",
        "i=0\n",
        "\n",
        "with concurrent.futures.ThreadPoolExecutor() as executor:\n",
        "  future_samples = []\n",
        "  counter = 0\n",
        "\n",
        "  while i<100:\n",
        "    future_samples.append(executor.submit(request_detail, 920007))\n",
        "    counter += 1\n",
        "\n",
        "    if counter == 100:\n",
        "      for future in concurrent.futures.as_completed(future_samples):\n",
        "          try:\n",
        "              response = future.result()\n",
        "          except Exception as exc:\n",
        "              print('Generated an exception: %s' % (exc))\n",
        "          else:\n",
        "              i += 1\n",
        "              #pbar.update(1)\n",
        "              t.append(response.json())\n",
        "\n",
        "              if i==100: break\n",
        "\n",
        "      future_samples = []\n",
        "      counter = 0\n",
        "\n",
        "  #pbar.close()"
      ]
    },
    {
      "cell_type": "markdown",
      "metadata": {
        "id": "F-4274ckTopT"
      },
      "source": [
        "Như vậy estimate: 61k quán / 100 (requests/batch) * 5s/batch = 0.8 hr"
      ]
    },
    {
      "cell_type": "markdown",
      "metadata": {
        "id": "ljrQrgpuUQy3"
      },
      "source": [
        "## Multithreaded request"
      ]
    },
    {
      "cell_type": "code",
      "execution_count": null,
      "metadata": {
        "id": "ut6BdJ9eKLdA"
      },
      "outputs": [],
      "source": [
        "def request_detail(restaurant_id):\n",
        "  return requests.get(\n",
        "      'https://gappapi.deliverynow.vn/api/delivery/get_detail', \n",
        "      params={'request_id': restaurant_id,'id_type': 1}, \n",
        "      headers={\n",
        "        'accept': 'application/json, text/plain, */*'\n",
        "        ,'x-foody-client-id': '525d4c83-bab2-4d1e-b17e-f867be8de94f'\n",
        "        ,'x-foody-client-type': '4'\n",
        "        ,'x-foody-app-type': '1004'\n",
        "        ,'x-foody-client-version': '5.23.0'\n",
        "        ,'x-foody-api-version': '1'\n",
        "        ,'x-foody-client-language': 'en'\n",
        "        ,'x-foody-access-token': None\n",
        "        ,'user-agent': 'NOW/5.13.2 (sdk_gphone64_x86_64; android 33; Scale/2.75)'\n",
        "        ,'x-foody-client-rn-version': '5.13.2'\n",
        "        ,'x-foody-device-fingerprint': None\n",
        "        ,'accept-encoding': 'gzip'\n",
        "      })"
      ]
    },
    {
      "cell_type": "code",
      "execution_count": null,
      "metadata": {
        "id": "OpIsSk8XMevS"
      },
      "outputs": [],
      "source": [
        "list_restaurant_id = pd.read_sql_query(\"SELECT DISTINCT restaurant_id FROM restaurant\", conn)[\"restaurant_id\"].to_list()"
      ]
    },
    {
      "cell_type": "code",
      "execution_count": null,
      "metadata": {
        "colab": {
          "base_uri": "https://localhost:8080/"
        },
        "id": "KmytvcR5T4Wj",
        "outputId": "9ac5ddf8-3cd2-4bc3-a69d-880ce2746685"
      },
      "outputs": [
        {
          "name": "stderr",
          "output_type": "stream",
          "text": [
            "\r  0%|          | 0/61581 [00:00<?, ?it/s]"
          ]
        }
      ],
      "source": [
        "pbar = tqdm(total = len(list_restaurant_id))"
      ]
    },
    {
      "cell_type": "code",
      "execution_count": null,
      "metadata": {
        "id": "BIZtUfTFUi2z"
      },
      "outputs": [],
      "source": [
        "t = []\n",
        "i=0\n",
        "total_len = len(list_restaurant_id)\n",
        "\n",
        "with concurrent.futures.ThreadPoolExecutor() as executor:\n",
        "  future_samples = []\n",
        "  counter = 0\n",
        "\n",
        "  while i<total_len:\n",
        "    future_samples.append(executor.submit(request_detail, list_restaurant_id[i]))\n",
        "    counter += 1\n",
        "\n",
        "    if counter == 100:\n",
        "      for future in concurrent.futures.as_completed(future_samples):\n",
        "          try:\n",
        "              response = future.result().json()\n",
        "          except Exception as exc:\n",
        "              print('Generated an exception: %s' % (exc))\n",
        "          else:\n",
        "              if 'delivery_detail' in response.keys():\n",
        "                data=response['delivery_detail']\n",
        "              \n",
        "              # Update progress bar\n",
        "              i += 1\n",
        "              pbar.update(1)\n",
        "              \n",
        "              # Limitation reached\n",
        "              if i==100: break\n",
        "\n",
        "      future_samples = []\n",
        "      counter = 0\n",
        "\n",
        "  #pbar.close()"
      ]
    },
    {
      "cell_type": "markdown",
      "metadata": {
        "id": "YRll8tFgJkzR"
      },
      "source": [
        "## Old method"
      ]
    },
    {
      "cell_type": "code",
      "execution_count": null,
      "metadata": {
        "id": "0fPljbPhSLG8"
      },
      "outputs": [],
      "source": [
        "# def get_detail(url,header,param,restaurant_list):\n",
        "#   #-----------------------------------------------------------------\n",
        "#   count=0\n",
        "#   for id in restaurant_list:\n",
        "#     count+=1\n",
        "#     print(count)\n",
        "#     param['request_id']=id\n",
        "#     respone=requests.get(url, params=param, headers=header)\n",
        "#     respone_1=json.loads(respone.text)['reply']\n",
        "#     if 'delivery_detail' in respone_1.keys():\n",
        "#       data=respone_1['delivery_detail']\n",
        "#     else:\n",
        "#       print(respone_1)\n",
        "#       continue\n",
        "#  #------------------------------------------------------------------\n",
        "#     restaurant_id.append(data['restaurant_id'])\n",
        "#     has_phone.append(len(data['phones'])>0)\n",
        "#     restaurant_short_description.append(data['short_description'])\n",
        "#     if data['brand']:\n",
        "#       brand_id.append(data['brand']['brand_id'])\n",
        "#       brand_url.append(data['brand']['brand_url'])\n",
        "#       brand_name.append(data['brand']['name'])\n",
        "#       restaurant_count.append(data['brand']['restaurant_count'])\n",
        "#     else:\n",
        "#       brand_id.append(None)\n",
        "#       brand_url.append(None)\n",
        "#       brand_name.append(None)\n",
        "#       restaurant_count.append(None)\n",
        "#     limit_distance.append(data['limit_distance'])\n",
        "#     categories.append('*#*'.join(data['categories']))\n",
        "#     is_favorite.append(data['is_favorite'])\n",
        "#     delivery_id.append(data['delivery_id'])\n",
        "#     total_order.append(data['total_order'])\n",
        "#     rating_total_review.append(data['rating']['total_review'])\n",
        "#     rating_avg.append(data['rating']['avg'])\n",
        "#     rating_display_total_review.append(data['rating']['display_total_review'])\n",
        "#     rating_app_link.append(data['rating']['app_link'])\n",
        "#     is_subscribe.append(data['is_subscribe'])\n",
        "#     asap_is_available.append(data['asap_is_available'])\n",
        "#     is_city_alert.append(data['is_city_alert'])\n",
        "#     contract_type.append(data['contract_type'])\n",
        "#     delivery_fees.append(json.dumps(data['delivery_fees']))\n",
        "#     vat.append(data['vat'])\n",
        "#     confirm_language.append(data['confirm_language'])\n",
        "#     service_type.append(data['service_type'])\n",
        "#     user_favorite_count.append(data['user_favorite_count'])\n",
        "#     delivery_week_days.append(json.dumps(data['delivery']['time']['week_days']))\n",
        "#     delivery_service_by.append(data['delivery']['service_by'])\n",
        "#     delivery_service_fee.append(data['delivery']['service_fee']['value'])\n",
        "#     delivery_merchant_limit_distance.append(data['delivery']['merchant_limit_distance'])\n",
        "#     delivery_payment_methods.append(json.dumps(data['delivery']['payment_methods']))\n",
        "#     delivery_has_contract.append(data['delivery']['has_contract'])\n",
        "#     delivery_setting_limit_distance.append(data['delivery']['setting_limit_distance'])\n",
        "#     delivery_merchant_time.append(data['delivery']['merchant_time'])\n",
        "#     delivery_prepare_duration.append(data['delivery']['prepare_duration'])\n",
        "#     delivery_ship_types.append(json.dumps(data['delivery']['ship_types']))\n",
        "#     delivery_avg_price.append(data['delivery']['avg_price']['value'])\n",
        "#     delivery_avg_price_unit.append(data['delivery']['avg_price']['unit'])\n",
        "#     delivery_shipping_fee_value.append(data['delivery']['shipping_fee']['value'])\n",
        "#     delivery_shipping_fee_minimum.append(data['delivery']['shipping_fee']['minimum_fee'])\n",
        "#     delivery_shipping_fee_rate.append(data['delivery']['shipping_fee']['rate'])\n",
        "#     delivery_min_charge.append(data['delivery']['min_charge'])\n",
        "#     is_display_cutlery.append(data['is_display_cutlery'])\n",
        "#     confirm_methods.append(json.dumps(data['confirm_methods']))\n",
        "#     name_en.append(data['name_en'])\n",
        "#     foody_service_id.append(data['foody_service_id'])\n",
        "#     min_order_value.append(data['min_order_value']['value'])\n",
        "#     root_category_ids.append(data['root_category_ids'])\n",
        "#     promotion_count.append(len(data['promotions']))\n",
        "#     price_range_min_price.append(data['price_range']['min_price'])\n",
        "#     price_range_max_price.append(data['price_range']['max_price'])\n",
        "#     parent_category_id.append(data['parent_category_id'])\n",
        "#     position_verified.append(data['position']['is_verified'])\n",
        "#   total_data={\n",
        "#       'restaurant_id':restaurant_id,\n",
        "#       'has_phone':has_phone,\n",
        "#       'restaurant_short_description':restaurant_short_description,\n",
        "#       'brand_id':brand_id,\n",
        "#       'brand_url':brand_url,\n",
        "#       'brand_name':brand_name,\n",
        "#       'restaurant_count':restaurant_count,\n",
        "#       'limit_distance':limit_distance,\n",
        "#       'categories':categories,\n",
        "#       'is_favorite':is_favorite,\n",
        "#       'delivery_id':delivery_id,\n",
        "#       'total_order':total_order,\n",
        "#       'rating_total_review':rating_total_review,\n",
        "#       'rating_avg':rating_avg,\n",
        "#       'rating_display_total_review':rating_display_total_review,\n",
        "#       'rating_app_link':rating_app_link,\n",
        "#       'is_subscribe':is_subscribe,\n",
        "#       'asap_is_available':asap_is_available,\n",
        "#       'is_city_alert':is_city_alert,\n",
        "#       'contract_type':contract_type,\n",
        "#       'delivery_fees':delivery_fees,\n",
        "#       'vat':vat,\n",
        "#       'confirm_language':confirm_language,\n",
        "#       'service_type':service_type,\n",
        "#       'user_favorite_count':user_favorite_count,\n",
        "#       'delivery_week_days':delivery_week_days,\n",
        "#       'delivery_service_by':delivery_service_by,\n",
        "#       'delivery_service_fee':delivery_service_fee,\n",
        "#       'delivery_merchant_limit_distance':delivery_merchant_limit_distance,\n",
        "#       'delivery_payment_methods':delivery_payment_methods,\n",
        "#       'delivery_has_contract':delivery_has_contract,\n",
        "#       'delivery_setting_limit_distance':delivery_setting_limit_distance,\n",
        "#       'delivery_merchant_time':delivery_merchant_time,\n",
        "#       'delivery_prepare_duration':delivery_prepare_duration,\n",
        "#       'delivery_ship_types':delivery_ship_types,\n",
        "#       'delivery_avg_price':delivery_avg_price,\n",
        "#       'delivery_avg_price_unit':delivery_avg_price_unit,\n",
        "#       'delivery_shipping_fee_value':delivery_shipping_fee_value,\n",
        "#       'delivery_shipping_fee_minimum':delivery_shipping_fee_minimum,\n",
        "#       'delivery_shipping_fee_rate':delivery_shipping_fee_rate,\n",
        "#       'delivery_min_charge':delivery_min_charge,\n",
        "#       'is_display_cutlery':is_display_cutlery,\n",
        "#       'confirm_methods':confirm_methods,\n",
        "#       'name_en':name_en,\n",
        "#       'foody_service_id':foody_service_id,\n",
        "#       'min_order_value':min_order_value,\n",
        "#       'root_category_ids':root_category_ids,\n",
        "#       'promotion_count':promotion_count,\n",
        "#       'price_range_min_price':price_range_min_price,\n",
        "#       'price_range_max_price':price_range_max_price,\n",
        "#       'parent_category_id':parent_category_id,\n",
        "#       'position_verifie':position_verified\n",
        "#       }\n",
        "#   return pd.DataFrame(total_data)"
      ]
    },
    {
      "cell_type": "code",
      "execution_count": null,
      "metadata": {
        "id": "8MKDOgg4Aval"
      },
      "outputs": [],
      "source": [
        "# district=pd.read_excel('restaurant_id_Quận 2.xlsx')\n",
        "# list_restaurant_id=list(district['restaurant_id'])"
      ]
    },
    {
      "cell_type": "code",
      "execution_count": null,
      "metadata": {
        "id": "bBJIpAB3cHme"
      },
      "outputs": [],
      "source": [
        "# detail_df=get_detail(get_detail_url,header,query,list_restaurant_id)"
      ]
    },
    {
      "cell_type": "code",
      "execution_count": null,
      "metadata": {
        "id": "CS_ggGQY4J_r"
      },
      "outputs": [],
      "source": [
        "# detail_df.to_excel('detail_Quận 2.xlsx')"
      ]
    },
    {
      "cell_type": "markdown",
      "metadata": {
        "id": "yVlesCQIAwY-"
      },
      "source": [
        "# Get dishes"
      ]
    },
    {
      "cell_type": "code",
      "execution_count": null,
      "metadata": {
        "id": "cP0_Mf85J2UC"
      },
      "outputs": [],
      "source": [
        "def request_dish_detail(restaurant_id):\n",
        "  return requests.get(\n",
        "      'https://gappapi.deliverynow.vn/api/v5/buyer/store/dishes', \n",
        "      params={'restaurant_id': restaurant_id}, \n",
        "      headers={\n",
        "        'accept': 'application/json, text/plain, */*'\n",
        "        ,'x-foody-client-id': '525d4c83-bab2-4d1e-b17e-f867be8de94f'\n",
        "        ,'x-foody-client-type': '4'\n",
        "        ,'x-foody-app-type': '1004'\n",
        "        ,'x-foody-client-version': '5.23.0'\n",
        "        ,'x-foody-api-version': '1'\n",
        "        ,'x-foody-client-language': 'en'\n",
        "        ,'x-foody-access-token': '170f42e77caf17826dc30f7598aa2a56bac308fb8923a173a8fd8abfbcf53af79a5d25fe63d7deccf4b92c0384b0b718a5cf5b750b7e940bdb02507af7e38797'\n",
        "        #Có vẻ token không đổi, có thể chỉ dựa vào restaurant_id\n",
        "        ,'user-agent': 'NOW/5.13.2 (sdk_gphone64_x86_64; android 33; Scale/2.75)'\n",
        "        ,'x-foody-client-rn-version': '5.13.2'\n",
        "        ,'x-foody-device-fingerprint': None\n",
        "        ,'accept-encoding': 'gzip'\n",
        "    })"
      ]
    },
    {
      "cell_type": "code",
      "execution_count": null,
      "metadata": {
        "id": "hdRJh8Qj_rO1"
      },
      "outputs": [],
      "source": [
        "#demo\n",
        "respone=request_dish_detail(1137988)\n",
        "df=json.loads(respone.text)"
      ]
    },
    {
      "cell_type": "code",
      "execution_count": null,
      "metadata": {
        "id": "Yyy3ZNonZ6TU"
      },
      "outputs": [],
      "source": [
        "def get_dish_detail(restaurant_id):\n",
        "    #-----------------------------------------------------------------------\n",
        "    respone=request_dish_detail(restaurant_id)\n",
        "    data = pa.json.read_json(io.BytesIO(respone.content)).append_column('restaurant_id', [[restaurant_id]])\n",
        "    #-----------------------------------------------------------------------\n",
        "    return data"
      ]
    },
    {
      "cell_type": "code",
      "execution_count": null,
      "metadata": {
        "id": "LhZjpXPxAAAj"
      },
      "outputs": [],
      "source": [
        "list_restaurant_id = pd.read_sql_query(\"SELECT DISTINCT restaurant_id FROM restaurant\", conn)[\"restaurant_id\"].to_list()"
      ]
    },
    {
      "cell_type": "code",
      "execution_count": null,
      "metadata": {
        "id": "R_aElAJTPaYu"
      },
      "outputs": [],
      "source": [
        "# Empty the list of result\n",
        "dataset = []\n",
        "err_samples = {}"
      ]
    },
    {
      "cell_type": "markdown",
      "metadata": {
        "id": "tEdEU-8ih3Gu"
      },
      "source": [
        "Crawl toàn bộ hoặc ngắt quãng ra đc"
      ]
    },
    {
      "cell_type": "code",
      "execution_count": null,
      "metadata": {
        "colab": {
          "background_save": true,
          "base_uri": "https://localhost:8080/"
        },
        "id": "U7KiaEhiMYyA",
        "outputId": "98a8900a-57b8-4a25-f8de-30e9b8ab80f0"
      },
      "outputs": [
        {
          "name": "stderr",
          "output_type": "stream",
          "text": [
            " 27%|██▋       | 16800/61581 [56:02<2:35:47,  4.79it/s]"
          ]
        },
        {
          "name": "stdout",
          "output_type": "stream",
          "text": [
            "Generated an exception: straddling object straddles two block boundaries (try to increase block size?)\n"
          ]
        },
        {
          "name": "stderr",
          "output_type": "stream",
          "text": [
            "100%|██████████| 61581/61581 [3:31:38<00:00,  4.85it/s]\n"
          ]
        }
      ],
      "source": [
        "total_len = len(list_restaurant_id)\n",
        "skip = 0\n",
        "batch_size = 200\n",
        "\n",
        "with concurrent.futures.ThreadPoolExecutor() as executor:\n",
        "  future_samples = {}\n",
        "  counter = 0\n",
        "\n",
        "  for i in tqdm(range(skip, total_len)):\n",
        "    future_samples[executor.submit(get_dish_detail, list_restaurant_id[i])] = list_restaurant_id[i]\n",
        "    counter += 1\n",
        "\n",
        "    if counter == batch_size or i == (total_len-1):\n",
        "      for future in concurrent.futures.as_completed(future_samples):\n",
        "          try:\n",
        "              dataset.append(future.result())\n",
        "          except Exception as exc:\n",
        "              print('Generated an exception: %s' % (exc))\n",
        "              id = future_samples[future]\n",
        "              err_samples[id] = request_dish_detail(id).content\n",
        "\n",
        "      # Reset batch\n",
        "      future_samples = {}\n",
        "      counter = 0"
      ]
    },
    {
      "cell_type": "code",
      "execution_count": null,
      "metadata": {
        "colab": {
          "background_save": true
        },
        "id": "eemAZcQ3gs0i"
      },
      "outputs": [],
      "source": [
        "# err_samples -> 1070345 --> Siêu thị Mekong Gourmet, rất nhiều dish\n",
        "# request_dish_detail(1070345).text"
      ]
    },
    {
      "cell_type": "markdown",
      "metadata": {
        "id": "ZzFy9iSJh6rd"
      },
      "source": [
        "Gom nhóm data theo các schema khác nhau và lưu xuống nhiều file"
      ]
    },
    {
      "cell_type": "code",
      "execution_count": null,
      "metadata": {
        "colab": {
          "background_save": true
        },
        "id": "DeqAQSLPcd0e"
      },
      "outputs": [],
      "source": [
        "schemas = {}"
      ]
    },
    {
      "cell_type": "code",
      "execution_count": null,
      "metadata": {
        "colab": {
          "background_save": true
        },
        "id": "GQKJdHBAbl8Z"
      },
      "outputs": [],
      "source": [
        "for sample in dataset:\n",
        "  if sample.schema in schemas.keys():\n",
        "    schemas[sample.schema].append(sample)\n",
        "  else:\n",
        "    schemas[sample.schema]=[sample]"
      ]
    },
    {
      "cell_type": "code",
      "execution_count": null,
      "metadata": {
        "id": "fDUKLvPjiVbs"
      },
      "outputs": [],
      "source": [
        "p = Path(root_path).joinpath(f\"{date.today().strftime('%Y%m%d')}_dishes\")\n",
        "p.mkdir(parents=True, exist_ok=True)\n",
        "\n",
        "for i, key in enumerate(schemas.keys()):\n",
        "  pq.write_table(\n",
        "      pa.concat_tables(schemas[key]), \n",
        "      p.joinpath(f\"dishes_schema{i:03d}.parquet\")\n",
        "  )"
      ]
    },
    {
      "cell_type": "markdown",
      "metadata": {
        "id": "CV0rfOUUMRoP"
      },
      "source": [
        "## Old method"
      ]
    },
    {
      "cell_type": "code",
      "execution_count": null,
      "metadata": {
        "id": "_DxvzyQmMNTA"
      },
      "outputs": [],
      "source": [
        "# def get_dishes(url, query, header,restaurant_list):\n",
        "#   catalog_id=[]\n",
        "#   catalog_name=[]\n",
        "#   catalog_rank=[]\n",
        "#   catalog_partner_catalog_id=[]\n",
        "#   catalog_description=[]\n",
        "#   dish_restaurant_id=[]\n",
        "#   dish_id=[]\n",
        "#   dish_name=[]\n",
        "#   dish_partner_dish_id=[]\n",
        "#   dish_listing_status=[]\n",
        "#   dish_description=[]\n",
        "#   dish_total_like=[]\n",
        "#   dish_rank=[]\n",
        "#   dish_picture_label=[]\n",
        "#   dish_is_hidden=[]\n",
        "#   dish_price=[]\n",
        "#   dish_is_group_discount_item=[]\n",
        "#   dishes_property_info=[]\n",
        "\n",
        "#   for restaurant_id in restaurant_list:\n",
        "#     query['restaurant_id']=restaurant_id\n",
        "#     #-----------------------------------------------------------------------\n",
        "#     respone=json.loads(requests.get(get_dishes_url, params=query, headers=header).text)\n",
        "#     #-----------------------------------------------------------------------\n",
        "#     if 'data' in respone:\n",
        "#       if 'catalogs' in respone['data']:\n",
        "#         for catalog in respone['data']['catalogs']:\n",
        "#           for dishes in catalog['dishes']:\n",
        "#             catalog_id.append(catalog['id'])\n",
        "#             catalog_name.append(catalog['name'])\n",
        "#             catalog_rank.append(catalog['rank'])\n",
        "#             if 'partner_catalog_id' in catalog:\n",
        "#               catalog_partner_catalog_id.append(catalog['partner_catalog_id'])\n",
        "#             else:\n",
        "#               catalog_partner_catalog_id.append(None)\n",
        "#             if 'description' in catalog:\n",
        "#               catalog_description.append(catalog['description'])\n",
        "#             else:\n",
        "#               catalog_description.append(None)\n",
        "#             dish_restaurant_id.append(dishes['restaurant_id'])\n",
        "#             dish_id.append(dishes['id'])\n",
        "#             dish_name.append(dishes['name'])\n",
        "#             dish_partner_dish_id.append(dishes['partner_dish_id'])\n",
        "#             dish_listing_status.append(dishes['listing_status'])\n",
        "#             dish_description.append(dishes['description'])\n",
        "#             dish_total_like.append(dishes['total_like'])\n",
        "#             dish_rank.append(dishes['rank'])\n",
        "#             if 'picture_label' in dishes:\n",
        "#               dish_picture_label.append(dishes['picture_label'])\n",
        "#             else:\n",
        "#               dish_picture_label.append(None)\n",
        "#             dish_is_hidden.append(dishes['is_hidden'])\n",
        "#             dish_price.append(dishes['price'])\n",
        "#             dish_is_group_discount_item.append(dishes['is_group_discount_item'])\n",
        "#             dishes_property_info.append(json.dumps(dishes['property_info']))\n",
        "#       else:\n",
        "#         continue\n",
        "\n",
        "#   data_dict={\n",
        "#         'catalog_id':catalog_id\n",
        "#         ,'catalog_name':catalog_name\n",
        "#         ,'catalog_rank':catalog_rank\n",
        "#         ,'catalog_partner_catalog_id':catalog_partner_catalog_id\n",
        "#         ,'catalog_description':catalog_description\n",
        "#         ,'dish_restaurant_id':dish_restaurant_id\n",
        "#         ,'dish_id':dish_id\n",
        "#         ,'dish_name':dish_name\n",
        "#         ,'dish_partner_dish_id':dish_partner_dish_id\n",
        "#         ,'dish_listing_status':dish_listing_status\n",
        "#         ,'dish_description':dish_description\n",
        "#         ,'dish_total_like':dish_total_like\n",
        "#         ,'dish_rank':dish_rank\n",
        "#         ,'dish_picture_label':dish_picture_label\n",
        "#         ,'dish_is_hidden':dish_is_hidden\n",
        "#         ,'dish_price':dish_price\n",
        "#         ,'dish_is_group_discount_item':dish_is_group_discount_item\n",
        "#         ,'dishes_property_info':dishes_property_info\n",
        "#   }\n",
        "#   return pd.DataFrame(data_dict)"
      ]
    },
    {
      "cell_type": "code",
      "execution_count": null,
      "metadata": {
        "id": "h0P9yWFMh5I0"
      },
      "outputs": [],
      "source": [
        "# district=pd.read_excel('restaurant_id_Quận 2.xlsx')\n",
        "# list_restaurant_id=list(district['restaurant_id'])"
      ]
    },
    {
      "cell_type": "code",
      "execution_count": null,
      "metadata": {
        "id": "vrz8WTVCecqv"
      },
      "outputs": [],
      "source": [
        "# df=get_dishes(get_dishes_url, query, header,list_restaurant_id)"
      ]
    },
    {
      "cell_type": "code",
      "execution_count": null,
      "metadata": {
        "id": "RqSB4A1nexZE"
      },
      "outputs": [],
      "source": [
        "# df.to_excel('dishes_Quận 2.xlsx')"
      ]
    },
    {
      "cell_type": "code",
      "execution_count": null,
      "metadata": {
        "id": "rKUGxdjFpFPf"
      },
      "outputs": [],
      "source": [
        "# !pwd"
      ]
    }
  ],
  "metadata": {
    "colab": {
      "toc_visible": true,
      "provenance": []
    },
    "kernelspec": {
      "display_name": "Python 3",
      "name": "python3"
    },
    "language_info": {
      "name": "python"
    }
  },
  "nbformat": 4,
  "nbformat_minor": 0
}