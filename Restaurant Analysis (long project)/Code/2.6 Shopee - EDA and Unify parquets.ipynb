{
  "nbformat": 4,
  "nbformat_minor": 0,
  "metadata": {
    "colab": {
      "provenance": [],
      "collapsed_sections": [
        "t8T0-0-06Vd7",
        "tSxCJM1VoIXZ",
        "0BNS7uD_MHEb",
        "FbsBoS5ohDAO",
        "VfnM6gWRhcsj",
        "Nmv-3LBvsPs7",
        "n1Dzgyr98_cg",
        "aq1GWAVCEIeE",
        "4cfsACBOabP9",
        "Yfp0Au521yys"
      ],
      "toc_visible": true
    },
    "kernelspec": {
      "name": "python3",
      "display_name": "Python 3"
    },
    "language_info": {
      "name": "python"
    }
  },
  "cells": [
    {
      "cell_type": "markdown",
      "source": [
        "### Mount Colab to Google Drive"
      ],
      "metadata": {
        "id": "kdL1C6n1jlM0"
      }
    },
    {
      "cell_type": "code",
      "execution_count": null,
      "metadata": {
        "colab": {
          "base_uri": "https://localhost:8080/"
        },
        "id": "LRjihK5Ke0kX",
        "outputId": "2a97911a-c318-4968-f7d9-27174ca8d1b1"
      },
      "outputs": [
        {
          "output_type": "stream",
          "name": "stdout",
          "text": [
            "Mounted at /content/drive\n"
          ]
        }
      ],
      "source": [
        "from google.colab import drive\n",
        "from pathlib import Path\n",
        "drive.mount('/content/drive')"
      ]
    },
    {
      "cell_type": "code",
      "source": [
        "#@markdown To access data saved on Shared Folder, add them to \"My drive\" as shortcut first\n",
        "root_path=\"/content/drive/My Drive/\" #@param {type:\"string\"}\n",
        "_root = Path(root_path)\n",
        "#!ls \"$root_path\""
      ],
      "metadata": {
        "id": "JqCp10zLhdbk",
        "cellView": "form"
      },
      "execution_count": null,
      "outputs": []
    },
    {
      "cell_type": "markdown",
      "source": [
        "### Import librabries"
      ],
      "metadata": {
        "id": "t8T0-0-06Vd7"
      }
    },
    {
      "cell_type": "code",
      "source": [
        "import pandas as pd\n",
        "pd.set_option('display.max_columns', None)\n",
        "import numpy as np\n",
        "import sqlite3 as lite"
      ],
      "metadata": {
        "id": "V4fZBnq96bAh"
      },
      "execution_count": null,
      "outputs": []
    },
    {
      "cell_type": "code",
      "source": [
        "import io\n",
        "import json\n",
        "import pyarrow as pa\n",
        "import pyarrow.json as pj\n",
        "import pyarrow.parquet as pq"
      ],
      "metadata": {
        "id": "i50x9D2ltNmp"
      },
      "execution_count": null,
      "outputs": []
    },
    {
      "cell_type": "code",
      "source": [
        "!pip install pyspark"
      ],
      "metadata": {
        "colab": {
          "base_uri": "https://localhost:8080/"
        },
        "id": "NjYBLZs8GBUg",
        "outputId": "d17b6a56-20d0-4739-f122-8fa026038df3"
      },
      "execution_count": null,
      "outputs": [
        {
          "output_type": "stream",
          "name": "stdout",
          "text": [
            "Looking in indexes: https://pypi.org/simple, https://us-python.pkg.dev/colab-wheels/public/simple/\n",
            "Collecting pyspark\n",
            "  Downloading pyspark-3.3.1.tar.gz (281.4 MB)\n",
            "\u001b[K     |████████████████████████████████| 281.4 MB 40 kB/s \n",
            "\u001b[?25hCollecting py4j==0.10.9.5\n",
            "  Downloading py4j-0.10.9.5-py2.py3-none-any.whl (199 kB)\n",
            "\u001b[K     |████████████████████████████████| 199 kB 47.3 MB/s \n",
            "\u001b[?25hBuilding wheels for collected packages: pyspark\n",
            "  Building wheel for pyspark (setup.py) ... \u001b[?25l\u001b[?25hdone\n",
            "  Created wheel for pyspark: filename=pyspark-3.3.1-py2.py3-none-any.whl size=281845512 sha256=d60b15e7d36700bdb1de4cc038dab5a19e6b8db79fbc25fc625c480ac11a98dc\n",
            "  Stored in directory: /root/.cache/pip/wheels/43/dc/11/ec201cd671da62fa9c5cc77078235e40722170ceba231d7598\n",
            "Successfully built pyspark\n",
            "Installing collected packages: py4j, pyspark\n",
            "Successfully installed py4j-0.10.9.5 pyspark-3.3.1\n"
          ]
        }
      ]
    },
    {
      "cell_type": "code",
      "source": [
        "from pyspark.sql import SparkSession\n",
        "import pyspark.sql.functions as F\n",
        "spark = SparkSession.builder\\\n",
        "        .master(\"local\")\\\n",
        "        .getOrCreate()\n",
        "# Enable Arrow-based columnar data transfers\n",
        "spark.conf.set(\"spark.sql.execution.arrow.pyspark.enabled\", \"true\")"
      ],
      "metadata": {
        "id": "XTe4yQ_MGC1Y"
      },
      "execution_count": null,
      "outputs": []
    },
    {
      "cell_type": "markdown",
      "source": [
        "### Helper Function"
      ],
      "metadata": {
        "id": "tSxCJM1VoIXZ"
      }
    },
    {
      "cell_type": "code",
      "source": [
        "def ArrowSchemaToPyDict(dt):\n",
        "  # If this data type is schema or struct\n",
        "  # then iterate each field inside\n",
        "  if isinstance(dt, (pa.lib.Schema, pa.lib.StructType)):\n",
        "    schema = {}\n",
        "    for field in dt:\n",
        "      schema[field.name] = ArrowSchemaToPyDict(field.type)\n",
        "    return schema\n",
        "\n",
        "  # If this data type is list\n",
        "  # then wrap them in a list of struct\n",
        "  elif isinstance(dt, pa.lib.ListType):\n",
        "    return [ArrowSchemaToPyDict(dt.value_field.type)]\n",
        "\n",
        "  # If this data type is arrow defined\n",
        "  # then return string value\n",
        "  elif isinstance(dt, pa.lib.DataType):\n",
        "    return str(dt)"
      ],
      "metadata": {
        "id": "6ce0fea7oK8X"
      },
      "execution_count": null,
      "outputs": []
    },
    {
      "cell_type": "code",
      "source": [
        "def PyDictToArrowSchema(dt, level=0):\n",
        "  if level == 0:\n",
        "    return pa.schema([\n",
        "        (field, PyDictToArrowSchema(dt[field], level=level+1)) for field in dt.keys()\n",
        "    ])\n",
        "  \n",
        "  if isinstance(dt, dict):\n",
        "    return pa.struct([\n",
        "        (field, PyDictToArrowSchema(dt[field], level=level+1)) for field in dt.keys()\n",
        "    ])\n",
        "  elif isinstance(dt, list):\n",
        "    return pa.list_(PyDictToArrowSchema(dt[0], level=level+1))\n",
        "  elif isinstance(dt, str):\n",
        "    map = {\n",
        "        'string': pa.string(),\n",
        "        'int64': pa.int64(),\n",
        "        'bool': pa.bool_(),\n",
        "        'null': pa.null(),\n",
        "        'double': pa.float64()\n",
        "    }\n",
        "    return map[str(dt)]"
      ],
      "metadata": {
        "id": "HT_88ny6ZOLo"
      },
      "execution_count": null,
      "outputs": []
    },
    {
      "cell_type": "code",
      "source": [
        "def ArrowSchemaToDefinition(dt):\n",
        "  # If this data type is schema or struct\n",
        "  # then iterate each field inside\n",
        "  if isinstance(dt, pa.lib.Schema):\n",
        "    def_str = f\"\"\"pa.schema([\n",
        "      {','.join([\n",
        "          'pa.field(\"'+field.name+'\", '+ArrowSchemaToDefinition(field.type)+')' \n",
        "          for field in dt\n",
        "      ])}\n",
        "    ])\"\"\"\n",
        "  elif isinstance(dt, pa.lib.StructType):\n",
        "    def_str = f\"\"\"pa.struct([\n",
        "      {','.join([\n",
        "          'pa.field(\"'+field.name+'\", '+ArrowSchemaToDefinition(field.type)+')' \n",
        "          for field in dt\n",
        "      ])}\n",
        "    ])\"\"\"\n",
        "\n",
        "  # If this data type is list\n",
        "  # then wrap them in a list of struct\n",
        "  elif isinstance(dt, pa.lib.ListType):\n",
        "    def_str = f\"\"\"pa.list_({ArrowSchemaToDefinition(dt.value_field.type)})\"\"\"\n",
        "    \n",
        "  # If this data type is arrow defined\n",
        "  # then return string value\n",
        "  elif isinstance(dt, pa.lib.DataType):\n",
        "    map = {\n",
        "        'string': 'pa.string()',\n",
        "        'int64': 'pa.int64()',\n",
        "        'bool': 'pa.bool_()',\n",
        "        'null': 'pa.null()',\n",
        "        'double': 'pa.float64()'\n",
        "    }\n",
        "    def_str = map[str(dt)]\n",
        "\n",
        "  return def_str"
      ],
      "metadata": {
        "id": "BEH8BI3J0sWO"
      },
      "execution_count": null,
      "outputs": []
    },
    {
      "cell_type": "code",
      "source": [
        "# Stolen from https://stackoverflow.com/questions/71035754/pyarrow-drop-a-column-in-a-nested-structure/71039389#71039389?newreg=0e5baf2fd7184da8adad65c8e1789db3\n",
        "# and improve\n",
        "def ArrowDropNull(array):\n",
        "    # Catch table first\n",
        "    if isinstance(array, pa.Table):\n",
        "        names = []\n",
        "        arrays = []\n",
        "        for field in array.schema:\n",
        "          data = ArrowDropNull(array[field.name])\n",
        "          if data is not None:\n",
        "            names.append(field.name)\n",
        "            arrays.append(data)\n",
        "        return pa.Table.from_arrays(arrays, names)\n",
        "\n",
        "    # Catch null type second\n",
        "    if pa.types.is_null(array.type): return None\n",
        "\n",
        "    # Catch other types later\n",
        "    if pa.types.is_struct(array.type):\n",
        "        # Bắt buộc phải gom chunked array -> StructArray\n",
        "        if isinstance(array, pa.ChunkedArray):\n",
        "            array = array.combine_chunks()\n",
        "        names = []\n",
        "        arrays = []\n",
        "        for index, field in enumerate(array.type):\n",
        "          data = ArrowDropNull(array.field(index))\n",
        "          if data is not None:\n",
        "            names.append(field.name)\n",
        "            arrays.append(data)        \n",
        "        if len(arrays) == 0: return None  \n",
        "        else: return pa.StructArray.from_arrays(arrays, names)\n",
        "\n",
        "    elif pa.types.is_list(array.type):\n",
        "        if isinstance(array, pa.ChunkedArray):\n",
        "            array = array.combine_chunks()\n",
        "        offset = array.offsets\n",
        "        value = ArrowDropNull(array.values)\n",
        "        if value is None: return None\n",
        "        else: return pa.ListArray.from_arrays(offset, value)\n",
        "    else:\n",
        "        return array"
      ],
      "metadata": {
        "id": "2uEto8ymhla6"
      },
      "execution_count": null,
      "outputs": []
    },
    {
      "cell_type": "markdown",
      "source": [
        "# Main"
      ],
      "metadata": {
        "id": "anf7ecYTMFr6"
      }
    },
    {
      "cell_type": "markdown",
      "source": [
        "## Foody file"
      ],
      "metadata": {
        "id": "0BNS7uD_MHEb"
      }
    },
    {
      "cell_type": "code",
      "source": [
        "!ls drive/MyDrive/Data/'1 - raw data'/foody/hcmc-foody-0-101000/"
      ],
      "metadata": {
        "colab": {
          "base_uri": "https://localhost:8080/"
        },
        "id": "gVwAjdoSe2gl",
        "outputId": "c42c30f7-5b10-4623-c89c-8afb1becb400"
      },
      "execution_count": null,
      "outputs": [
        {
          "output_type": "stream",
          "name": "stdout",
          "text": [
            "hcmc-0-101000.csv\t       hcmc-0-101000-update-2.csv\n",
            "hcmc-0-101000-update-1.csv     hcmc-0-101000-update-3.csv\n",
            "hcmc-0-101000-update-1.gsheet  url-hcmc-0-101000.csv\n"
          ]
        }
      ]
    },
    {
      "cell_type": "code",
      "source": [
        "#@markdown Read latest foody data file\n",
        "# foody_file_path = \"foody/hcmc-foody-0-101000/hcmc-0-101000-update-3.csv\" #@param {type:\"string\"}\n",
        "# df = pd.read_csv(_root.joinpath(foody_file_path))\n",
        "df = pd.read_csv('drive/MyDrive/Data/1 - raw data/foody/hcmc-foody-0-101000/hcmc-0-101000-update-3.csv')\n",
        "df.head(2)"
      ],
      "metadata": {
        "colab": {
          "base_uri": "https://localhost:8080/",
          "height": 332
        },
        "cellView": "form",
        "id": "GD9JPQGl2wqD",
        "outputId": "3f8c6d5f-dc26-4e44-d8f5-1b9967c2647e"
      },
      "execution_count": null,
      "outputs": [
        {
          "output_type": "execute_result",
          "data": {
            "text/plain": [
              "    latitude   longitude  restaurant_id  district_id  city_id  \\\n",
              "0  10.785022  106.698976       678064.0          1.0    217.0   \n",
              "1  10.771073  106.703596       210493.0          1.0    217.0   \n",
              "\n",
              "                              name              street_address  \\\n",
              "0               Bún Miến Gà Vỉa Hè  37 Mạc Đĩnh Chi, P. Đa Kao   \n",
              "1  Thiên Nhiên - Vịt Quay Heo Quay                 56 Hàm Nghi   \n",
              "\n",
              "               area_address district_address region_address category  \\\n",
              "0  Khu vực Đài Truyền Hình            Quận 1        TP. HCM  Quán ăn   \n",
              "1    Khu vực Bitexco Tower            Quận 1        TP. HCM  Quán ăn   \n",
              "\n",
              "    cuisine                            audience  average_rating  \\\n",
              "0  Món Việt  Gia đình, Nhóm hội, Giới văn phòng             8.0   \n",
              "1  Món Việt  Gia đình, Nhóm hội, Giới văn phòng             8.0   \n",
              "\n",
              "  position_rating price_rating quality_rating service_rating space_rating  \\\n",
              "0             7.5          9.0            8.5            8.5          6.5   \n",
              "1            10.0         10.0           10.0            5.0          5.0   \n",
              "\n",
              "   review_count  review_excellent_count  review_good_count  \\\n",
              "0           2.0                     0.0                2.0   \n",
              "1           1.0                     0.0                1.0   \n",
              "\n",
              "   review_average_count  review_bad_count  view_count  checked_in_count  \\\n",
              "0                   0.0               0.0       237.0               0.0   \n",
              "1                   0.0               0.0       635.0               1.0   \n",
              "\n",
              "   favourite_count  wanted_count  picture_count          status  \\\n",
              "0              2.0           6.0            7.0  Đang hoạt động   \n",
              "1              1.0           3.0            2.0  Đang hoạt động   \n",
              "\n",
              "      time_clock         price_range  \\\n",
              "0  11:00 - 13:00   20.000đ - 25.000đ   \n",
              "1  08:30 - 22:00  50.000đ - 200.000đ   \n",
              "\n",
              "                                                 url  \n",
              "0  http://www.foody.vn/ho-chi-minh/bun-mien-ga-vi...  \n",
              "1  http://www.foody.vn/ho-chi-minh/thien-nhien-vi...  "
            ],
            "text/html": [
              "\n",
              "  <div id=\"df-9b6bb85c-ae40-4266-b82a-49c576694bea\">\n",
              "    <div class=\"colab-df-container\">\n",
              "      <div>\n",
              "<style scoped>\n",
              "    .dataframe tbody tr th:only-of-type {\n",
              "        vertical-align: middle;\n",
              "    }\n",
              "\n",
              "    .dataframe tbody tr th {\n",
              "        vertical-align: top;\n",
              "    }\n",
              "\n",
              "    .dataframe thead th {\n",
              "        text-align: right;\n",
              "    }\n",
              "</style>\n",
              "<table border=\"1\" class=\"dataframe\">\n",
              "  <thead>\n",
              "    <tr style=\"text-align: right;\">\n",
              "      <th></th>\n",
              "      <th>latitude</th>\n",
              "      <th>longitude</th>\n",
              "      <th>restaurant_id</th>\n",
              "      <th>district_id</th>\n",
              "      <th>city_id</th>\n",
              "      <th>name</th>\n",
              "      <th>street_address</th>\n",
              "      <th>area_address</th>\n",
              "      <th>district_address</th>\n",
              "      <th>region_address</th>\n",
              "      <th>category</th>\n",
              "      <th>cuisine</th>\n",
              "      <th>audience</th>\n",
              "      <th>average_rating</th>\n",
              "      <th>position_rating</th>\n",
              "      <th>price_rating</th>\n",
              "      <th>quality_rating</th>\n",
              "      <th>service_rating</th>\n",
              "      <th>space_rating</th>\n",
              "      <th>review_count</th>\n",
              "      <th>review_excellent_count</th>\n",
              "      <th>review_good_count</th>\n",
              "      <th>review_average_count</th>\n",
              "      <th>review_bad_count</th>\n",
              "      <th>view_count</th>\n",
              "      <th>checked_in_count</th>\n",
              "      <th>favourite_count</th>\n",
              "      <th>wanted_count</th>\n",
              "      <th>picture_count</th>\n",
              "      <th>status</th>\n",
              "      <th>time_clock</th>\n",
              "      <th>price_range</th>\n",
              "      <th>url</th>\n",
              "    </tr>\n",
              "  </thead>\n",
              "  <tbody>\n",
              "    <tr>\n",
              "      <th>0</th>\n",
              "      <td>10.785022</td>\n",
              "      <td>106.698976</td>\n",
              "      <td>678064.0</td>\n",
              "      <td>1.0</td>\n",
              "      <td>217.0</td>\n",
              "      <td>Bún Miến Gà Vỉa Hè</td>\n",
              "      <td>37 Mạc Đĩnh Chi, P. Đa Kao</td>\n",
              "      <td>Khu vực Đài Truyền Hình</td>\n",
              "      <td>Quận 1</td>\n",
              "      <td>TP. HCM</td>\n",
              "      <td>Quán ăn</td>\n",
              "      <td>Món Việt</td>\n",
              "      <td>Gia đình, Nhóm hội, Giới văn phòng</td>\n",
              "      <td>8.0</td>\n",
              "      <td>7.5</td>\n",
              "      <td>9.0</td>\n",
              "      <td>8.5</td>\n",
              "      <td>8.5</td>\n",
              "      <td>6.5</td>\n",
              "      <td>2.0</td>\n",
              "      <td>0.0</td>\n",
              "      <td>2.0</td>\n",
              "      <td>0.0</td>\n",
              "      <td>0.0</td>\n",
              "      <td>237.0</td>\n",
              "      <td>0.0</td>\n",
              "      <td>2.0</td>\n",
              "      <td>6.0</td>\n",
              "      <td>7.0</td>\n",
              "      <td>Đang hoạt động</td>\n",
              "      <td>11:00 - 13:00</td>\n",
              "      <td>20.000đ - 25.000đ</td>\n",
              "      <td>http://www.foody.vn/ho-chi-minh/bun-mien-ga-vi...</td>\n",
              "    </tr>\n",
              "    <tr>\n",
              "      <th>1</th>\n",
              "      <td>10.771073</td>\n",
              "      <td>106.703596</td>\n",
              "      <td>210493.0</td>\n",
              "      <td>1.0</td>\n",
              "      <td>217.0</td>\n",
              "      <td>Thiên Nhiên - Vịt Quay Heo Quay</td>\n",
              "      <td>56 Hàm Nghi</td>\n",
              "      <td>Khu vực Bitexco Tower</td>\n",
              "      <td>Quận 1</td>\n",
              "      <td>TP. HCM</td>\n",
              "      <td>Quán ăn</td>\n",
              "      <td>Món Việt</td>\n",
              "      <td>Gia đình, Nhóm hội, Giới văn phòng</td>\n",
              "      <td>8.0</td>\n",
              "      <td>10.0</td>\n",
              "      <td>10.0</td>\n",
              "      <td>10.0</td>\n",
              "      <td>5.0</td>\n",
              "      <td>5.0</td>\n",
              "      <td>1.0</td>\n",
              "      <td>0.0</td>\n",
              "      <td>1.0</td>\n",
              "      <td>0.0</td>\n",
              "      <td>0.0</td>\n",
              "      <td>635.0</td>\n",
              "      <td>1.0</td>\n",
              "      <td>1.0</td>\n",
              "      <td>3.0</td>\n",
              "      <td>2.0</td>\n",
              "      <td>Đang hoạt động</td>\n",
              "      <td>08:30 - 22:00</td>\n",
              "      <td>50.000đ - 200.000đ</td>\n",
              "      <td>http://www.foody.vn/ho-chi-minh/thien-nhien-vi...</td>\n",
              "    </tr>\n",
              "  </tbody>\n",
              "</table>\n",
              "</div>\n",
              "      <button class=\"colab-df-convert\" onclick=\"convertToInteractive('df-9b6bb85c-ae40-4266-b82a-49c576694bea')\"\n",
              "              title=\"Convert this dataframe to an interactive table.\"\n",
              "              style=\"display:none;\">\n",
              "        \n",
              "  <svg xmlns=\"http://www.w3.org/2000/svg\" height=\"24px\"viewBox=\"0 0 24 24\"\n",
              "       width=\"24px\">\n",
              "    <path d=\"M0 0h24v24H0V0z\" fill=\"none\"/>\n",
              "    <path d=\"M18.56 5.44l.94 2.06.94-2.06 2.06-.94-2.06-.94-.94-2.06-.94 2.06-2.06.94zm-11 1L8.5 8.5l.94-2.06 2.06-.94-2.06-.94L8.5 2.5l-.94 2.06-2.06.94zm10 10l.94 2.06.94-2.06 2.06-.94-2.06-.94-.94-2.06-.94 2.06-2.06.94z\"/><path d=\"M17.41 7.96l-1.37-1.37c-.4-.4-.92-.59-1.43-.59-.52 0-1.04.2-1.43.59L10.3 9.45l-7.72 7.72c-.78.78-.78 2.05 0 2.83L4 21.41c.39.39.9.59 1.41.59.51 0 1.02-.2 1.41-.59l7.78-7.78 2.81-2.81c.8-.78.8-2.07 0-2.86zM5.41 20L4 18.59l7.72-7.72 1.47 1.35L5.41 20z\"/>\n",
              "  </svg>\n",
              "      </button>\n",
              "      \n",
              "  <style>\n",
              "    .colab-df-container {\n",
              "      display:flex;\n",
              "      flex-wrap:wrap;\n",
              "      gap: 12px;\n",
              "    }\n",
              "\n",
              "    .colab-df-convert {\n",
              "      background-color: #E8F0FE;\n",
              "      border: none;\n",
              "      border-radius: 50%;\n",
              "      cursor: pointer;\n",
              "      display: none;\n",
              "      fill: #1967D2;\n",
              "      height: 32px;\n",
              "      padding: 0 0 0 0;\n",
              "      width: 32px;\n",
              "    }\n",
              "\n",
              "    .colab-df-convert:hover {\n",
              "      background-color: #E2EBFA;\n",
              "      box-shadow: 0px 1px 2px rgba(60, 64, 67, 0.3), 0px 1px 3px 1px rgba(60, 64, 67, 0.15);\n",
              "      fill: #174EA6;\n",
              "    }\n",
              "\n",
              "    [theme=dark] .colab-df-convert {\n",
              "      background-color: #3B4455;\n",
              "      fill: #D2E3FC;\n",
              "    }\n",
              "\n",
              "    [theme=dark] .colab-df-convert:hover {\n",
              "      background-color: #434B5C;\n",
              "      box-shadow: 0px 1px 3px 1px rgba(0, 0, 0, 0.15);\n",
              "      filter: drop-shadow(0px 1px 2px rgba(0, 0, 0, 0.3));\n",
              "      fill: #FFFFFF;\n",
              "    }\n",
              "  </style>\n",
              "\n",
              "      <script>\n",
              "        const buttonEl =\n",
              "          document.querySelector('#df-9b6bb85c-ae40-4266-b82a-49c576694bea button.colab-df-convert');\n",
              "        buttonEl.style.display =\n",
              "          google.colab.kernel.accessAllowed ? 'block' : 'none';\n",
              "\n",
              "        async function convertToInteractive(key) {\n",
              "          const element = document.querySelector('#df-9b6bb85c-ae40-4266-b82a-49c576694bea');\n",
              "          const dataTable =\n",
              "            await google.colab.kernel.invokeFunction('convertToInteractive',\n",
              "                                                     [key], {});\n",
              "          if (!dataTable) return;\n",
              "\n",
              "          const docLinkHtml = 'Like what you see? Visit the ' +\n",
              "            '<a target=\"_blank\" href=https://colab.research.google.com/notebooks/data_table.ipynb>data table notebook</a>'\n",
              "            + ' to learn more about interactive tables.';\n",
              "          element.innerHTML = '';\n",
              "          dataTable['output_type'] = 'display_data';\n",
              "          await google.colab.output.renderOutput(dataTable, element);\n",
              "          const docLink = document.createElement('div');\n",
              "          docLink.innerHTML = docLinkHtml;\n",
              "          element.appendChild(docLink);\n",
              "        }\n",
              "      </script>\n",
              "    </div>\n",
              "  </div>\n",
              "  "
            ]
          },
          "metadata": {},
          "execution_count": 24
        }
      ]
    },
    {
      "cell_type": "code",
      "source": [
        "#@markdown Drop rows without `restaurant_id` and convert ID columns to integer\n",
        "df = df[~df[\"restaurant_id\"].isna()]\n",
        "df = df.astype({\n",
        "    \"restaurant_id\": 'Int64', \n",
        "    \"district_id\": 'Int64', \n",
        "    \"city_id\": 'Int64', \n",
        "    \"review_count\": 'Int64', \n",
        "    \"review_excellent_count\": 'Int64', \n",
        "    \"review_good_count\": 'Int64', \n",
        "    \"review_average_count\": 'Int64', \n",
        "    \"review_bad_count\": 'Int64', \n",
        "    \"view_count\": 'Int64', \n",
        "    \"checked_in_count\": 'Int64', \n",
        "    \"favourite_count\": 'Int64', \n",
        "    \"wanted_count\": 'Int64', \n",
        "    \"picture_count\": 'Int64', \n",
        "})\n",
        "df.head(2)"
      ],
      "metadata": {
        "colab": {
          "base_uri": "https://localhost:8080/",
          "height": 332
        },
        "id": "cZ8sdRn86iBJ",
        "outputId": "69e52e82-ecca-4bfa-cc9f-62d1bc6a941c"
      },
      "execution_count": null,
      "outputs": [
        {
          "output_type": "execute_result",
          "data": {
            "text/plain": [
              "    latitude   longitude  restaurant_id  district_id  city_id  \\\n",
              "0  10.785022  106.698976         678064            1      217   \n",
              "1  10.771073  106.703596         210493            1      217   \n",
              "\n",
              "                              name              street_address  \\\n",
              "0               Bún Miến Gà Vỉa Hè  37 Mạc Đĩnh Chi, P. Đa Kao   \n",
              "1  Thiên Nhiên - Vịt Quay Heo Quay                 56 Hàm Nghi   \n",
              "\n",
              "               area_address district_address region_address category  \\\n",
              "0  Khu vực Đài Truyền Hình            Quận 1        TP. HCM  Quán ăn   \n",
              "1    Khu vực Bitexco Tower            Quận 1        TP. HCM  Quán ăn   \n",
              "\n",
              "    cuisine                            audience  average_rating  \\\n",
              "0  Món Việt  Gia đình, Nhóm hội, Giới văn phòng             8.0   \n",
              "1  Món Việt  Gia đình, Nhóm hội, Giới văn phòng             8.0   \n",
              "\n",
              "  position_rating price_rating quality_rating service_rating space_rating  \\\n",
              "0             7.5          9.0            8.5            8.5          6.5   \n",
              "1            10.0         10.0           10.0            5.0          5.0   \n",
              "\n",
              "   review_count  review_excellent_count  review_good_count  \\\n",
              "0             2                       0                  2   \n",
              "1             1                       0                  1   \n",
              "\n",
              "   review_average_count  review_bad_count  view_count  checked_in_count  \\\n",
              "0                     0                 0         237                 0   \n",
              "1                     0                 0         635                 1   \n",
              "\n",
              "   favourite_count  wanted_count  picture_count          status  \\\n",
              "0                2             6              7  Đang hoạt động   \n",
              "1                1             3              2  Đang hoạt động   \n",
              "\n",
              "      time_clock         price_range  \\\n",
              "0  11:00 - 13:00   20.000đ - 25.000đ   \n",
              "1  08:30 - 22:00  50.000đ - 200.000đ   \n",
              "\n",
              "                                                 url  \n",
              "0  http://www.foody.vn/ho-chi-minh/bun-mien-ga-vi...  \n",
              "1  http://www.foody.vn/ho-chi-minh/thien-nhien-vi...  "
            ],
            "text/html": [
              "\n",
              "  <div id=\"df-8c4837ca-1d2a-4a25-93c7-d882401c1d54\">\n",
              "    <div class=\"colab-df-container\">\n",
              "      <div>\n",
              "<style scoped>\n",
              "    .dataframe tbody tr th:only-of-type {\n",
              "        vertical-align: middle;\n",
              "    }\n",
              "\n",
              "    .dataframe tbody tr th {\n",
              "        vertical-align: top;\n",
              "    }\n",
              "\n",
              "    .dataframe thead th {\n",
              "        text-align: right;\n",
              "    }\n",
              "</style>\n",
              "<table border=\"1\" class=\"dataframe\">\n",
              "  <thead>\n",
              "    <tr style=\"text-align: right;\">\n",
              "      <th></th>\n",
              "      <th>latitude</th>\n",
              "      <th>longitude</th>\n",
              "      <th>restaurant_id</th>\n",
              "      <th>district_id</th>\n",
              "      <th>city_id</th>\n",
              "      <th>name</th>\n",
              "      <th>street_address</th>\n",
              "      <th>area_address</th>\n",
              "      <th>district_address</th>\n",
              "      <th>region_address</th>\n",
              "      <th>category</th>\n",
              "      <th>cuisine</th>\n",
              "      <th>audience</th>\n",
              "      <th>average_rating</th>\n",
              "      <th>position_rating</th>\n",
              "      <th>price_rating</th>\n",
              "      <th>quality_rating</th>\n",
              "      <th>service_rating</th>\n",
              "      <th>space_rating</th>\n",
              "      <th>review_count</th>\n",
              "      <th>review_excellent_count</th>\n",
              "      <th>review_good_count</th>\n",
              "      <th>review_average_count</th>\n",
              "      <th>review_bad_count</th>\n",
              "      <th>view_count</th>\n",
              "      <th>checked_in_count</th>\n",
              "      <th>favourite_count</th>\n",
              "      <th>wanted_count</th>\n",
              "      <th>picture_count</th>\n",
              "      <th>status</th>\n",
              "      <th>time_clock</th>\n",
              "      <th>price_range</th>\n",
              "      <th>url</th>\n",
              "    </tr>\n",
              "  </thead>\n",
              "  <tbody>\n",
              "    <tr>\n",
              "      <th>0</th>\n",
              "      <td>10.785022</td>\n",
              "      <td>106.698976</td>\n",
              "      <td>678064</td>\n",
              "      <td>1</td>\n",
              "      <td>217</td>\n",
              "      <td>Bún Miến Gà Vỉa Hè</td>\n",
              "      <td>37 Mạc Đĩnh Chi, P. Đa Kao</td>\n",
              "      <td>Khu vực Đài Truyền Hình</td>\n",
              "      <td>Quận 1</td>\n",
              "      <td>TP. HCM</td>\n",
              "      <td>Quán ăn</td>\n",
              "      <td>Món Việt</td>\n",
              "      <td>Gia đình, Nhóm hội, Giới văn phòng</td>\n",
              "      <td>8.0</td>\n",
              "      <td>7.5</td>\n",
              "      <td>9.0</td>\n",
              "      <td>8.5</td>\n",
              "      <td>8.5</td>\n",
              "      <td>6.5</td>\n",
              "      <td>2</td>\n",
              "      <td>0</td>\n",
              "      <td>2</td>\n",
              "      <td>0</td>\n",
              "      <td>0</td>\n",
              "      <td>237</td>\n",
              "      <td>0</td>\n",
              "      <td>2</td>\n",
              "      <td>6</td>\n",
              "      <td>7</td>\n",
              "      <td>Đang hoạt động</td>\n",
              "      <td>11:00 - 13:00</td>\n",
              "      <td>20.000đ - 25.000đ</td>\n",
              "      <td>http://www.foody.vn/ho-chi-minh/bun-mien-ga-vi...</td>\n",
              "    </tr>\n",
              "    <tr>\n",
              "      <th>1</th>\n",
              "      <td>10.771073</td>\n",
              "      <td>106.703596</td>\n",
              "      <td>210493</td>\n",
              "      <td>1</td>\n",
              "      <td>217</td>\n",
              "      <td>Thiên Nhiên - Vịt Quay Heo Quay</td>\n",
              "      <td>56 Hàm Nghi</td>\n",
              "      <td>Khu vực Bitexco Tower</td>\n",
              "      <td>Quận 1</td>\n",
              "      <td>TP. HCM</td>\n",
              "      <td>Quán ăn</td>\n",
              "      <td>Món Việt</td>\n",
              "      <td>Gia đình, Nhóm hội, Giới văn phòng</td>\n",
              "      <td>8.0</td>\n",
              "      <td>10.0</td>\n",
              "      <td>10.0</td>\n",
              "      <td>10.0</td>\n",
              "      <td>5.0</td>\n",
              "      <td>5.0</td>\n",
              "      <td>1</td>\n",
              "      <td>0</td>\n",
              "      <td>1</td>\n",
              "      <td>0</td>\n",
              "      <td>0</td>\n",
              "      <td>635</td>\n",
              "      <td>1</td>\n",
              "      <td>1</td>\n",
              "      <td>3</td>\n",
              "      <td>2</td>\n",
              "      <td>Đang hoạt động</td>\n",
              "      <td>08:30 - 22:00</td>\n",
              "      <td>50.000đ - 200.000đ</td>\n",
              "      <td>http://www.foody.vn/ho-chi-minh/thien-nhien-vi...</td>\n",
              "    </tr>\n",
              "  </tbody>\n",
              "</table>\n",
              "</div>\n",
              "      <button class=\"colab-df-convert\" onclick=\"convertToInteractive('df-8c4837ca-1d2a-4a25-93c7-d882401c1d54')\"\n",
              "              title=\"Convert this dataframe to an interactive table.\"\n",
              "              style=\"display:none;\">\n",
              "        \n",
              "  <svg xmlns=\"http://www.w3.org/2000/svg\" height=\"24px\"viewBox=\"0 0 24 24\"\n",
              "       width=\"24px\">\n",
              "    <path d=\"M0 0h24v24H0V0z\" fill=\"none\"/>\n",
              "    <path d=\"M18.56 5.44l.94 2.06.94-2.06 2.06-.94-2.06-.94-.94-2.06-.94 2.06-2.06.94zm-11 1L8.5 8.5l.94-2.06 2.06-.94-2.06-.94L8.5 2.5l-.94 2.06-2.06.94zm10 10l.94 2.06.94-2.06 2.06-.94-2.06-.94-.94-2.06-.94 2.06-2.06.94z\"/><path d=\"M17.41 7.96l-1.37-1.37c-.4-.4-.92-.59-1.43-.59-.52 0-1.04.2-1.43.59L10.3 9.45l-7.72 7.72c-.78.78-.78 2.05 0 2.83L4 21.41c.39.39.9.59 1.41.59.51 0 1.02-.2 1.41-.59l7.78-7.78 2.81-2.81c.8-.78.8-2.07 0-2.86zM5.41 20L4 18.59l7.72-7.72 1.47 1.35L5.41 20z\"/>\n",
              "  </svg>\n",
              "      </button>\n",
              "      \n",
              "  <style>\n",
              "    .colab-df-container {\n",
              "      display:flex;\n",
              "      flex-wrap:wrap;\n",
              "      gap: 12px;\n",
              "    }\n",
              "\n",
              "    .colab-df-convert {\n",
              "      background-color: #E8F0FE;\n",
              "      border: none;\n",
              "      border-radius: 50%;\n",
              "      cursor: pointer;\n",
              "      display: none;\n",
              "      fill: #1967D2;\n",
              "      height: 32px;\n",
              "      padding: 0 0 0 0;\n",
              "      width: 32px;\n",
              "    }\n",
              "\n",
              "    .colab-df-convert:hover {\n",
              "      background-color: #E2EBFA;\n",
              "      box-shadow: 0px 1px 2px rgba(60, 64, 67, 0.3), 0px 1px 3px 1px rgba(60, 64, 67, 0.15);\n",
              "      fill: #174EA6;\n",
              "    }\n",
              "\n",
              "    [theme=dark] .colab-df-convert {\n",
              "      background-color: #3B4455;\n",
              "      fill: #D2E3FC;\n",
              "    }\n",
              "\n",
              "    [theme=dark] .colab-df-convert:hover {\n",
              "      background-color: #434B5C;\n",
              "      box-shadow: 0px 1px 3px 1px rgba(0, 0, 0, 0.15);\n",
              "      filter: drop-shadow(0px 1px 2px rgba(0, 0, 0, 0.3));\n",
              "      fill: #FFFFFF;\n",
              "    }\n",
              "  </style>\n",
              "\n",
              "      <script>\n",
              "        const buttonEl =\n",
              "          document.querySelector('#df-8c4837ca-1d2a-4a25-93c7-d882401c1d54 button.colab-df-convert');\n",
              "        buttonEl.style.display =\n",
              "          google.colab.kernel.accessAllowed ? 'block' : 'none';\n",
              "\n",
              "        async function convertToInteractive(key) {\n",
              "          const element = document.querySelector('#df-8c4837ca-1d2a-4a25-93c7-d882401c1d54');\n",
              "          const dataTable =\n",
              "            await google.colab.kernel.invokeFunction('convertToInteractive',\n",
              "                                                     [key], {});\n",
              "          if (!dataTable) return;\n",
              "\n",
              "          const docLinkHtml = 'Like what you see? Visit the ' +\n",
              "            '<a target=\"_blank\" href=https://colab.research.google.com/notebooks/data_table.ipynb>data table notebook</a>'\n",
              "            + ' to learn more about interactive tables.';\n",
              "          element.innerHTML = '';\n",
              "          dataTable['output_type'] = 'display_data';\n",
              "          await google.colab.output.renderOutput(dataTable, element);\n",
              "          const docLink = document.createElement('div');\n",
              "          docLink.innerHTML = docLinkHtml;\n",
              "          element.appendChild(docLink);\n",
              "        }\n",
              "      </script>\n",
              "    </div>\n",
              "  </div>\n",
              "  "
            ]
          },
          "metadata": {},
          "execution_count": 25
        }
      ]
    },
    {
      "cell_type": "code",
      "source": [
        "#@markdown Drop rows without `restaurant_id`\n",
        "# df = df[~df[\"restaurant_id\"].isna()]"
      ],
      "metadata": {
        "id": "ySMpW72FPjsv"
      },
      "execution_count": null,
      "outputs": []
    },
    {
      "cell_type": "markdown",
      "source": [
        "### Extract areas from dataframe"
      ],
      "metadata": {
        "id": "YVzrYgII5Ihe"
      }
    },
    {
      "cell_type": "code",
      "source": [
        "try:\n",
        "    conn = lite.connect(db_path)\n",
        "    print(f\"sqlite3 {lite.version} has connected to database successfully\")\n",
        "except lite.Error as e:\n",
        "    print(\"Error: \", e)"
      ],
      "metadata": {
        "id": "qjC3TFbzg_87"
      },
      "execution_count": null,
      "outputs": []
    },
    {
      "cell_type": "code",
      "source": [
        "with conn:\n",
        "    cur = conn.cursor()\n",
        "    # cur.execute(\"DROP TABLE DIM_AREAS\")\n",
        "    # cur.execute(\"DELETE FROM DIM_AREAS\")\n",
        "    cur.execute(\"CREATE TABLE IF NOT EXISTS DIM_AREAS (\\\n",
        "      id INTEGER PRIMARY KEY AUTOINCREMENT,\\\n",
        "      area_address text,\\\n",
        "      district_address text,\\\n",
        "      region_address text,\\\n",
        "      UNIQUE(area_address, district_address, region_address)\\\n",
        "    )\")"
      ],
      "metadata": {
        "id": "SBbnLpjP9tHO"
      },
      "execution_count": null,
      "outputs": []
    },
    {
      "cell_type": "code",
      "source": [
        "#@markdown Extract areas info from dataframe and insert into database\n",
        "areas_df = df[[\"area_address\", \"district_address\", \"region_address\"]].drop_duplicates()\n",
        "cols = areas_df.columns.to_list()\n",
        "\n",
        "# Handle existing areas from database, by merge and drop overlapped rows\n",
        "existing_areas_df = pd.read_sql_query(\"SELECT * FROM DIM_AREAS\", conn)\n",
        "areas_df = areas_df.merge(existing_areas_df, on=cols, how=\"left\", indicator=True)\n",
        "areas_df = areas_df[areas_df[\"_merge\"]==\"left_only\"][cols]\n",
        "\n",
        "areas_df.to_sql(\"DIM_AREAS\", conn, if_exists=\"append\", index=False)\n",
        "existing_areas_df = pd.read_sql_query(\"SELECT * from DIM_AREAS\", conn)\n",
        "existing_areas_df.head()"
      ],
      "metadata": {
        "colab": {
          "base_uri": "https://localhost:8080/"
        },
        "id": "l5CQExDc8Rfj",
        "outputId": "d79cd659-9abf-472e-a8d6-70a111cef446"
      },
      "execution_count": null,
      "outputs": [
        {
          "output_type": "execute_result",
          "data": {
            "text/plain": [
              "   id              area_address district_address region_address\n",
              "0   1  Khu vực Đài Truyền Hình            Quận 1        TP. HCM\n",
              "1   2    Khu vực Bitexco Tower            Quận 1        TP. HCM\n",
              "2   3        Khu vực Zen Plaza            Quận 1        TP. HCM\n",
              "3   4     Khu vực Chợ Tân Định            Quận 1        TP. HCM\n",
              "4   5     Khu vực Cầu Ông Lãnh            Quận 1        TP. HCM"
            ],
            "text/html": [
              "\n",
              "  <div id=\"df-f23d2060-32b2-460e-a3b1-fac7064aff13\">\n",
              "    <div class=\"colab-df-container\">\n",
              "      <div>\n",
              "<style scoped>\n",
              "    .dataframe tbody tr th:only-of-type {\n",
              "        vertical-align: middle;\n",
              "    }\n",
              "\n",
              "    .dataframe tbody tr th {\n",
              "        vertical-align: top;\n",
              "    }\n",
              "\n",
              "    .dataframe thead th {\n",
              "        text-align: right;\n",
              "    }\n",
              "</style>\n",
              "<table border=\"1\" class=\"dataframe\">\n",
              "  <thead>\n",
              "    <tr style=\"text-align: right;\">\n",
              "      <th></th>\n",
              "      <th>id</th>\n",
              "      <th>area_address</th>\n",
              "      <th>district_address</th>\n",
              "      <th>region_address</th>\n",
              "    </tr>\n",
              "  </thead>\n",
              "  <tbody>\n",
              "    <tr>\n",
              "      <th>0</th>\n",
              "      <td>1</td>\n",
              "      <td>Khu vực Đài Truyền Hình</td>\n",
              "      <td>Quận 1</td>\n",
              "      <td>TP. HCM</td>\n",
              "    </tr>\n",
              "    <tr>\n",
              "      <th>1</th>\n",
              "      <td>2</td>\n",
              "      <td>Khu vực Bitexco Tower</td>\n",
              "      <td>Quận 1</td>\n",
              "      <td>TP. HCM</td>\n",
              "    </tr>\n",
              "    <tr>\n",
              "      <th>2</th>\n",
              "      <td>3</td>\n",
              "      <td>Khu vực Zen Plaza</td>\n",
              "      <td>Quận 1</td>\n",
              "      <td>TP. HCM</td>\n",
              "    </tr>\n",
              "    <tr>\n",
              "      <th>3</th>\n",
              "      <td>4</td>\n",
              "      <td>Khu vực Chợ Tân Định</td>\n",
              "      <td>Quận 1</td>\n",
              "      <td>TP. HCM</td>\n",
              "    </tr>\n",
              "    <tr>\n",
              "      <th>4</th>\n",
              "      <td>5</td>\n",
              "      <td>Khu vực Cầu Ông Lãnh</td>\n",
              "      <td>Quận 1</td>\n",
              "      <td>TP. HCM</td>\n",
              "    </tr>\n",
              "  </tbody>\n",
              "</table>\n",
              "</div>\n",
              "      <button class=\"colab-df-convert\" onclick=\"convertToInteractive('df-f23d2060-32b2-460e-a3b1-fac7064aff13')\"\n",
              "              title=\"Convert this dataframe to an interactive table.\"\n",
              "              style=\"display:none;\">\n",
              "        \n",
              "  <svg xmlns=\"http://www.w3.org/2000/svg\" height=\"24px\"viewBox=\"0 0 24 24\"\n",
              "       width=\"24px\">\n",
              "    <path d=\"M0 0h24v24H0V0z\" fill=\"none\"/>\n",
              "    <path d=\"M18.56 5.44l.94 2.06.94-2.06 2.06-.94-2.06-.94-.94-2.06-.94 2.06-2.06.94zm-11 1L8.5 8.5l.94-2.06 2.06-.94-2.06-.94L8.5 2.5l-.94 2.06-2.06.94zm10 10l.94 2.06.94-2.06 2.06-.94-2.06-.94-.94-2.06-.94 2.06-2.06.94z\"/><path d=\"M17.41 7.96l-1.37-1.37c-.4-.4-.92-.59-1.43-.59-.52 0-1.04.2-1.43.59L10.3 9.45l-7.72 7.72c-.78.78-.78 2.05 0 2.83L4 21.41c.39.39.9.59 1.41.59.51 0 1.02-.2 1.41-.59l7.78-7.78 2.81-2.81c.8-.78.8-2.07 0-2.86zM5.41 20L4 18.59l7.72-7.72 1.47 1.35L5.41 20z\"/>\n",
              "  </svg>\n",
              "      </button>\n",
              "      \n",
              "  <style>\n",
              "    .colab-df-container {\n",
              "      display:flex;\n",
              "      flex-wrap:wrap;\n",
              "      gap: 12px;\n",
              "    }\n",
              "\n",
              "    .colab-df-convert {\n",
              "      background-color: #E8F0FE;\n",
              "      border: none;\n",
              "      border-radius: 50%;\n",
              "      cursor: pointer;\n",
              "      display: none;\n",
              "      fill: #1967D2;\n",
              "      height: 32px;\n",
              "      padding: 0 0 0 0;\n",
              "      width: 32px;\n",
              "    }\n",
              "\n",
              "    .colab-df-convert:hover {\n",
              "      background-color: #E2EBFA;\n",
              "      box-shadow: 0px 1px 2px rgba(60, 64, 67, 0.3), 0px 1px 3px 1px rgba(60, 64, 67, 0.15);\n",
              "      fill: #174EA6;\n",
              "    }\n",
              "\n",
              "    [theme=dark] .colab-df-convert {\n",
              "      background-color: #3B4455;\n",
              "      fill: #D2E3FC;\n",
              "    }\n",
              "\n",
              "    [theme=dark] .colab-df-convert:hover {\n",
              "      background-color: #434B5C;\n",
              "      box-shadow: 0px 1px 3px 1px rgba(0, 0, 0, 0.15);\n",
              "      filter: drop-shadow(0px 1px 2px rgba(0, 0, 0, 0.3));\n",
              "      fill: #FFFFFF;\n",
              "    }\n",
              "  </style>\n",
              "\n",
              "      <script>\n",
              "        const buttonEl =\n",
              "          document.querySelector('#df-f23d2060-32b2-460e-a3b1-fac7064aff13 button.colab-df-convert');\n",
              "        buttonEl.style.display =\n",
              "          google.colab.kernel.accessAllowed ? 'block' : 'none';\n",
              "\n",
              "        async function convertToInteractive(key) {\n",
              "          const element = document.querySelector('#df-f23d2060-32b2-460e-a3b1-fac7064aff13');\n",
              "          const dataTable =\n",
              "            await google.colab.kernel.invokeFunction('convertToInteractive',\n",
              "                                                     [key], {});\n",
              "          if (!dataTable) return;\n",
              "\n",
              "          const docLinkHtml = 'Like what you see? Visit the ' +\n",
              "            '<a target=\"_blank\" href=https://colab.research.google.com/notebooks/data_table.ipynb>data table notebook</a>'\n",
              "            + ' to learn more about interactive tables.';\n",
              "          element.innerHTML = '';\n",
              "          dataTable['output_type'] = 'display_data';\n",
              "          await google.colab.output.renderOutput(dataTable, element);\n",
              "          const docLink = document.createElement('div');\n",
              "          docLink.innerHTML = docLinkHtml;\n",
              "          element.appendChild(docLink);\n",
              "        }\n",
              "      </script>\n",
              "    </div>\n",
              "  </div>\n",
              "  "
            ]
          },
          "metadata": {},
          "execution_count": 364
        }
      ]
    },
    {
      "cell_type": "code",
      "source": [
        "#@markdown Replace old columns with ID\n",
        "df = df.merge(existing_areas_df).drop(cols+[\"district_id\", \"city_id\"], axis=1).rename(columns={\"id\": \"area_id\"})\n",
        "df.head(2)"
      ],
      "metadata": {
        "colab": {
          "base_uri": "https://localhost:8080/"
        },
        "id": "8sfua1mVH65q",
        "outputId": "1534387e-f215-42a7-a99a-08680a9bee02"
      },
      "execution_count": null,
      "outputs": [
        {
          "output_type": "execute_result",
          "data": {
            "text/plain": [
              "    latitude   longitude  restaurant_id                     name  \\\n",
              "0  10.785022  106.698976         678064       Bún Miến Gà Vỉa Hè   \n",
              "1  10.785622  106.699818         204951  Quán Ánh Việt - Bún Chả   \n",
              "\n",
              "                               street_address category   cuisine  \\\n",
              "0                  37 Mạc Đĩnh Chi, P. Đa Kao  Quán ăn  Món Việt   \n",
              "1  18Bis/13/1 Nguyễn Thị Minh Khai, P. Đa Kao  Quán ăn  Món Việt   \n",
              "\n",
              "                                            audience  average_rating  \\\n",
              "0                 Gia đình, Nhóm hội, Giới văn phòng             8.0   \n",
              "1  Sinh viên, Cặp đôi, Gia đình, Nhóm hội, Giới v...             8.0   \n",
              "\n",
              "  position_rating price_rating quality_rating service_rating space_rating  \\\n",
              "0             7.5          9.0            8.5            8.5          6.5   \n",
              "1             7.0          8.0            9.0            8.0          8.0   \n",
              "\n",
              "   review_count  review_excellent_count  review_good_count  \\\n",
              "0             2                       0                  2   \n",
              "1             1                       0                  1   \n",
              "\n",
              "   review_average_count  review_bad_count  view_count  checked_in_count  \\\n",
              "0                     0                 0         237                 0   \n",
              "1                     0                 0         578                 0   \n",
              "\n",
              "   favourite_count  wanted_count  picture_count          status  \\\n",
              "0                2             6              7  Đang hoạt động   \n",
              "1                0             4              9  Đang hoạt động   \n",
              "\n",
              "      time_clock        price_range  \\\n",
              "0  11:00 - 13:00  20.000đ - 25.000đ   \n",
              "1  09:00 - 14:00  33.000đ - 33.000đ   \n",
              "\n",
              "                                                 url  area_id  \n",
              "0  http://www.foody.vn/ho-chi-minh/bun-mien-ga-vi...        1  \n",
              "1  http://www.foody.vn/ho-chi-minh/quan-anh-viet-...        1  "
            ],
            "text/html": [
              "\n",
              "  <div id=\"df-cbfef1cb-9835-4865-82ec-8ba6d01c3521\">\n",
              "    <div class=\"colab-df-container\">\n",
              "      <div>\n",
              "<style scoped>\n",
              "    .dataframe tbody tr th:only-of-type {\n",
              "        vertical-align: middle;\n",
              "    }\n",
              "\n",
              "    .dataframe tbody tr th {\n",
              "        vertical-align: top;\n",
              "    }\n",
              "\n",
              "    .dataframe thead th {\n",
              "        text-align: right;\n",
              "    }\n",
              "</style>\n",
              "<table border=\"1\" class=\"dataframe\">\n",
              "  <thead>\n",
              "    <tr style=\"text-align: right;\">\n",
              "      <th></th>\n",
              "      <th>latitude</th>\n",
              "      <th>longitude</th>\n",
              "      <th>restaurant_id</th>\n",
              "      <th>name</th>\n",
              "      <th>street_address</th>\n",
              "      <th>category</th>\n",
              "      <th>cuisine</th>\n",
              "      <th>audience</th>\n",
              "      <th>average_rating</th>\n",
              "      <th>position_rating</th>\n",
              "      <th>price_rating</th>\n",
              "      <th>quality_rating</th>\n",
              "      <th>service_rating</th>\n",
              "      <th>space_rating</th>\n",
              "      <th>review_count</th>\n",
              "      <th>review_excellent_count</th>\n",
              "      <th>review_good_count</th>\n",
              "      <th>review_average_count</th>\n",
              "      <th>review_bad_count</th>\n",
              "      <th>view_count</th>\n",
              "      <th>checked_in_count</th>\n",
              "      <th>favourite_count</th>\n",
              "      <th>wanted_count</th>\n",
              "      <th>picture_count</th>\n",
              "      <th>status</th>\n",
              "      <th>time_clock</th>\n",
              "      <th>price_range</th>\n",
              "      <th>url</th>\n",
              "      <th>area_id</th>\n",
              "    </tr>\n",
              "  </thead>\n",
              "  <tbody>\n",
              "    <tr>\n",
              "      <th>0</th>\n",
              "      <td>10.785022</td>\n",
              "      <td>106.698976</td>\n",
              "      <td>678064</td>\n",
              "      <td>Bún Miến Gà Vỉa Hè</td>\n",
              "      <td>37 Mạc Đĩnh Chi, P. Đa Kao</td>\n",
              "      <td>Quán ăn</td>\n",
              "      <td>Món Việt</td>\n",
              "      <td>Gia đình, Nhóm hội, Giới văn phòng</td>\n",
              "      <td>8.0</td>\n",
              "      <td>7.5</td>\n",
              "      <td>9.0</td>\n",
              "      <td>8.5</td>\n",
              "      <td>8.5</td>\n",
              "      <td>6.5</td>\n",
              "      <td>2</td>\n",
              "      <td>0</td>\n",
              "      <td>2</td>\n",
              "      <td>0</td>\n",
              "      <td>0</td>\n",
              "      <td>237</td>\n",
              "      <td>0</td>\n",
              "      <td>2</td>\n",
              "      <td>6</td>\n",
              "      <td>7</td>\n",
              "      <td>Đang hoạt động</td>\n",
              "      <td>11:00 - 13:00</td>\n",
              "      <td>20.000đ - 25.000đ</td>\n",
              "      <td>http://www.foody.vn/ho-chi-minh/bun-mien-ga-vi...</td>\n",
              "      <td>1</td>\n",
              "    </tr>\n",
              "    <tr>\n",
              "      <th>1</th>\n",
              "      <td>10.785622</td>\n",
              "      <td>106.699818</td>\n",
              "      <td>204951</td>\n",
              "      <td>Quán Ánh Việt - Bún Chả</td>\n",
              "      <td>18Bis/13/1 Nguyễn Thị Minh Khai, P. Đa Kao</td>\n",
              "      <td>Quán ăn</td>\n",
              "      <td>Món Việt</td>\n",
              "      <td>Sinh viên, Cặp đôi, Gia đình, Nhóm hội, Giới v...</td>\n",
              "      <td>8.0</td>\n",
              "      <td>7.0</td>\n",
              "      <td>8.0</td>\n",
              "      <td>9.0</td>\n",
              "      <td>8.0</td>\n",
              "      <td>8.0</td>\n",
              "      <td>1</td>\n",
              "      <td>0</td>\n",
              "      <td>1</td>\n",
              "      <td>0</td>\n",
              "      <td>0</td>\n",
              "      <td>578</td>\n",
              "      <td>0</td>\n",
              "      <td>0</td>\n",
              "      <td>4</td>\n",
              "      <td>9</td>\n",
              "      <td>Đang hoạt động</td>\n",
              "      <td>09:00 - 14:00</td>\n",
              "      <td>33.000đ - 33.000đ</td>\n",
              "      <td>http://www.foody.vn/ho-chi-minh/quan-anh-viet-...</td>\n",
              "      <td>1</td>\n",
              "    </tr>\n",
              "  </tbody>\n",
              "</table>\n",
              "</div>\n",
              "      <button class=\"colab-df-convert\" onclick=\"convertToInteractive('df-cbfef1cb-9835-4865-82ec-8ba6d01c3521')\"\n",
              "              title=\"Convert this dataframe to an interactive table.\"\n",
              "              style=\"display:none;\">\n",
              "        \n",
              "  <svg xmlns=\"http://www.w3.org/2000/svg\" height=\"24px\"viewBox=\"0 0 24 24\"\n",
              "       width=\"24px\">\n",
              "    <path d=\"M0 0h24v24H0V0z\" fill=\"none\"/>\n",
              "    <path d=\"M18.56 5.44l.94 2.06.94-2.06 2.06-.94-2.06-.94-.94-2.06-.94 2.06-2.06.94zm-11 1L8.5 8.5l.94-2.06 2.06-.94-2.06-.94L8.5 2.5l-.94 2.06-2.06.94zm10 10l.94 2.06.94-2.06 2.06-.94-2.06-.94-.94-2.06-.94 2.06-2.06.94z\"/><path d=\"M17.41 7.96l-1.37-1.37c-.4-.4-.92-.59-1.43-.59-.52 0-1.04.2-1.43.59L10.3 9.45l-7.72 7.72c-.78.78-.78 2.05 0 2.83L4 21.41c.39.39.9.59 1.41.59.51 0 1.02-.2 1.41-.59l7.78-7.78 2.81-2.81c.8-.78.8-2.07 0-2.86zM5.41 20L4 18.59l7.72-7.72 1.47 1.35L5.41 20z\"/>\n",
              "  </svg>\n",
              "      </button>\n",
              "      \n",
              "  <style>\n",
              "    .colab-df-container {\n",
              "      display:flex;\n",
              "      flex-wrap:wrap;\n",
              "      gap: 12px;\n",
              "    }\n",
              "\n",
              "    .colab-df-convert {\n",
              "      background-color: #E8F0FE;\n",
              "      border: none;\n",
              "      border-radius: 50%;\n",
              "      cursor: pointer;\n",
              "      display: none;\n",
              "      fill: #1967D2;\n",
              "      height: 32px;\n",
              "      padding: 0 0 0 0;\n",
              "      width: 32px;\n",
              "    }\n",
              "\n",
              "    .colab-df-convert:hover {\n",
              "      background-color: #E2EBFA;\n",
              "      box-shadow: 0px 1px 2px rgba(60, 64, 67, 0.3), 0px 1px 3px 1px rgba(60, 64, 67, 0.15);\n",
              "      fill: #174EA6;\n",
              "    }\n",
              "\n",
              "    [theme=dark] .colab-df-convert {\n",
              "      background-color: #3B4455;\n",
              "      fill: #D2E3FC;\n",
              "    }\n",
              "\n",
              "    [theme=dark] .colab-df-convert:hover {\n",
              "      background-color: #434B5C;\n",
              "      box-shadow: 0px 1px 3px 1px rgba(0, 0, 0, 0.15);\n",
              "      filter: drop-shadow(0px 1px 2px rgba(0, 0, 0, 0.3));\n",
              "      fill: #FFFFFF;\n",
              "    }\n",
              "  </style>\n",
              "\n",
              "      <script>\n",
              "        const buttonEl =\n",
              "          document.querySelector('#df-cbfef1cb-9835-4865-82ec-8ba6d01c3521 button.colab-df-convert');\n",
              "        buttonEl.style.display =\n",
              "          google.colab.kernel.accessAllowed ? 'block' : 'none';\n",
              "\n",
              "        async function convertToInteractive(key) {\n",
              "          const element = document.querySelector('#df-cbfef1cb-9835-4865-82ec-8ba6d01c3521');\n",
              "          const dataTable =\n",
              "            await google.colab.kernel.invokeFunction('convertToInteractive',\n",
              "                                                     [key], {});\n",
              "          if (!dataTable) return;\n",
              "\n",
              "          const docLinkHtml = 'Like what you see? Visit the ' +\n",
              "            '<a target=\"_blank\" href=https://colab.research.google.com/notebooks/data_table.ipynb>data table notebook</a>'\n",
              "            + ' to learn more about interactive tables.';\n",
              "          element.innerHTML = '';\n",
              "          dataTable['output_type'] = 'display_data';\n",
              "          await google.colab.output.renderOutput(dataTable, element);\n",
              "          const docLink = document.createElement('div');\n",
              "          docLink.innerHTML = docLinkHtml;\n",
              "          element.appendChild(docLink);\n",
              "        }\n",
              "      </script>\n",
              "    </div>\n",
              "  </div>\n",
              "  "
            ]
          },
          "metadata": {},
          "execution_count": 365
        }
      ]
    },
    {
      "cell_type": "markdown",
      "source": [
        "### Extract foody audience list from dataframe"
      ],
      "metadata": {
        "id": "PZNgt7JsMSyn"
      }
    },
    {
      "cell_type": "code",
      "source": [
        "with conn:\n",
        "    cur = conn.cursor()\n",
        "    cur.execute(\"CREATE TABLE IF NOT EXISTS FOODY_RESTAURANT_AUDIENCE (\\\n",
        "      restaurant_id INTEGER,\\\n",
        "      audience text,\\\n",
        "      UNIQUE(restaurant_id, audience)\\\n",
        "    )\")"
      ],
      "metadata": {
        "id": "xTEu-2hWMnLP"
      },
      "execution_count": null,
      "outputs": []
    },
    {
      "cell_type": "code",
      "source": [
        "#@markdown Extract audience column and explode the list\n",
        "audience_df = df[[\"restaurant_id\", \"audience\"]].drop_duplicates()\n",
        "\n",
        "assert len(audience_df) == audience_df[\"restaurant_id\"].nunique(),\\\n",
        "  \"Exist restaurant with 2 different audience attribute\"\n",
        "\n",
        "audience_df[\"audience\"] = audience_df[\"audience\"].str.split(\", \")\n",
        "audience_df = audience_df.explode(\"audience\").dropna()\n",
        "audience_df"
      ],
      "metadata": {
        "colab": {
          "base_uri": "https://localhost:8080/"
        },
        "cellView": "form",
        "id": "Zp4221p7LSz5",
        "outputId": "fa841071-e7b8-4e4f-fd1a-7555e77d641f"
      },
      "execution_count": null,
      "outputs": [
        {
          "output_type": "execute_result",
          "data": {
            "text/plain": [
              "        restaurant_id        audience\n",
              "0              678064        Gia đình\n",
              "0              678064        Nhóm hội\n",
              "0              678064  Giới văn phòng\n",
              "1              204951       Sinh viên\n",
              "1              204951         Cặp đôi\n",
              "...               ...             ...\n",
              "101398         695643        Nhóm hội\n",
              "101398         695643  Giới văn phòng\n",
              "101399         937313       Sinh viên\n",
              "101399         937313        Nhóm hội\n",
              "101399         937313  Giới văn phòng\n",
              "\n",
              "[262702 rows x 2 columns]"
            ],
            "text/html": [
              "\n",
              "  <div id=\"df-b683a5aa-1146-4220-a035-bf6774198ef7\">\n",
              "    <div class=\"colab-df-container\">\n",
              "      <div>\n",
              "<style scoped>\n",
              "    .dataframe tbody tr th:only-of-type {\n",
              "        vertical-align: middle;\n",
              "    }\n",
              "\n",
              "    .dataframe tbody tr th {\n",
              "        vertical-align: top;\n",
              "    }\n",
              "\n",
              "    .dataframe thead th {\n",
              "        text-align: right;\n",
              "    }\n",
              "</style>\n",
              "<table border=\"1\" class=\"dataframe\">\n",
              "  <thead>\n",
              "    <tr style=\"text-align: right;\">\n",
              "      <th></th>\n",
              "      <th>restaurant_id</th>\n",
              "      <th>audience</th>\n",
              "    </tr>\n",
              "  </thead>\n",
              "  <tbody>\n",
              "    <tr>\n",
              "      <th>0</th>\n",
              "      <td>678064</td>\n",
              "      <td>Gia đình</td>\n",
              "    </tr>\n",
              "    <tr>\n",
              "      <th>0</th>\n",
              "      <td>678064</td>\n",
              "      <td>Nhóm hội</td>\n",
              "    </tr>\n",
              "    <tr>\n",
              "      <th>0</th>\n",
              "      <td>678064</td>\n",
              "      <td>Giới văn phòng</td>\n",
              "    </tr>\n",
              "    <tr>\n",
              "      <th>1</th>\n",
              "      <td>204951</td>\n",
              "      <td>Sinh viên</td>\n",
              "    </tr>\n",
              "    <tr>\n",
              "      <th>1</th>\n",
              "      <td>204951</td>\n",
              "      <td>Cặp đôi</td>\n",
              "    </tr>\n",
              "    <tr>\n",
              "      <th>...</th>\n",
              "      <td>...</td>\n",
              "      <td>...</td>\n",
              "    </tr>\n",
              "    <tr>\n",
              "      <th>101398</th>\n",
              "      <td>695643</td>\n",
              "      <td>Nhóm hội</td>\n",
              "    </tr>\n",
              "    <tr>\n",
              "      <th>101398</th>\n",
              "      <td>695643</td>\n",
              "      <td>Giới văn phòng</td>\n",
              "    </tr>\n",
              "    <tr>\n",
              "      <th>101399</th>\n",
              "      <td>937313</td>\n",
              "      <td>Sinh viên</td>\n",
              "    </tr>\n",
              "    <tr>\n",
              "      <th>101399</th>\n",
              "      <td>937313</td>\n",
              "      <td>Nhóm hội</td>\n",
              "    </tr>\n",
              "    <tr>\n",
              "      <th>101399</th>\n",
              "      <td>937313</td>\n",
              "      <td>Giới văn phòng</td>\n",
              "    </tr>\n",
              "  </tbody>\n",
              "</table>\n",
              "<p>262702 rows × 2 columns</p>\n",
              "</div>\n",
              "      <button class=\"colab-df-convert\" onclick=\"convertToInteractive('df-b683a5aa-1146-4220-a035-bf6774198ef7')\"\n",
              "              title=\"Convert this dataframe to an interactive table.\"\n",
              "              style=\"display:none;\">\n",
              "        \n",
              "  <svg xmlns=\"http://www.w3.org/2000/svg\" height=\"24px\"viewBox=\"0 0 24 24\"\n",
              "       width=\"24px\">\n",
              "    <path d=\"M0 0h24v24H0V0z\" fill=\"none\"/>\n",
              "    <path d=\"M18.56 5.44l.94 2.06.94-2.06 2.06-.94-2.06-.94-.94-2.06-.94 2.06-2.06.94zm-11 1L8.5 8.5l.94-2.06 2.06-.94-2.06-.94L8.5 2.5l-.94 2.06-2.06.94zm10 10l.94 2.06.94-2.06 2.06-.94-2.06-.94-.94-2.06-.94 2.06-2.06.94z\"/><path d=\"M17.41 7.96l-1.37-1.37c-.4-.4-.92-.59-1.43-.59-.52 0-1.04.2-1.43.59L10.3 9.45l-7.72 7.72c-.78.78-.78 2.05 0 2.83L4 21.41c.39.39.9.59 1.41.59.51 0 1.02-.2 1.41-.59l7.78-7.78 2.81-2.81c.8-.78.8-2.07 0-2.86zM5.41 20L4 18.59l7.72-7.72 1.47 1.35L5.41 20z\"/>\n",
              "  </svg>\n",
              "      </button>\n",
              "      \n",
              "  <style>\n",
              "    .colab-df-container {\n",
              "      display:flex;\n",
              "      flex-wrap:wrap;\n",
              "      gap: 12px;\n",
              "    }\n",
              "\n",
              "    .colab-df-convert {\n",
              "      background-color: #E8F0FE;\n",
              "      border: none;\n",
              "      border-radius: 50%;\n",
              "      cursor: pointer;\n",
              "      display: none;\n",
              "      fill: #1967D2;\n",
              "      height: 32px;\n",
              "      padding: 0 0 0 0;\n",
              "      width: 32px;\n",
              "    }\n",
              "\n",
              "    .colab-df-convert:hover {\n",
              "      background-color: #E2EBFA;\n",
              "      box-shadow: 0px 1px 2px rgba(60, 64, 67, 0.3), 0px 1px 3px 1px rgba(60, 64, 67, 0.15);\n",
              "      fill: #174EA6;\n",
              "    }\n",
              "\n",
              "    [theme=dark] .colab-df-convert {\n",
              "      background-color: #3B4455;\n",
              "      fill: #D2E3FC;\n",
              "    }\n",
              "\n",
              "    [theme=dark] .colab-df-convert:hover {\n",
              "      background-color: #434B5C;\n",
              "      box-shadow: 0px 1px 3px 1px rgba(0, 0, 0, 0.15);\n",
              "      filter: drop-shadow(0px 1px 2px rgba(0, 0, 0, 0.3));\n",
              "      fill: #FFFFFF;\n",
              "    }\n",
              "  </style>\n",
              "\n",
              "      <script>\n",
              "        const buttonEl =\n",
              "          document.querySelector('#df-b683a5aa-1146-4220-a035-bf6774198ef7 button.colab-df-convert');\n",
              "        buttonEl.style.display =\n",
              "          google.colab.kernel.accessAllowed ? 'block' : 'none';\n",
              "\n",
              "        async function convertToInteractive(key) {\n",
              "          const element = document.querySelector('#df-b683a5aa-1146-4220-a035-bf6774198ef7');\n",
              "          const dataTable =\n",
              "            await google.colab.kernel.invokeFunction('convertToInteractive',\n",
              "                                                     [key], {});\n",
              "          if (!dataTable) return;\n",
              "\n",
              "          const docLinkHtml = 'Like what you see? Visit the ' +\n",
              "            '<a target=\"_blank\" href=https://colab.research.google.com/notebooks/data_table.ipynb>data table notebook</a>'\n",
              "            + ' to learn more about interactive tables.';\n",
              "          element.innerHTML = '';\n",
              "          dataTable['output_type'] = 'display_data';\n",
              "          await google.colab.output.renderOutput(dataTable, element);\n",
              "          const docLink = document.createElement('div');\n",
              "          docLink.innerHTML = docLinkHtml;\n",
              "          element.appendChild(docLink);\n",
              "        }\n",
              "      </script>\n",
              "    </div>\n",
              "  </div>\n",
              "  "
            ]
          },
          "metadata": {},
          "execution_count": 367
        }
      ]
    },
    {
      "cell_type": "code",
      "source": [
        "#@markdown Insert extracted attribute to database and drop audience column (warning: attribute may get changed over time, be careful with the data)\n",
        "cols = audience_df.columns.to_list()\n",
        "\n",
        "# Handle existing areas from database, by merge and drop overlapped rows\n",
        "existing_audience_df = pd.read_sql_query(\"SELECT * FROM FOODY_RESTAURANT_AUDIENCE\", conn)\n",
        "audience_df = audience_df.merge(existing_audience_df, on=cols, how=\"outer\", indicator=True)\n",
        "audience_df[~audience_df[\"restaurant_id\"].isin(df[\"restaurant_id\"])][\"_merge\"] = \"absent\"\n",
        "\n",
        "# Warning in case of an attribute get deleted\n",
        "if len(audience_df[audience_df[\"_merge\"]==\"right_only\"]) > 0:\n",
        "  print(\"Warning: These rows are going to be deleted, please comfirm first before continue\")\n",
        "  display(len(audience_df[audience_df[\"_merge\"]==\"right_only\"]))\n",
        "  c = input(\"confirm (Y/N): \")\n",
        "  if c.upper()!=\"Y\":\n",
        "    raise Exception(f\"Operation terminated due to the choice: {c}\")\n",
        "\n",
        "audience_df = audience_df[audience_df[\"_merge\"]!=\"right_only\"][cols]\n",
        "audience_df.to_sql(\"FOODY_RESTAURANT_AUDIENCE\", conn, if_exists=\"replace\", index=False)\n",
        "\n",
        "df = df.drop(\"audience\", axis=1)"
      ],
      "metadata": {
        "id": "7vFUAJOMPa3H"
      },
      "execution_count": null,
      "outputs": []
    },
    {
      "cell_type": "markdown",
      "source": [
        "### Extract foody cuisine list"
      ],
      "metadata": {
        "id": "2YI1EChprgAe"
      }
    },
    {
      "cell_type": "code",
      "source": [
        "with conn:\n",
        "    cur = conn.cursor()\n",
        "    cur.execute(\"CREATE TABLE IF NOT EXISTS FOODY_RESTAURANT_CUISINE (\\\n",
        "      restaurant_id INTEGER,\\\n",
        "      cuisine text,\\\n",
        "      UNIQUE(restaurant_id, cuisine)\\\n",
        "    )\")"
      ],
      "metadata": {
        "id": "zZavi8N2rlyd"
      },
      "execution_count": null,
      "outputs": []
    },
    {
      "cell_type": "code",
      "source": [
        "#@markdown Extract cuisine column and explode the list\n",
        "cuisine_df = df[[\"restaurant_id\", \"cuisine\"]].drop_duplicates()\n",
        "\n",
        "assert len(cuisine_df) == cuisine_df[\"restaurant_id\"].nunique(),\\\n",
        "  \"Exist restaurant with 2 different audience attribute\"\n",
        "\n",
        "cuisine_df[\"cuisine\"] = cuisine_df[\"cuisine\"].str.split(\", \")\n",
        "cuisine_df = cuisine_df.explode(\"cuisine\").dropna()\n",
        "cuisine_df"
      ],
      "metadata": {
        "colab": {
          "base_uri": "https://localhost:8080/",
          "height": 424
        },
        "cellView": "form",
        "outputId": "cde48b48-0d30-423e-8cbb-6ed27d4c4f39",
        "id": "u5xOYT1vrsVC"
      },
      "execution_count": null,
      "outputs": [
        {
          "output_type": "execute_result",
          "data": {
            "text/plain": [
              "        restaurant_id       cuisine\n",
              "0              678064      Món Việt\n",
              "1              210493      Món Việt\n",
              "2             1059918      Món Nhật\n",
              "3             1043820      Món Việt\n",
              "4             1044890      Món Việt\n",
              "...               ...           ...\n",
              "101394         863533             Ý\n",
              "101395         678222      Món Việt\n",
              "101396         317293            Mỹ\n",
              "101397     1000030101       Món Bắc\n",
              "101397     1000030101  Món Miền Nam\n",
              "\n",
              "[91751 rows x 2 columns]"
            ],
            "text/html": [
              "\n",
              "  <div id=\"df-0cea6e42-ea68-4b5c-9a1e-71af7a8547ab\">\n",
              "    <div class=\"colab-df-container\">\n",
              "      <div>\n",
              "<style scoped>\n",
              "    .dataframe tbody tr th:only-of-type {\n",
              "        vertical-align: middle;\n",
              "    }\n",
              "\n",
              "    .dataframe tbody tr th {\n",
              "        vertical-align: top;\n",
              "    }\n",
              "\n",
              "    .dataframe thead th {\n",
              "        text-align: right;\n",
              "    }\n",
              "</style>\n",
              "<table border=\"1\" class=\"dataframe\">\n",
              "  <thead>\n",
              "    <tr style=\"text-align: right;\">\n",
              "      <th></th>\n",
              "      <th>restaurant_id</th>\n",
              "      <th>cuisine</th>\n",
              "    </tr>\n",
              "  </thead>\n",
              "  <tbody>\n",
              "    <tr>\n",
              "      <th>0</th>\n",
              "      <td>678064</td>\n",
              "      <td>Món Việt</td>\n",
              "    </tr>\n",
              "    <tr>\n",
              "      <th>1</th>\n",
              "      <td>210493</td>\n",
              "      <td>Món Việt</td>\n",
              "    </tr>\n",
              "    <tr>\n",
              "      <th>2</th>\n",
              "      <td>1059918</td>\n",
              "      <td>Món Nhật</td>\n",
              "    </tr>\n",
              "    <tr>\n",
              "      <th>3</th>\n",
              "      <td>1043820</td>\n",
              "      <td>Món Việt</td>\n",
              "    </tr>\n",
              "    <tr>\n",
              "      <th>4</th>\n",
              "      <td>1044890</td>\n",
              "      <td>Món Việt</td>\n",
              "    </tr>\n",
              "    <tr>\n",
              "      <th>...</th>\n",
              "      <td>...</td>\n",
              "      <td>...</td>\n",
              "    </tr>\n",
              "    <tr>\n",
              "      <th>101394</th>\n",
              "      <td>863533</td>\n",
              "      <td>Ý</td>\n",
              "    </tr>\n",
              "    <tr>\n",
              "      <th>101395</th>\n",
              "      <td>678222</td>\n",
              "      <td>Món Việt</td>\n",
              "    </tr>\n",
              "    <tr>\n",
              "      <th>101396</th>\n",
              "      <td>317293</td>\n",
              "      <td>Mỹ</td>\n",
              "    </tr>\n",
              "    <tr>\n",
              "      <th>101397</th>\n",
              "      <td>1000030101</td>\n",
              "      <td>Món Bắc</td>\n",
              "    </tr>\n",
              "    <tr>\n",
              "      <th>101397</th>\n",
              "      <td>1000030101</td>\n",
              "      <td>Món Miền Nam</td>\n",
              "    </tr>\n",
              "  </tbody>\n",
              "</table>\n",
              "<p>91751 rows × 2 columns</p>\n",
              "</div>\n",
              "      <button class=\"colab-df-convert\" onclick=\"convertToInteractive('df-0cea6e42-ea68-4b5c-9a1e-71af7a8547ab')\"\n",
              "              title=\"Convert this dataframe to an interactive table.\"\n",
              "              style=\"display:none;\">\n",
              "        \n",
              "  <svg xmlns=\"http://www.w3.org/2000/svg\" height=\"24px\"viewBox=\"0 0 24 24\"\n",
              "       width=\"24px\">\n",
              "    <path d=\"M0 0h24v24H0V0z\" fill=\"none\"/>\n",
              "    <path d=\"M18.56 5.44l.94 2.06.94-2.06 2.06-.94-2.06-.94-.94-2.06-.94 2.06-2.06.94zm-11 1L8.5 8.5l.94-2.06 2.06-.94-2.06-.94L8.5 2.5l-.94 2.06-2.06.94zm10 10l.94 2.06.94-2.06 2.06-.94-2.06-.94-.94-2.06-.94 2.06-2.06.94z\"/><path d=\"M17.41 7.96l-1.37-1.37c-.4-.4-.92-.59-1.43-.59-.52 0-1.04.2-1.43.59L10.3 9.45l-7.72 7.72c-.78.78-.78 2.05 0 2.83L4 21.41c.39.39.9.59 1.41.59.51 0 1.02-.2 1.41-.59l7.78-7.78 2.81-2.81c.8-.78.8-2.07 0-2.86zM5.41 20L4 18.59l7.72-7.72 1.47 1.35L5.41 20z\"/>\n",
              "  </svg>\n",
              "      </button>\n",
              "      \n",
              "  <style>\n",
              "    .colab-df-container {\n",
              "      display:flex;\n",
              "      flex-wrap:wrap;\n",
              "      gap: 12px;\n",
              "    }\n",
              "\n",
              "    .colab-df-convert {\n",
              "      background-color: #E8F0FE;\n",
              "      border: none;\n",
              "      border-radius: 50%;\n",
              "      cursor: pointer;\n",
              "      display: none;\n",
              "      fill: #1967D2;\n",
              "      height: 32px;\n",
              "      padding: 0 0 0 0;\n",
              "      width: 32px;\n",
              "    }\n",
              "\n",
              "    .colab-df-convert:hover {\n",
              "      background-color: #E2EBFA;\n",
              "      box-shadow: 0px 1px 2px rgba(60, 64, 67, 0.3), 0px 1px 3px 1px rgba(60, 64, 67, 0.15);\n",
              "      fill: #174EA6;\n",
              "    }\n",
              "\n",
              "    [theme=dark] .colab-df-convert {\n",
              "      background-color: #3B4455;\n",
              "      fill: #D2E3FC;\n",
              "    }\n",
              "\n",
              "    [theme=dark] .colab-df-convert:hover {\n",
              "      background-color: #434B5C;\n",
              "      box-shadow: 0px 1px 3px 1px rgba(0, 0, 0, 0.15);\n",
              "      filter: drop-shadow(0px 1px 2px rgba(0, 0, 0, 0.3));\n",
              "      fill: #FFFFFF;\n",
              "    }\n",
              "  </style>\n",
              "\n",
              "      <script>\n",
              "        const buttonEl =\n",
              "          document.querySelector('#df-0cea6e42-ea68-4b5c-9a1e-71af7a8547ab button.colab-df-convert');\n",
              "        buttonEl.style.display =\n",
              "          google.colab.kernel.accessAllowed ? 'block' : 'none';\n",
              "\n",
              "        async function convertToInteractive(key) {\n",
              "          const element = document.querySelector('#df-0cea6e42-ea68-4b5c-9a1e-71af7a8547ab');\n",
              "          const dataTable =\n",
              "            await google.colab.kernel.invokeFunction('convertToInteractive',\n",
              "                                                     [key], {});\n",
              "          if (!dataTable) return;\n",
              "\n",
              "          const docLinkHtml = 'Like what you see? Visit the ' +\n",
              "            '<a target=\"_blank\" href=https://colab.research.google.com/notebooks/data_table.ipynb>data table notebook</a>'\n",
              "            + ' to learn more about interactive tables.';\n",
              "          element.innerHTML = '';\n",
              "          dataTable['output_type'] = 'display_data';\n",
              "          await google.colab.output.renderOutput(dataTable, element);\n",
              "          const docLink = document.createElement('div');\n",
              "          docLink.innerHTML = docLinkHtml;\n",
              "          element.appendChild(docLink);\n",
              "        }\n",
              "      </script>\n",
              "    </div>\n",
              "  </div>\n",
              "  "
            ]
          },
          "metadata": {},
          "execution_count": 425
        }
      ]
    },
    {
      "cell_type": "code",
      "source": [
        "#@markdown Insert extracted attribute to database and drop cuisine column (warning: attribute may get changed over time, be careful with the data)\n",
        "cols = cuisine_df.columns.to_list()\n",
        "\n",
        "# Handle existing areas from database, by merge and drop overlapped rows\n",
        "existing_cuisine_df = pd.read_sql_query(\"SELECT * FROM FOODY_RESTAURANT_CUISINE\", conn)\n",
        "cuisine_df = cuisine_df.merge(existing_cuisine_df, on=cols, how=\"outer\", indicator=True)\n",
        "cuisine_df[~cuisine_df[\"restaurant_id\"].isin(df[\"restaurant_id\"])][\"_merge\"] = \"absent\"\n",
        "\n",
        "# Warning in case of an attribute get deleted\n",
        "if len(cuisine_df[cuisine_df[\"_merge\"]==\"right_only\"]) > 0:\n",
        "  print(\"Warning: These rows are going to be deleted, please comfirm first before continue\")\n",
        "  display(len(cuisine_df[cuisine_df[\"_merge\"]==\"right_only\"]))\n",
        "  c = input(\"confirm (Y/N): \")\n",
        "  if c.upper()!=\"Y\":\n",
        "    raise Exception(f\"Operation terminated due to the choice: {c}\")\n",
        "\n",
        "cuisine_df = cuisine_df[cuisine_df[\"_merge\"]!=\"right_only\"][cols]\n",
        "cuisine_df.to_sql(\"FOODY_RESTAURANT_CUISINE\", conn, if_exists=\"replace\", index=False)\n",
        "\n",
        "df = df.drop(\"cuisine\", axis=1)"
      ],
      "metadata": {
        "id": "wVr67uEnrsVC"
      },
      "execution_count": null,
      "outputs": []
    },
    {
      "cell_type": "markdown",
      "source": [
        "### Extract price range"
      ],
      "metadata": {
        "id": "KxHK8jEyv_OF"
      }
    },
    {
      "cell_type": "code",
      "source": [
        "df[\"price_range\"] = df[\"price_range\"].str.replace(r\"[. đ]\", \"\", regex=True).str.split(\"-\")\n",
        "df[\"price_range_min\"] = df[\"price_range\"].map(lambda x: x[0])\n",
        "df[\"price_range_max\"] = df[\"price_range\"].map(lambda x: x[-1])"
      ],
      "metadata": {
        "id": "3JncTc3uwBzc"
      },
      "execution_count": null,
      "outputs": []
    },
    {
      "cell_type": "code",
      "source": [
        "# Filter by which value can be translated into number\n",
        "mask = df[\"price_range_min\"].str.isnumeric()\n",
        "\n",
        "df.loc[~mask, [\"price_range_min\", \"price_range_max\"]] = np.nan\n",
        "df[[\"price_range_min\", \"price_range_max\"]] = df[[\"price_range_min\", \"price_range_max\"]].astype(\"float\").astype(\"Int64\")"
      ],
      "metadata": {
        "id": "MT5wXywf0pnG"
      },
      "execution_count": null,
      "outputs": []
    },
    {
      "cell_type": "markdown",
      "source": [
        "### Handle special case (case-by-case)"
      ],
      "metadata": {
        "id": "eD1MRGdSph_f"
      }
    },
    {
      "cell_type": "code",
      "source": [
        "raise Exception(\"Stop right there!\")"
      ],
      "metadata": {
        "colab": {
          "base_uri": "https://localhost:8080/",
          "height": 171
        },
        "id": "Dlh2dro6qc_B",
        "outputId": "38d87bc2-35b7-4853-f2e0-c88f38a30934"
      },
      "execution_count": null,
      "outputs": [
        {
          "output_type": "error",
          "ename": "Exception",
          "evalue": "ignored",
          "traceback": [
            "\u001b[0;31m---------------------------------------------------------------------------\u001b[0m",
            "\u001b[0;31mException\u001b[0m                                 Traceback (most recent call last)",
            "\u001b[0;32m<ipython-input-241-b05aef691abd>\u001b[0m in \u001b[0;36m<module>\u001b[0;34m\u001b[0m\n\u001b[0;32m----> 1\u001b[0;31m \u001b[0;32mraise\u001b[0m \u001b[0mException\u001b[0m\u001b[0;34m(\u001b[0m\u001b[0;34m\"Stop right there!\"\u001b[0m\u001b[0;34m)\u001b[0m\u001b[0;34m\u001b[0m\u001b[0;34m\u001b[0m\u001b[0m\n\u001b[0m",
            "\u001b[0;31mException\u001b[0m: Stop right there!"
          ]
        }
      ]
    },
    {
      "cell_type": "code",
      "source": [
        "df[df[\"restaurant_id\"].duplicated(keep=False)]"
      ],
      "metadata": {
        "colab": {
          "base_uri": "https://localhost:8080/",
          "height": 586
        },
        "id": "7dvboipppWd8",
        "outputId": "9ac19ad7-3a06-45d6-e04a-090b9f7a377a"
      },
      "execution_count": null,
      "outputs": [
        {
          "output_type": "execute_result",
          "data": {
            "text/plain": [
              "        latitude   longitude  restaurant_id  \\\n",
              "23070  10.762771  106.661509        1003421   \n",
              "59617  10.784192  106.656110        1003421   \n",
              "83860  10.827785  106.679709        1035077   \n",
              "84105  10.827785  106.679709        1035077   \n",
              "\n",
              "                                          name          street_address  \\\n",
              "23070  Chiaki Hiro - Food & Drink - Nguyễn Kim  163/3 Nguyễn Kim, P. 7   \n",
              "59617  Chiaki Hiro - Food & Drink - Nghĩa Phát    278 Nghĩa Phát, P. 6   \n",
              "83860          Cá Viên Chiên 176 - Nguyễn Oanh    36 Nguyễn Oanh, P. 7   \n",
              "84105          Cá Viên Chiên 176 - Nguyễn Oanh    36 Nguyễn Oanh, P. 7   \n",
              "\n",
              "            category  average_rating position_rating price_rating  \\\n",
              "23070        Quán ăn             7.7             7.3          7.3   \n",
              "59617        Quán ăn             7.7             7.3          7.3   \n",
              "83860  Ăn vặt/vỉa hè             8.6             8.7          8.7   \n",
              "84105  Ăn vặt/vỉa hè             8.6             8.7          8.7   \n",
              "\n",
              "      quality_rating service_rating space_rating  review_count  \\\n",
              "23070            8.0            8.0          7.7             3   \n",
              "59617            8.0            8.0          7.7             3   \n",
              "83860            8.7            8.3          8.7             3   \n",
              "84105            8.7            8.3          8.7             3   \n",
              "\n",
              "       review_excellent_count  review_good_count  review_average_count  \\\n",
              "23070                       1                  1                     1   \n",
              "59617                       1                  1                     1   \n",
              "83860                       1                  2                     0   \n",
              "84105                       1                  2                     0   \n",
              "\n",
              "       review_bad_count  view_count  checked_in_count  favourite_count  \\\n",
              "23070                 0         126                 0                2   \n",
              "59617                 0         126                 0                2   \n",
              "83860                 0         475                 0                0   \n",
              "84105                 0         474                 0                0   \n",
              "\n",
              "       wanted_count  picture_count          status  \\\n",
              "23070             0              6  Đang hoạt động   \n",
              "59617             0              6  Đang hoạt động   \n",
              "83860             3             12  Đang hoạt động   \n",
              "84105             3             12  Đang hoạt động   \n",
              "\n",
              "                          time_clock        price_range  \\\n",
              "23070                  08:00 - 23:59  30.000đ - 50.000đ   \n",
              "59617                  08:00 - 23:59  30.000đ - 50.000đ   \n",
              "83860  00:01 - 03:00 | 13:00 - 23:59  10.000đ - 15.000đ   \n",
              "84105  00:01 - 03:00 | 13:00 - 23:59  10.000đ - 15.000đ   \n",
              "\n",
              "                                                     url  area_id  \n",
              "23070  http://www.foody.vn/ho-chi-minh/chiaki-hiro-fo...       61  \n",
              "59617  http://www.foody.vn/ho-chi-minh/chiaki-hiro-fo...      191  \n",
              "83860  http://www.foody.vn/ho-chi-minh/ca-vien-chien-...      279  \n",
              "84105  http://www.foody.vn/ho-chi-minh/ca-vien-chien-...      279  "
            ],
            "text/html": [
              "\n",
              "  <div id=\"df-9fe4ebeb-d8c3-4da6-8242-42f5c32feafc\">\n",
              "    <div class=\"colab-df-container\">\n",
              "      <div>\n",
              "<style scoped>\n",
              "    .dataframe tbody tr th:only-of-type {\n",
              "        vertical-align: middle;\n",
              "    }\n",
              "\n",
              "    .dataframe tbody tr th {\n",
              "        vertical-align: top;\n",
              "    }\n",
              "\n",
              "    .dataframe thead th {\n",
              "        text-align: right;\n",
              "    }\n",
              "</style>\n",
              "<table border=\"1\" class=\"dataframe\">\n",
              "  <thead>\n",
              "    <tr style=\"text-align: right;\">\n",
              "      <th></th>\n",
              "      <th>latitude</th>\n",
              "      <th>longitude</th>\n",
              "      <th>restaurant_id</th>\n",
              "      <th>name</th>\n",
              "      <th>street_address</th>\n",
              "      <th>category</th>\n",
              "      <th>average_rating</th>\n",
              "      <th>position_rating</th>\n",
              "      <th>price_rating</th>\n",
              "      <th>quality_rating</th>\n",
              "      <th>service_rating</th>\n",
              "      <th>space_rating</th>\n",
              "      <th>review_count</th>\n",
              "      <th>review_excellent_count</th>\n",
              "      <th>review_good_count</th>\n",
              "      <th>review_average_count</th>\n",
              "      <th>review_bad_count</th>\n",
              "      <th>view_count</th>\n",
              "      <th>checked_in_count</th>\n",
              "      <th>favourite_count</th>\n",
              "      <th>wanted_count</th>\n",
              "      <th>picture_count</th>\n",
              "      <th>status</th>\n",
              "      <th>time_clock</th>\n",
              "      <th>price_range</th>\n",
              "      <th>url</th>\n",
              "      <th>area_id</th>\n",
              "    </tr>\n",
              "  </thead>\n",
              "  <tbody>\n",
              "    <tr>\n",
              "      <th>23070</th>\n",
              "      <td>10.762771</td>\n",
              "      <td>106.661509</td>\n",
              "      <td>1003421</td>\n",
              "      <td>Chiaki Hiro - Food &amp; Drink - Nguyễn Kim</td>\n",
              "      <td>163/3 Nguyễn Kim, P. 7</td>\n",
              "      <td>Quán ăn</td>\n",
              "      <td>7.7</td>\n",
              "      <td>7.3</td>\n",
              "      <td>7.3</td>\n",
              "      <td>8.0</td>\n",
              "      <td>8.0</td>\n",
              "      <td>7.7</td>\n",
              "      <td>3</td>\n",
              "      <td>1</td>\n",
              "      <td>1</td>\n",
              "      <td>1</td>\n",
              "      <td>0</td>\n",
              "      <td>126</td>\n",
              "      <td>0</td>\n",
              "      <td>2</td>\n",
              "      <td>0</td>\n",
              "      <td>6</td>\n",
              "      <td>Đang hoạt động</td>\n",
              "      <td>08:00 - 23:59</td>\n",
              "      <td>30.000đ - 50.000đ</td>\n",
              "      <td>http://www.foody.vn/ho-chi-minh/chiaki-hiro-fo...</td>\n",
              "      <td>61</td>\n",
              "    </tr>\n",
              "    <tr>\n",
              "      <th>59617</th>\n",
              "      <td>10.784192</td>\n",
              "      <td>106.656110</td>\n",
              "      <td>1003421</td>\n",
              "      <td>Chiaki Hiro - Food &amp; Drink - Nghĩa Phát</td>\n",
              "      <td>278 Nghĩa Phát, P. 6</td>\n",
              "      <td>Quán ăn</td>\n",
              "      <td>7.7</td>\n",
              "      <td>7.3</td>\n",
              "      <td>7.3</td>\n",
              "      <td>8.0</td>\n",
              "      <td>8.0</td>\n",
              "      <td>7.7</td>\n",
              "      <td>3</td>\n",
              "      <td>1</td>\n",
              "      <td>1</td>\n",
              "      <td>1</td>\n",
              "      <td>0</td>\n",
              "      <td>126</td>\n",
              "      <td>0</td>\n",
              "      <td>2</td>\n",
              "      <td>0</td>\n",
              "      <td>6</td>\n",
              "      <td>Đang hoạt động</td>\n",
              "      <td>08:00 - 23:59</td>\n",
              "      <td>30.000đ - 50.000đ</td>\n",
              "      <td>http://www.foody.vn/ho-chi-minh/chiaki-hiro-fo...</td>\n",
              "      <td>191</td>\n",
              "    </tr>\n",
              "    <tr>\n",
              "      <th>83860</th>\n",
              "      <td>10.827785</td>\n",
              "      <td>106.679709</td>\n",
              "      <td>1035077</td>\n",
              "      <td>Cá Viên Chiên 176 - Nguyễn Oanh</td>\n",
              "      <td>36 Nguyễn Oanh, P. 7</td>\n",
              "      <td>Ăn vặt/vỉa hè</td>\n",
              "      <td>8.6</td>\n",
              "      <td>8.7</td>\n",
              "      <td>8.7</td>\n",
              "      <td>8.7</td>\n",
              "      <td>8.3</td>\n",
              "      <td>8.7</td>\n",
              "      <td>3</td>\n",
              "      <td>1</td>\n",
              "      <td>2</td>\n",
              "      <td>0</td>\n",
              "      <td>0</td>\n",
              "      <td>475</td>\n",
              "      <td>0</td>\n",
              "      <td>0</td>\n",
              "      <td>3</td>\n",
              "      <td>12</td>\n",
              "      <td>Đang hoạt động</td>\n",
              "      <td>00:01 - 03:00 | 13:00 - 23:59</td>\n",
              "      <td>10.000đ - 15.000đ</td>\n",
              "      <td>http://www.foody.vn/ho-chi-minh/ca-vien-chien-...</td>\n",
              "      <td>279</td>\n",
              "    </tr>\n",
              "    <tr>\n",
              "      <th>84105</th>\n",
              "      <td>10.827785</td>\n",
              "      <td>106.679709</td>\n",
              "      <td>1035077</td>\n",
              "      <td>Cá Viên Chiên 176 - Nguyễn Oanh</td>\n",
              "      <td>36 Nguyễn Oanh, P. 7</td>\n",
              "      <td>Ăn vặt/vỉa hè</td>\n",
              "      <td>8.6</td>\n",
              "      <td>8.7</td>\n",
              "      <td>8.7</td>\n",
              "      <td>8.7</td>\n",
              "      <td>8.3</td>\n",
              "      <td>8.7</td>\n",
              "      <td>3</td>\n",
              "      <td>1</td>\n",
              "      <td>2</td>\n",
              "      <td>0</td>\n",
              "      <td>0</td>\n",
              "      <td>474</td>\n",
              "      <td>0</td>\n",
              "      <td>0</td>\n",
              "      <td>3</td>\n",
              "      <td>12</td>\n",
              "      <td>Đang hoạt động</td>\n",
              "      <td>00:01 - 03:00 | 13:00 - 23:59</td>\n",
              "      <td>10.000đ - 15.000đ</td>\n",
              "      <td>http://www.foody.vn/ho-chi-minh/ca-vien-chien-...</td>\n",
              "      <td>279</td>\n",
              "    </tr>\n",
              "  </tbody>\n",
              "</table>\n",
              "</div>\n",
              "      <button class=\"colab-df-convert\" onclick=\"convertToInteractive('df-9fe4ebeb-d8c3-4da6-8242-42f5c32feafc')\"\n",
              "              title=\"Convert this dataframe to an interactive table.\"\n",
              "              style=\"display:none;\">\n",
              "        \n",
              "  <svg xmlns=\"http://www.w3.org/2000/svg\" height=\"24px\"viewBox=\"0 0 24 24\"\n",
              "       width=\"24px\">\n",
              "    <path d=\"M0 0h24v24H0V0z\" fill=\"none\"/>\n",
              "    <path d=\"M18.56 5.44l.94 2.06.94-2.06 2.06-.94-2.06-.94-.94-2.06-.94 2.06-2.06.94zm-11 1L8.5 8.5l.94-2.06 2.06-.94-2.06-.94L8.5 2.5l-.94 2.06-2.06.94zm10 10l.94 2.06.94-2.06 2.06-.94-2.06-.94-.94-2.06-.94 2.06-2.06.94z\"/><path d=\"M17.41 7.96l-1.37-1.37c-.4-.4-.92-.59-1.43-.59-.52 0-1.04.2-1.43.59L10.3 9.45l-7.72 7.72c-.78.78-.78 2.05 0 2.83L4 21.41c.39.39.9.59 1.41.59.51 0 1.02-.2 1.41-.59l7.78-7.78 2.81-2.81c.8-.78.8-2.07 0-2.86zM5.41 20L4 18.59l7.72-7.72 1.47 1.35L5.41 20z\"/>\n",
              "  </svg>\n",
              "      </button>\n",
              "      \n",
              "  <style>\n",
              "    .colab-df-container {\n",
              "      display:flex;\n",
              "      flex-wrap:wrap;\n",
              "      gap: 12px;\n",
              "    }\n",
              "\n",
              "    .colab-df-convert {\n",
              "      background-color: #E8F0FE;\n",
              "      border: none;\n",
              "      border-radius: 50%;\n",
              "      cursor: pointer;\n",
              "      display: none;\n",
              "      fill: #1967D2;\n",
              "      height: 32px;\n",
              "      padding: 0 0 0 0;\n",
              "      width: 32px;\n",
              "    }\n",
              "\n",
              "    .colab-df-convert:hover {\n",
              "      background-color: #E2EBFA;\n",
              "      box-shadow: 0px 1px 2px rgba(60, 64, 67, 0.3), 0px 1px 3px 1px rgba(60, 64, 67, 0.15);\n",
              "      fill: #174EA6;\n",
              "    }\n",
              "\n",
              "    [theme=dark] .colab-df-convert {\n",
              "      background-color: #3B4455;\n",
              "      fill: #D2E3FC;\n",
              "    }\n",
              "\n",
              "    [theme=dark] .colab-df-convert:hover {\n",
              "      background-color: #434B5C;\n",
              "      box-shadow: 0px 1px 3px 1px rgba(0, 0, 0, 0.15);\n",
              "      filter: drop-shadow(0px 1px 2px rgba(0, 0, 0, 0.3));\n",
              "      fill: #FFFFFF;\n",
              "    }\n",
              "  </style>\n",
              "\n",
              "      <script>\n",
              "        const buttonEl =\n",
              "          document.querySelector('#df-9fe4ebeb-d8c3-4da6-8242-42f5c32feafc button.colab-df-convert');\n",
              "        buttonEl.style.display =\n",
              "          google.colab.kernel.accessAllowed ? 'block' : 'none';\n",
              "\n",
              "        async function convertToInteractive(key) {\n",
              "          const element = document.querySelector('#df-9fe4ebeb-d8c3-4da6-8242-42f5c32feafc');\n",
              "          const dataTable =\n",
              "            await google.colab.kernel.invokeFunction('convertToInteractive',\n",
              "                                                     [key], {});\n",
              "          if (!dataTable) return;\n",
              "\n",
              "          const docLinkHtml = 'Like what you see? Visit the ' +\n",
              "            '<a target=\"_blank\" href=https://colab.research.google.com/notebooks/data_table.ipynb>data table notebook</a>'\n",
              "            + ' to learn more about interactive tables.';\n",
              "          element.innerHTML = '';\n",
              "          dataTable['output_type'] = 'display_data';\n",
              "          await google.colab.output.renderOutput(dataTable, element);\n",
              "          const docLink = document.createElement('div');\n",
              "          docLink.innerHTML = docLinkHtml;\n",
              "          element.appendChild(docLink);\n",
              "        }\n",
              "      </script>\n",
              "    </div>\n",
              "  </div>\n",
              "  "
            ]
          },
          "metadata": {},
          "execution_count": 372
        }
      ]
    },
    {
      "cell_type": "markdown",
      "source": [
        "Đây là những trường hợp thiểu số, nên thực hiện case-by-case để tiết kiệm tgian\n",
        "- 23070: có thể nguyên nhân do quản đổi địa chỉ\n",
        "- 84105: nguyên nhân do view tăng trong quá trình crawl"
      ],
      "metadata": {
        "id": "X3lNDD8QqJR9"
      }
    },
    {
      "cell_type": "code",
      "source": [
        "df = df.drop([23070, 84105], axis=0)"
      ],
      "metadata": {
        "id": "h_XAsJ1tpaO8"
      },
      "execution_count": null,
      "outputs": []
    },
    {
      "cell_type": "markdown",
      "source": [
        "### Handle value error in rating"
      ],
      "metadata": {
        "id": "-KYCGzFX8W4v"
      }
    },
    {
      "cell_type": "code",
      "source": [
        "df[[\"position_rating\", \"price_rating\", \"quality_rating\", \"service_rating\", \"space_rating\"]] = df[[\"position_rating\", \"price_rating\", \"quality_rating\", \"service_rating\", \"space_rating\"]].replace(\"--\", np.nan)\n",
        "df = df.astype({\n",
        "    \"position_rating\": \"float64\", \n",
        "    \"price_rating\": \"float64\", \n",
        "    \"quality_rating\": \"float64\", \n",
        "    \"service_rating\": \"float64\", \n",
        "    \"space_rating\": \"float64\"\n",
        "})"
      ],
      "metadata": {
        "id": "IT-u0ExI8dsP"
      },
      "execution_count": null,
      "outputs": []
    },
    {
      "cell_type": "markdown",
      "source": [
        "### Import the rest to database"
      ],
      "metadata": {
        "id": "XXDVVAyAqp9K"
      }
    },
    {
      "cell_type": "code",
      "source": [
        "with conn:\n",
        "    cur = conn.cursor()\n",
        "    cur.execute(\"DROP TABLE FOODY_RESTAURANTS_FACT\")\n",
        "    cur.execute(\"CREATE TABLE IF NOT EXISTS FOODY_RESTAURANTS_FACT (\\\n",
        "      restaurant_id integer PRIMARY KEY,\\\n",
        "      latitude real,\\\n",
        "      longitude real,\\\n",
        "      name text,\\\n",
        "      street_address text,\\\n",
        "      category text,\\\n",
        "      average_rating real,\\\n",
        "      position_rating real,\\\n",
        "      price_rating real,\\\n",
        "      quality_rating real,\\\n",
        "      service_rating real,\\\n",
        "      space_rating real,\\\n",
        "      review_count integer,\\\n",
        "      review_excellent_count integer,\\\n",
        "      review_good_count integer,\\\n",
        "      review_average_count integer,\\\n",
        "      review_bad_count integer,\\\n",
        "      view_count integer,\\\n",
        "      checked_in_count integer,\\\n",
        "      favourite_count integer,\\\n",
        "      wanted_count integer,\\\n",
        "      picture_count integer,\\\n",
        "      status text,\\\n",
        "      price_range_min integer,\\\n",
        "      price_range_max integer,\\\n",
        "      area_id integer\\\n",
        "    )\")\n",
        "\n",
        "# These attributes were ommited due to the lack of use for BI \n",
        "# time_clock text,\n",
        "# url text,\\"
      ],
      "metadata": {
        "id": "C5w8oHDvqpuZ"
      },
      "execution_count": null,
      "outputs": []
    },
    {
      "cell_type": "code",
      "source": [
        "df = df.drop([\"time_clock\", \"price_range\", \"url\"], axis=1)\n",
        "df.to_sql(\"FOODY_RESTAURANTS_FACT\", conn, if_exists=\"replace\", index=False)"
      ],
      "metadata": {
        "id": "cWsKK8BE7JUM"
      },
      "execution_count": null,
      "outputs": []
    },
    {
      "cell_type": "markdown",
      "source": [
        "## Shopee"
      ],
      "metadata": {
        "id": "givtRl7S_vFc"
      }
    },
    {
      "cell_type": "markdown",
      "source": [
        "### Staging Shopee dish (2022/11/29)"
      ],
      "metadata": {
        "id": "m-BYF1DXjkpP"
      }
    },
    {
      "cell_type": "code",
      "source": [
        "shopee_file_path = \"Data/1 - raw data/shopee/shopee dish/20221129_dishes/*.parquet\""
      ],
      "metadata": {
        "id": "xmt6m7oUjmQE"
      },
      "execution_count": null,
      "outputs": []
    },
    {
      "cell_type": "code",
      "source": [
        "Path(\"tmp\").mkdir(parents=True, exist_ok=True)\n",
        "\n",
        "for f in _root.glob(shopee_file_path):\n",
        "  # Đọc file lên trước, drop các cột Null\n",
        "  df = pq.read_table(f)\n",
        "  df = ArrowDropNull(df)\n",
        "\n",
        "  # Cast cột discount_pice về double\n",
        "  s = ArrowSchemaToPyDict(df.schema)\n",
        "  try:\n",
        "    s[\"data\"][\"catalogs\"][0][\"dishes\"][0][\"discount_price\"] = \"double\"\n",
        "    df = df.cast(PyDictToArrowSchema(s))\n",
        "  except Exception as e:\n",
        "    print(e)\n",
        "    print(f)\n",
        "\n",
        "  # Ghi tạm xuống\n",
        "  pq.write_table(df, f\"tmp/{f.name}\")"
      ],
      "metadata": {
        "colab": {
          "base_uri": "https://localhost:8080/"
        },
        "id": "RY-efgghjpWg",
        "outputId": "84dd60f4-c0a6-4d21-8ea8-fa1074e0dbd7"
      },
      "execution_count": null,
      "outputs": [
        {
          "output_type": "stream",
          "name": "stdout",
          "text": [
            "struct fields don't match or are in the wrong order: Input fields: struct<total_order: int64, listing_status: bool, partner_dish_id: string, description: string, display_total_order: string, total_like: int64, restaurant_id: int64, rank: int64, id: int64, property_info: struct<has_alcohol: bool>, catalog_id: int64, stock_info: struct<start_time: int64, is_out_stocked: bool, end_time: int64>, is_hidden: bool, sale_time_info: struct<loop_sale_days: list<item: struct<time_for_sales: list<item: struct<start_time_sec: int64, end_time_sec: int64>>, weekday: int64>>, is_in_sale_time: bool>, price: double, is_group_discount_item: bool, name: string> output fields: struct<total_order: int64, listing_status: bool, partner_dish_id: string, description: string, display_total_order: string, total_like: int64, restaurant_id: int64, rank: int64, id: int64, property_info: struct<has_alcohol: bool>, catalog_id: int64, stock_info: struct<start_time: int64, is_out_stocked: bool, end_time: int64>, is_hidden: bool, sale_time_info: struct<loop_sale_days: list<item: struct<time_for_sales: list<item: struct<start_time_sec: int64, end_time_sec: int64>>, weekday: int64>>, is_in_sale_time: bool>, price: double, is_group_discount_item: bool, name: string, discount_price: double>\n",
            "/content/drive/My Drive/Data/1 - raw data/shopee/shopee dish/20221129_dishes/dishes_schema000.parquet\n",
            "struct fields don't match or are in the wrong order: Input fields: struct<total_order: int64, listing_status: bool, partner_dish_id: string, description: string, display_total_order: string, total_like: int64, pictures: list<item: struct<url: string, width: int64, height: int64>>, restaurant_id: int64, rank: int64, id: int64, property_info: struct<has_alcohol: bool>, catalog_id: int64, stock_info: struct<start_time: int64, is_out_stocked: bool, end_time: int64>, is_hidden: bool, sale_time_info: struct<loop_sale_days: list<item: struct<time_for_sales: list<item: struct<start_time_sec: int64, end_time_sec: int64>>, weekday: int64>>, is_in_sale_time: bool>, price: double, is_group_discount_item: bool, name: string> output fields: struct<total_order: int64, listing_status: bool, partner_dish_id: string, description: string, display_total_order: string, total_like: int64, pictures: list<item: struct<url: string, width: int64, height: int64>>, restaurant_id: int64, rank: int64, id: int64, property_info: struct<has_alcohol: bool>, catalog_id: int64, stock_info: struct<start_time: int64, is_out_stocked: bool, end_time: int64>, is_hidden: bool, sale_time_info: struct<loop_sale_days: list<item: struct<time_for_sales: list<item: struct<start_time_sec: int64, end_time_sec: int64>>, weekday: int64>>, is_in_sale_time: bool>, price: double, is_group_discount_item: bool, name: string, discount_price: double>\n",
            "/content/drive/My Drive/Data/1 - raw data/shopee/shopee dish/20221129_dishes/dishes_schema001.parquet\n",
            "struct fields don't match or are in the wrong order: Input fields: struct<total_order: int64, listing_status: bool, partner_dish_id: string, description: string, display_total_order: string, total_like: int64, pictures: list<item: struct<url: string, width: int64, height: int64>>, restaurant_id: int64, rank: int64, id: int64, property_info: struct<has_alcohol: bool>, catalog_id: int64, stock_info: struct<start_time: int64, is_out_stocked: bool, end_time: int64>, is_hidden: bool, sale_time_info: struct<loop_sale_days: list<item: struct<time_for_sales: list<item: struct<start_time_sec: int64, end_time_sec: int64>>, weekday: int64>>, is_in_sale_time: bool>, price: double, is_group_discount_item: bool, name: string> output fields: struct<total_order: int64, listing_status: bool, partner_dish_id: string, description: string, display_total_order: string, total_like: int64, pictures: list<item: struct<url: string, width: int64, height: int64>>, restaurant_id: int64, rank: int64, id: int64, property_info: struct<has_alcohol: bool>, catalog_id: int64, stock_info: struct<start_time: int64, is_out_stocked: bool, end_time: int64>, is_hidden: bool, sale_time_info: struct<loop_sale_days: list<item: struct<time_for_sales: list<item: struct<start_time_sec: int64, end_time_sec: int64>>, weekday: int64>>, is_in_sale_time: bool>, price: double, is_group_discount_item: bool, name: string, discount_price: double>\n",
            "/content/drive/My Drive/Data/1 - raw data/shopee/shopee dish/20221129_dishes/dishes_schema002.parquet\n",
            "struct fields don't match or are in the wrong order: Input fields: struct<total_order: int64, listing_status: bool, partner_dish_id: string, description: string, display_total_order: string, total_like: int64, restaurant_id: int64, rank: int64, id: int64, property_info: struct<has_alcohol: bool>, catalog_id: int64, stock_info: struct<start_time: int64, is_out_stocked: bool, end_time: int64>, is_hidden: bool, sale_time_info: struct<loop_sale_days: list<item: struct<time_for_sales: list<item: struct<start_time_sec: int64, end_time_sec: int64>>, weekday: int64>>, is_in_sale_time: bool>, price: double, is_group_discount_item: bool, name: string> output fields: struct<total_order: int64, listing_status: bool, partner_dish_id: string, description: string, display_total_order: string, total_like: int64, restaurant_id: int64, rank: int64, id: int64, property_info: struct<has_alcohol: bool>, catalog_id: int64, stock_info: struct<start_time: int64, is_out_stocked: bool, end_time: int64>, is_hidden: bool, sale_time_info: struct<loop_sale_days: list<item: struct<time_for_sales: list<item: struct<start_time_sec: int64, end_time_sec: int64>>, weekday: int64>>, is_in_sale_time: bool>, price: double, is_group_discount_item: bool, name: string, discount_price: double>\n",
            "/content/drive/My Drive/Data/1 - raw data/shopee/shopee dish/20221129_dishes/dishes_schema003.parquet\n",
            "'data'\n",
            "/content/drive/My Drive/Data/1 - raw data/shopee/shopee dish/20221129_dishes/dishes_schema004.parquet\n",
            "struct fields don't match or are in the wrong order: Input fields: struct<total_order: int64, listing_status: bool, partner_dish_id: string, description: string, display_total_order: string, total_like: int64, pictures: list<item: struct<url: string, width: int64, height: int64>>, restaurant_id: int64, rank: int64, id: int64, property_info: struct<has_alcohol: bool>, catalog_id: int64, stock_info: struct<start_time: int64, is_out_stocked: bool, end_time: int64>, is_hidden: bool, sale_time_info: struct<loop_sale_days: list<item: struct<time_for_sales: list<item: struct<start_time_sec: int64, end_time_sec: int64>>, weekday: int64>>, custom_sale_days: list<item: struct<custom_date: int64, time_for_sales: list<item: struct<start_time_sec: int64, end_time_sec: int64>>>>, is_in_sale_time: bool>, price: double, is_group_discount_item: bool, name: string> output fields: struct<total_order: int64, listing_status: bool, partner_dish_id: string, description: string, display_total_order: string, total_like: int64, pictures: list<item: struct<url: string, width: int64, height: int64>>, restaurant_id: int64, rank: int64, id: int64, property_info: struct<has_alcohol: bool>, catalog_id: int64, stock_info: struct<start_time: int64, is_out_stocked: bool, end_time: int64>, is_hidden: bool, sale_time_info: struct<loop_sale_days: list<item: struct<time_for_sales: list<item: struct<start_time_sec: int64, end_time_sec: int64>>, weekday: int64>>, custom_sale_days: list<item: struct<custom_date: int64, time_for_sales: list<item: struct<start_time_sec: int64, end_time_sec: int64>>>>, is_in_sale_time: bool>, price: double, is_group_discount_item: bool, name: string, discount_price: double>\n",
            "/content/drive/My Drive/Data/1 - raw data/shopee/shopee dish/20221129_dishes/dishes_schema010.parquet\n",
            "struct fields don't match or are in the wrong order: Input fields: struct<total_order: int64, listing_status: bool, partner_dish_id: string, description: string, display_total_order: string, total_like: int64, pictures: list<item: struct<url: string, width: int64, height: int64>>, restaurant_id: int64, rank: int64, id: int64, picture_label: struct<photos: list<item: struct<width: int64, value: string, height: int64>>, label_position: int64>, property_info: struct<has_alcohol: bool>, catalog_id: int64, stock_info: struct<start_time: int64, is_out_stocked: bool, end_time: int64>, is_hidden: bool, sale_time_info: struct<loop_sale_days: list<item: struct<time_for_sales: list<item: struct<start_time_sec: int64, end_time_sec: int64>>, weekday: int64>>, custom_sale_days: list<item: struct<custom_date: int64, time_for_sales: list<item: struct<start_time_sec: int64, end_time_sec: int64>>>>, is_in_sale_time: bool>, price: double, is_group_discount_item: bool, name: string> output fields: struct<total_order: int64, listing_status: bool, partner_dish_id: string, description: string, display_total_order: string, total_like: int64, pictures: list<item: struct<url: string, width: int64, height: int64>>, restaurant_id: int64, rank: int64, id: int64, picture_label: struct<photos: list<item: struct<width: int64, value: string, height: int64>>, label_position: int64>, property_info: struct<has_alcohol: bool>, catalog_id: int64, stock_info: struct<start_time: int64, is_out_stocked: bool, end_time: int64>, is_hidden: bool, sale_time_info: struct<loop_sale_days: list<item: struct<time_for_sales: list<item: struct<start_time_sec: int64, end_time_sec: int64>>, weekday: int64>>, custom_sale_days: list<item: struct<custom_date: int64, time_for_sales: list<item: struct<start_time_sec: int64, end_time_sec: int64>>>>, is_in_sale_time: bool>, price: double, is_group_discount_item: bool, name: string, discount_price: double>\n",
            "/content/drive/My Drive/Data/1 - raw data/shopee/shopee dish/20221129_dishes/dishes_schema022.parquet\n",
            "struct fields don't match or are in the wrong order: Input fields: struct<total_order: int64, listing_status: bool, partner_dish_id: string, description: string, display_total_order: string, total_like: int64, pictures: list<item: struct<url: string, width: int64, height: int64>>, restaurant_id: int64, rank: int64, id: int64, property_info: struct<has_alcohol: bool>, catalog_id: int64, stock_info: struct<start_time: int64, is_out_stocked: bool, end_time: int64>, is_hidden: bool, sale_time_info: struct<loop_sale_days: list<item: struct<time_for_sales: list<item: struct<start_time_sec: int64, end_time_sec: int64>>, weekday: int64>>, custom_sale_days: list<item: struct<custom_date: int64, time_for_sales: list<item: struct<start_time_sec: int64, end_time_sec: int64>>>>, is_in_sale_time: bool>, price: double, is_group_discount_item: bool, name: string> output fields: struct<total_order: int64, listing_status: bool, partner_dish_id: string, description: string, display_total_order: string, total_like: int64, pictures: list<item: struct<url: string, width: int64, height: int64>>, restaurant_id: int64, rank: int64, id: int64, property_info: struct<has_alcohol: bool>, catalog_id: int64, stock_info: struct<start_time: int64, is_out_stocked: bool, end_time: int64>, is_hidden: bool, sale_time_info: struct<loop_sale_days: list<item: struct<time_for_sales: list<item: struct<start_time_sec: int64, end_time_sec: int64>>, weekday: int64>>, custom_sale_days: list<item: struct<custom_date: int64, time_for_sales: list<item: struct<start_time_sec: int64, end_time_sec: int64>>>>, is_in_sale_time: bool>, price: double, is_group_discount_item: bool, name: string, discount_price: double>\n",
            "/content/drive/My Drive/Data/1 - raw data/shopee/shopee dish/20221129_dishes/dishes_schema030.parquet\n",
            "struct fields don't match or are in the wrong order: Input fields: struct<total_order: int64, listing_status: bool, partner_dish_id: string, description: string, display_total_order: string, total_like: int64, pictures: list<item: struct<url: string, width: int64, height: int64>>, restaurant_id: int64, rank: int64, id: int64, picture_label: struct<photos: list<item: struct<width: int64, value: string, height: int64>>, label_position: int64>, property_info: struct<has_alcohol: bool>, is_available: bool, catalog_id: int64, stock_info: struct<start_time: int64, is_out_stocked: bool, end_time: int64>, is_hidden: bool, sale_time_info: struct<loop_sale_days: list<item: struct<time_for_sales: list<item: struct<start_time_sec: int64, end_time_sec: int64>>, weekday: int64>>, custom_sale_days: list<item: struct<custom_date: int64, time_for_sales: list<item: struct<start_time_sec: int64, end_time_sec: int64>>>>, is_in_sale_time: bool>, price: double, is_group_discount_item: bool, name: string> output fields: struct<total_order: int64, listing_status: bool, partner_dish_id: string, description: string, display_total_order: string, total_like: int64, pictures: list<item: struct<url: string, width: int64, height: int64>>, restaurant_id: int64, rank: int64, id: int64, picture_label: struct<photos: list<item: struct<width: int64, value: string, height: int64>>, label_position: int64>, property_info: struct<has_alcohol: bool>, is_available: bool, catalog_id: int64, stock_info: struct<start_time: int64, is_out_stocked: bool, end_time: int64>, is_hidden: bool, sale_time_info: struct<loop_sale_days: list<item: struct<time_for_sales: list<item: struct<start_time_sec: int64, end_time_sec: int64>>, weekday: int64>>, custom_sale_days: list<item: struct<custom_date: int64, time_for_sales: list<item: struct<start_time_sec: int64, end_time_sec: int64>>>>, is_in_sale_time: bool>, price: double, is_group_discount_item: bool, name: string, discount_price: double>\n",
            "/content/drive/My Drive/Data/1 - raw data/shopee/shopee dish/20221129_dishes/dishes_schema033.parquet\n",
            "struct fields don't match or are in the wrong order: Input fields: struct<total_order: int64, listing_status: bool, partner_dish_id: string, description: string, display_total_order: string, total_like: int64, pictures: list<item: struct<url: string, width: int64, height: int64>>, restaurant_id: int64, rank: int64, id: int64, picture_label: struct<photos: list<item: struct<width: int64, value: string, height: int64>>, label_position: int64>, property_info: struct<has_alcohol: bool>, catalog_id: int64, stock_info: struct<start_time: int64, is_out_stocked: bool, end_time: int64>, is_hidden: bool, sale_time_info: struct<loop_sale_days: list<item: struct<time_for_sales: list<item: struct<start_time_sec: int64, end_time_sec: int64>>, weekday: int64>>, custom_sale_days: list<item: struct<custom_date: int64, time_for_sales: list<item: struct<start_time_sec: int64, end_time_sec: int64>>>>, is_in_sale_time: bool>, price: double, is_group_discount_item: bool, name: string, is_available: bool> output fields: struct<total_order: int64, listing_status: bool, partner_dish_id: string, description: string, display_total_order: string, total_like: int64, pictures: list<item: struct<url: string, width: int64, height: int64>>, restaurant_id: int64, rank: int64, id: int64, picture_label: struct<photos: list<item: struct<width: int64, value: string, height: int64>>, label_position: int64>, property_info: struct<has_alcohol: bool>, catalog_id: int64, stock_info: struct<start_time: int64, is_out_stocked: bool, end_time: int64>, is_hidden: bool, sale_time_info: struct<loop_sale_days: list<item: struct<time_for_sales: list<item: struct<start_time_sec: int64, end_time_sec: int64>>, weekday: int64>>, custom_sale_days: list<item: struct<custom_date: int64, time_for_sales: list<item: struct<start_time_sec: int64, end_time_sec: int64>>>>, is_in_sale_time: bool>, price: double, is_group_discount_item: bool, name: string, is_available: bool, discount_price: double>\n",
            "/content/drive/My Drive/Data/1 - raw data/shopee/shopee dish/20221129_dishes/dishes_schema041.parquet\n",
            "struct fields don't match or are in the wrong order: Input fields: struct<total_order: int64, listing_status: bool, partner_dish_id: string, description: string, display_total_order: string, total_like: int64, pictures: list<item: struct<url: string, width: int64, height: int64>>, restaurant_id: int64, rank: int64, id: int64, property_info: struct<has_alcohol: bool>, catalog_id: int64, stock_info: struct<start_time: int64, is_out_stocked: bool, end_time: int64>, is_hidden: bool, sale_time_info: struct<loop_sale_days: list<item: struct<time_for_sales: list<item: struct<start_time_sec: int64, end_time_sec: int64>>, weekday: int64>>, custom_sale_days: list<item: struct<custom_date: int64, time_for_sales: list<item: struct<start_time_sec: int64, end_time_sec: int64>>>>, is_in_sale_time: bool>, price: double, is_group_discount_item: bool, name: string, picture_label: struct<photos: list<item: struct<width: int64, value: string, height: int64>>, label_position: int64>> output fields: struct<total_order: int64, listing_status: bool, partner_dish_id: string, description: string, display_total_order: string, total_like: int64, pictures: list<item: struct<url: string, width: int64, height: int64>>, restaurant_id: int64, rank: int64, id: int64, property_info: struct<has_alcohol: bool>, catalog_id: int64, stock_info: struct<start_time: int64, is_out_stocked: bool, end_time: int64>, is_hidden: bool, sale_time_info: struct<loop_sale_days: list<item: struct<time_for_sales: list<item: struct<start_time_sec: int64, end_time_sec: int64>>, weekday: int64>>, custom_sale_days: list<item: struct<custom_date: int64, time_for_sales: list<item: struct<start_time_sec: int64, end_time_sec: int64>>>>, is_in_sale_time: bool>, price: double, is_group_discount_item: bool, name: string, picture_label: struct<photos: list<item: struct<width: int64, value: string, height: int64>>, label_position: int64>, discount_price: double>\n",
            "/content/drive/My Drive/Data/1 - raw data/shopee/shopee dish/20221129_dishes/dishes_schema051.parquet\n"
          ]
        }
      ]
    },
    {
      "cell_type": "code",
      "source": [
        "df = spark.read.option(\"mergeSchema\", True).parquet(*list(map(lambda p: str(p), Path(\"tmp/\").glob(\"*.parquet\"))))"
      ],
      "metadata": {
        "id": "yK34FCrfjupi"
      },
      "execution_count": null,
      "outputs": []
    },
    {
      "cell_type": "code",
      "source": [
        "df.coalesce(1).write.format(\"parquet\").mode(\"append\").save(str(_root.joinpath(\"Data/2 - cleaned data/Staging/2022.11.29.dishes.parquet\")))"
      ],
      "metadata": {
        "id": "QC7vHAAPj0y8"
      },
      "execution_count": null,
      "outputs": []
    },
    {
      "cell_type": "markdown",
      "source": [
        "### Staging Shopee dish (2022/11/26)"
      ],
      "metadata": {
        "id": "THVQk773F5gx"
      }
    },
    {
      "cell_type": "markdown",
      "source": [
        "1. Pattern tới chỗ chứa các file để đọc hàng loạt và concat lại"
      ],
      "metadata": {
        "id": "HELy0-bnGHX1"
      }
    },
    {
      "cell_type": "code",
      "source": [
        "shopee_file_path = \"Data/1 - raw data/shopee/shopee dish/20221126_dishes/*.parquet\""
      ],
      "metadata": {
        "id": "nA2JXQ2OGKxg"
      },
      "execution_count": null,
      "outputs": []
    },
    {
      "cell_type": "markdown",
      "source": [
        "2. Bulk reading parquet"
      ],
      "metadata": {
        "id": "YPwnryFvHk7v"
      }
    },
    {
      "cell_type": "code",
      "source": [
        "schemas = []\n",
        "for f in _root.glob(shopee_file_path):\n",
        "  _s = pq.read_schema(f)\n",
        "  schemas.append(_s)"
      ],
      "metadata": {
        "id": "vOp19gVAHltR"
      },
      "execution_count": null,
      "outputs": []
    },
    {
      "cell_type": "code",
      "source": [
        "# Cách đọc và merge với spark\n",
        "# df = spark.read.option(\"mergeSchema\", True).parquet(str(p.joinpath(f\"dishes_schema005.parquet\")), str(p.joinpath(f\"dishes_schema001.parquet\")))"
      ],
      "metadata": {
        "id": "TsbNZmmTF9qm"
      },
      "execution_count": null,
      "outputs": []
    },
    {
      "cell_type": "markdown",
      "source": [
        "#### Old method: compare, create pre-defined schema and enforce them"
      ],
      "metadata": {
        "id": "FbsBoS5ohDAO"
      }
    },
    {
      "cell_type": "markdown",
      "source": [
        "3. Compare convert compatible between all schema"
      ],
      "metadata": {
        "id": "fYdWSZStNpz2"
      }
    },
    {
      "cell_type": "code",
      "source": [
        "def compareSchema(mainSchema: dict, subSchema: dict, tree='', verbose=False):\n",
        "  error_count = 0\n",
        "  if set(mainSchema.keys()) != set(subSchema.keys()):\n",
        "    if verbose:\n",
        "      print(tree)\n",
        "      print(\"Amount of key mismatch\")\n",
        "  if len(set(subSchema.keys())-set(mainSchema.keys())) > 0:\n",
        "    if verbose:\n",
        "      print(tree)\n",
        "      print(\"Missing from main: \", set(subSchema.keys())-set(mainSchema.keys()))\n",
        "    error_count += len(set(subSchema.keys())-set(mainSchema.keys()))\n",
        "  for k in mainSchema.keys():\n",
        "    if k in subSchema.keys():\n",
        "      if mainSchema[k] == ['null'] or subSchema[k] == ['null'] or mainSchema[k] == 'null' or subSchema[k] == 'null':\n",
        "        if mainSchema[k] == ['null'] and subSchema[k] != ['null']:\n",
        "          if verbose:\n",
        "            print(tree)\n",
        "            print(\"Missing NESTED from main: \", k)\n",
        "          error_count += 1\n",
        "        if mainSchema[k] == 'null' and subSchema[k] != 'null':\n",
        "          if verbose:\n",
        "            print(tree)\n",
        "            print(\"Missing NESTED from main: \", k)\n",
        "          error_count += 1\n",
        "      elif type(mainSchema[k]) == dict:\n",
        "        error_count += compareSchema(mainSchema[k], subSchema[k], tree=tree+'->'+k, verbose=verbose)\n",
        "      elif type(mainSchema[k]) == list:\n",
        "        error_count += compareSchema(mainSchema[k][0], subSchema[k][0], tree=tree+'->'+k, verbose=verbose)\n",
        "      elif mainSchema[k] != subSchema[k]:\n",
        "        if verbose:\n",
        "          print(tree)\n",
        "          print(\"Different type at: \", k)\n",
        "        error_count += 1\n",
        "  return error_count"
      ],
      "metadata": {
        "id": "e4xL0jymD54C"
      },
      "execution_count": null,
      "outputs": []
    },
    {
      "cell_type": "code",
      "source": [
        "res = {}\n",
        "best = {\"idx\": 0, \"point\": 999}\n",
        "for i, key_schema in enumerate(schemas):\n",
        "  s = 0\n",
        "  res[i] = []\n",
        "  for j, schema in enumerate(schemas):\n",
        "    c = compareSchema(ArrowSchemaToPyDict(key_schema), ArrowSchemaToPyDict(schema))\n",
        "    res[i].append(c)\n",
        "    s += c\n",
        "  if s < best[\"point\"]:\n",
        "    best.update({\"idx\": i, \"point\": s})"
      ],
      "metadata": {
        "id": "1oyMdRU_3T5-"
      },
      "execution_count": null,
      "outputs": []
    },
    {
      "cell_type": "code",
      "source": [
        "best"
      ],
      "metadata": {
        "colab": {
          "base_uri": "https://localhost:8080/"
        },
        "id": "V_be3cRN8KYM",
        "outputId": "ea018899-4854-4473-c9fa-9b058ce3b053"
      },
      "execution_count": null,
      "outputs": [
        {
          "output_type": "execute_result",
          "data": {
            "text/plain": [
              "{'idx': 20, 'point': 28}"
            ]
          },
          "metadata": {},
          "execution_count": 15
        }
      ]
    },
    {
      "cell_type": "markdown",
      "source": [
        "Cluster all schema that truly the same (pyarrow also compare the order of columns in schema, so we have to compare by dictionary)"
      ],
      "metadata": {
        "id": "9FIhladFNwy0"
      }
    },
    {
      "cell_type": "code",
      "source": [
        "cluster = {}\n",
        "for i, key_schema in enumerate(schemas):\n",
        "  c = 0\n",
        "  for k in cluster.keys():\n",
        "    if ArrowSchemaToPyDict(key_schema) != ArrowSchemaToPyDict(schemas[k]):\n",
        "      c+=1\n",
        "    else:\n",
        "      cluster[k].append(i)\n",
        "  if c == len(cluster.keys()):\n",
        "    cluster[i] = [i]\n",
        "    "
      ],
      "metadata": {
        "id": "dNhdR5giA7s3"
      },
      "execution_count": null,
      "outputs": []
    },
    {
      "cell_type": "code",
      "source": [
        "cluster"
      ],
      "metadata": {
        "colab": {
          "base_uri": "https://localhost:8080/"
        },
        "id": "j3D9E7EpBzIc",
        "outputId": "bf3df713-d83e-4f29-9521-27ddc77197d1"
      },
      "execution_count": null,
      "outputs": [
        {
          "output_type": "execute_result",
          "data": {
            "text/plain": [
              "{0: [0],\n",
              " 1: [1],\n",
              " 2: [2],\n",
              " 3: [3],\n",
              " 4: [4],\n",
              " 5: [5, 12],\n",
              " 6: [6],\n",
              " 7: [7],\n",
              " 8: [8, 10],\n",
              " 9: [9, 18],\n",
              " 11: [11, 15],\n",
              " 13: [13],\n",
              " 14: [14, 22, 23],\n",
              " 16: [16, 33, 60],\n",
              " 17: [17, 25],\n",
              " 19: [19],\n",
              " 20: [20, 44, 58],\n",
              " 21: [21, 49],\n",
              " 24: [24, 42],\n",
              " 26: [26, 45],\n",
              " 27: [27],\n",
              " 28: [28],\n",
              " 29: [29],\n",
              " 30: [30],\n",
              " 31: [31],\n",
              " 32: [32, 55],\n",
              " 34: [34, 54, 64],\n",
              " 35: [35],\n",
              " 36: [36],\n",
              " 37: [37],\n",
              " 38: [38, 69],\n",
              " 39: [39],\n",
              " 40: [40],\n",
              " 41: [41],\n",
              " 43: [43, 59],\n",
              " 46: [46],\n",
              " 47: [47, 68],\n",
              " 48: [48],\n",
              " 50: [50, 61],\n",
              " 51: [51],\n",
              " 52: [52],\n",
              " 53: [53],\n",
              " 56: [56],\n",
              " 57: [57],\n",
              " 62: [62, 63],\n",
              " 65: [65],\n",
              " 66: [66],\n",
              " 67: [67],\n",
              " 70: [70]}"
            ]
          },
          "metadata": {},
          "execution_count": 17
        }
      ]
    },
    {
      "cell_type": "markdown",
      "source": [
        "4. Export compatible score to excel for visualization and check case by case for best schema"
      ],
      "metadata": {
        "id": "q2FzW2XHOARO"
      }
    },
    {
      "cell_type": "code",
      "source": [
        "# pd.DataFrame(res).to_excel(\"res.xlsx\")"
      ],
      "metadata": {
        "id": "RIVzK7AG-3FM"
      },
      "execution_count": null,
      "outputs": []
    },
    {
      "cell_type": "code",
      "source": [
        "compareSchema(ArrowSchemaToPyDict(schemas[20]), ArrowSchemaToPyDict(schemas[28]), verbose=True)\n",
        "# Thiếu \"is_discount_topping\": \"bool\" (16) (dưới id trong dishes)\n",
        "# Thằng 20 \"discount_price\" là \"int64\", còn thằng 28 là \"double\" \n",
        "# Thiếu \"is_available\" (31) (dưới catalog_id trong dishes)"
      ],
      "metadata": {
        "colab": {
          "base_uri": "https://localhost:8080/"
        },
        "id": "CXbQNxYMAcH_",
        "outputId": "791a43e3-8425-4617-c49a-82a3f72cbd37"
      },
      "execution_count": null,
      "outputs": [
        {
          "output_type": "stream",
          "name": "stdout",
          "text": [
            "->data->catalogs\n",
            "Amount of key mismatch\n",
            "->data->catalogs->dishes\n",
            "Amount of key mismatch\n",
            "->data->catalogs->dishes\n",
            "Missing from main:  {'is_discount_topping'}\n",
            "->data->catalogs->dishes\n",
            "Different type at:  discount_price\n"
          ]
        },
        {
          "output_type": "execute_result",
          "data": {
            "text/plain": [
              "2"
            ]
          },
          "metadata": {},
          "execution_count": 19
        }
      ]
    },
    {
      "cell_type": "markdown",
      "source": [
        "5. Define schema and re-read then merge (please note: arrow schema have order, don't change the order as you please)"
      ],
      "metadata": {
        "id": "5c6HvLv0OLYv"
      }
    },
    {
      "cell_type": "code",
      "source": [
        "# ArrowSchemaToDefinition(schemas[20])"
      ],
      "metadata": {
        "id": "fvOFzlzMoEaR"
      },
      "execution_count": null,
      "outputs": []
    },
    {
      "cell_type": "code",
      "source": [
        "schema = pa.schema([\n",
        "\tpa.field(\"msg\", pa.string()),\n",
        "\tpa.field(\"code\", pa.int64()),\n",
        "\tpa.field(\"data\", pa.struct([\n",
        "\t\tpa.field(\"catalogs\", pa.list_(pa.struct([\n",
        "\t\t\tpa.field(\"dishes\", pa.list_(pa.struct([\n",
        "\t\t\t\tpa.field(\"total_order\", pa.int64()),\n",
        "\t\t\t\tpa.field(\"listing_status\", pa.bool_()),\n",
        "\t\t\t\tpa.field(\"partner_dish_id\", pa.string()),\n",
        "\t\t\t\tpa.field(\"display_total_order\", pa.string()),\n",
        "\t\t\t\tpa.field(\"restaurant_id\", pa.int64()),\n",
        "\t\t\t\tpa.field(\"discount_price\", pa.float64()),\n",
        "\t\t\t\tpa.field(\"rank\", pa.int64()),\n",
        "\t\t\t\tpa.field(\"discount_remaining_quantity\", pa.int64()),\n",
        "\t\t\t\tpa.field(\"is_hidden\", pa.bool_()),\n",
        "\t\t\t\tpa.field(\"id\", pa.int64()),\n",
        "\t\t\t\tpa.field(\"is_discount_topping\", pa.bool_()),\n",
        "\t\t\t\tpa.field(\"pictures\", pa.list_(pa.struct([\n",
        "\t\t\t\t\tpa.field(\"url\", pa.string()),\n",
        "\t\t\t\t\tpa.field(\"width\", pa.int64()),\n",
        "\t\t\t\t\tpa.field(\"height\", pa.int64())\n",
        "\t\t\t\t]))),\n",
        "\t\t\t\tpa.field(\"total_like\", pa.int64()),\n",
        "\t\t\t\tpa.field(\"sale_time_info\", pa.struct([\n",
        "\t\t\t\t\tpa.field(\"loop_sale_days\", pa.list_(pa.struct([\n",
        "\t\t\t\t\t\tpa.field(\"time_for_sales\", pa.list_(pa.struct([\n",
        "\t\t\t\t\t\t\tpa.field(\"start_time_sec\", pa.int64()),\n",
        "\t\t\t\t\t\t\tpa.field(\"end_time_sec\", pa.int64())\n",
        "\t\t\t\t\t\t]))),\n",
        "\t\t\t\t\t\tpa.field(\"weekday\", pa.int64())\n",
        "\t\t\t\t\t]))),\n",
        "\t\t\t\t\tpa.field(\"custom_sale_days\", pa.list_(pa.struct([\n",
        "\t\t\t\t\t\tpa.field(\"custom_date\", pa.int64()),\n",
        "\t\t\t\t\t\tpa.field(\"time_for_sales\", pa.list_(pa.struct([\n",
        "\t\t\t\t\t\t\tpa.field(\"start_time_sec\", pa.int64()),\n",
        "\t\t\t\t\t\t\tpa.field(\"end_time_sec\", pa.int64())\n",
        "\t\t\t\t\t\t])))\n",
        "\t\t\t\t\t]))),\n",
        "\t\t\t\t\tpa.field(\"is_in_sale_time\", pa.bool_())\n",
        "\t\t\t\t])),\n",
        "\t\t\t\tpa.field(\"description\", pa.string()),\n",
        "\t\t\t\tpa.field(\"price\", pa.float64()),\n",
        "\t\t\t\tpa.field(\"period\", pa.int64()),\n",
        "\t\t\t\tpa.field(\"property_info\", pa.struct([\n",
        "\t\t\t\t\tpa.field(\"has_alcohol\", pa.bool_())\n",
        "\t\t\t\t])),\n",
        "\t\t\t\tpa.field(\"is_searchable\", pa.bool_()),\n",
        "\t\t\t\tpa.field(\"stock_info\", pa.struct([\n",
        "\t\t\t\t\tpa.field(\"start_time\", pa.int64()),\n",
        "\t\t\t\t\tpa.field(\"is_out_stocked\", pa.bool_()),\n",
        "\t\t\t\t\tpa.field(\"end_time\", pa.int64())\n",
        "\t\t\t\t])),\n",
        "\t\t\t\tpa.field(\"is_group_discount_item\", pa.bool_()),\n",
        "\t\t\t\tpa.field(\"limit_per_order\", pa.int64()),\n",
        "\t\t\t\tpa.field(\"name\", pa.string()),\n",
        "\t\t\t\tpa.field(\"picture_label\", pa.struct([\n",
        "\t\t\t\t\tpa.field(\"photos\", pa.list_(pa.struct([\n",
        "\t\t\t\t\t\tpa.field(\"width\", pa.int64()),\n",
        "\t\t\t\t\t\tpa.field(\"value\", pa.string()),\n",
        "\t\t\t\t\t\tpa.field(\"height\", pa.int64())\n",
        "\t\t\t\t\t]))),\n",
        "\t\t\t\t\tpa.field(\"label_position\", pa.int64())\n",
        "\t\t\t\t])),\n",
        "\t\t\t\tpa.field(\"limit_type\", pa.int64()),\n",
        "\t\t\t\tpa.field(\"catalog_id\", pa.int64()),\n",
        "\t\t\t\tpa.field(\"is_available\", pa.bool_()),\n",
        "\t\t\t]))),\n",
        "\t\t\tpa.field(\"is_group_discount\", pa.bool_()),\n",
        "\t\t\tpa.field(\"id\", pa.int64()),\n",
        "\t\t\tpa.field(\"rank\", pa.int64()),\n",
        "\t\t\tpa.field(\"name\", pa.string()),\n",
        "\t\t\tpa.field(\"restaurant_id\", pa.int64()),\n",
        "\t\t\tpa.field(\"partner_catalog_id\", pa.string()),\n",
        "\t\t\tpa.field(\"sort_type\", pa.int64())\n",
        "\t\t])))\n",
        "\t])),\n",
        "\tpa.field(\"restaurant_id\", pa.int64())\n",
        "])"
      ],
      "metadata": {
        "id": "Wds1flZuoJ1b"
      },
      "execution_count": null,
      "outputs": []
    },
    {
      "cell_type": "markdown",
      "source": [
        "6. FAILED: Re-read the parquet files with new schema enforcement"
      ],
      "metadata": {
        "id": "ykppQHVgsckn"
      }
    },
    {
      "cell_type": "markdown",
      "source": [
        "#### New method: drop and cast all incompatible columns in Arrow, then merge them using Spark"
      ],
      "metadata": {
        "id": "dFqFK9v3hSLi"
      }
    },
    {
      "cell_type": "code",
      "source": [
        "# Stolen from https://stackoverflow.com/questions/71035754/pyarrow-drop-a-column-in-a-nested-structure/71039389#71039389?newreg=0e5baf2fd7184da8adad65c8e1789db3\n",
        "# and improve\n",
        "# def ArrowDropNull(array) (in helper function section)"
      ],
      "metadata": {
        "id": "cDDqdbkM5cDT"
      },
      "execution_count": null,
      "outputs": []
    },
    {
      "cell_type": "markdown",
      "source": [
        "3. Using Arrow to read all files, drop null column, convert discount_price column to double then temporarily write to disk"
      ],
      "metadata": {
        "id": "T-zaDgpchtKq"
      }
    },
    {
      "cell_type": "code",
      "source": [
        "Path(\"tmp\").mkdir(parents=True, exist_ok=True)\n",
        "\n",
        "for f in _root.glob(shopee_file_path):\n",
        "  # Đọc file lên trước, drop các cột Null\n",
        "  df = pq.read_table(f)\n",
        "  df = ArrowDropNull(df)\n",
        "\n",
        "  # Cast cột discount_pice về double\n",
        "  s = ArrowSchemaToPyDict(df.schema)\n",
        "  try:\n",
        "    s[\"data\"][\"catalogs\"][0][\"dishes\"][0][\"discount_price\"] = \"double\"\n",
        "    df = df.cast(PyDictToArrowSchema(s))\n",
        "  except Exception as e:\n",
        "    print(e)\n",
        "    print(f)\n",
        "\n",
        "  # Ghi tạm xuống\n",
        "  pq.write_table(df, f\"tmp/{f.name}\")"
      ],
      "metadata": {
        "colab": {
          "base_uri": "https://localhost:8080/"
        },
        "id": "57zqMiKzsh0x",
        "outputId": "60d7457f-3c2a-45a8-ebe3-a18c465ebb6b"
      },
      "execution_count": null,
      "outputs": [
        {
          "output_type": "stream",
          "name": "stdout",
          "text": [
            "struct fields don't match or are in the wrong order: Input fields: struct<total_order: int64, listing_status: bool, partner_dish_id: string, description: string, display_total_order: string, total_like: int64, pictures: list<item: null>, restaurant_id: int64, rank: int64, id: int64, property_info: struct<has_alcohol: bool>, catalog_id: int64, stock_info: struct<start_time: int64, is_out_stocked: bool, end_time: int64>, is_hidden: bool, sale_time_info: struct<loop_sale_days: list<item: struct<time_for_sales: list<item: struct<start_time_sec: int64, end_time_sec: int64>>, weekday: int64>>, custom_sale_days: list<item: null>, is_in_sale_time: bool>, price: double, is_group_discount_item: bool, name: string> output fields: struct<total_order: int64, listing_status: bool, partner_dish_id: string, description: string, display_total_order: string, total_like: int64, pictures: list<item: null>, restaurant_id: int64, rank: int64, id: int64, property_info: struct<has_alcohol: bool>, catalog_id: int64, stock_info: struct<start_time: int64, is_out_stocked: bool, end_time: int64>, is_hidden: bool, sale_time_info: struct<loop_sale_days: list<item: struct<time_for_sales: list<item: struct<start_time_sec: int64, end_time_sec: int64>>, weekday: int64>>, custom_sale_days: list<item: null>, is_in_sale_time: bool>, price: double, is_group_discount_item: bool, name: string, discount_price: double>\n",
            "/content/drive/My Drive/Data/1 - raw data/shopee/shopee dish/20221126_dishes/dishes_schema000.parquet\n",
            "struct fields don't match or are in the wrong order: Input fields: struct<total_order: int64, listing_status: bool, partner_dish_id: string, description: string, display_total_order: string, total_like: int64, pictures: list<item: struct<url: string, width: int64, height: int64>>, restaurant_id: int64, rank: int64, id: int64, property_info: struct<has_alcohol: bool>, catalog_id: int64, stock_info: struct<start_time: int64, is_out_stocked: bool, end_time: int64>, is_hidden: bool, sale_time_info: struct<loop_sale_days: list<item: struct<time_for_sales: list<item: struct<start_time_sec: int64, end_time_sec: int64>>, weekday: int64>>, custom_sale_days: list<item: null>, is_in_sale_time: bool>, price: double, is_group_discount_item: bool, name: string> output fields: struct<total_order: int64, listing_status: bool, partner_dish_id: string, description: string, display_total_order: string, total_like: int64, pictures: list<item: struct<url: string, width: int64, height: int64>>, restaurant_id: int64, rank: int64, id: int64, property_info: struct<has_alcohol: bool>, catalog_id: int64, stock_info: struct<start_time: int64, is_out_stocked: bool, end_time: int64>, is_hidden: bool, sale_time_info: struct<loop_sale_days: list<item: struct<time_for_sales: list<item: struct<start_time_sec: int64, end_time_sec: int64>>, weekday: int64>>, custom_sale_days: list<item: null>, is_in_sale_time: bool>, price: double, is_group_discount_item: bool, name: string, discount_price: double>\n",
            "/content/drive/My Drive/Data/1 - raw data/shopee/shopee dish/20221126_dishes/dishes_schema001.parquet\n",
            "struct fields don't match or are in the wrong order: Input fields: struct<total_order: int64, listing_status: bool, partner_dish_id: string, description: string, display_total_order: string, total_like: int64, pictures: list<item: struct<url: string, width: int64, height: int64>>, restaurant_id: int64, rank: int64, id: int64, picture_label: null, property_info: struct<has_alcohol: bool>, catalog_id: int64, stock_info: struct<start_time: int64, is_out_stocked: bool, end_time: int64>, is_hidden: bool, sale_time_info: struct<loop_sale_days: list<item: struct<time_for_sales: list<item: struct<start_time_sec: int64, end_time_sec: int64>>, weekday: int64>>, custom_sale_days: list<item: null>, is_in_sale_time: bool>, price: double, is_group_discount_item: bool, name: string> output fields: struct<total_order: int64, listing_status: bool, partner_dish_id: string, description: string, display_total_order: string, total_like: int64, pictures: list<item: struct<url: string, width: int64, height: int64>>, restaurant_id: int64, rank: int64, id: int64, picture_label: null, property_info: struct<has_alcohol: bool>, catalog_id: int64, stock_info: struct<start_time: int64, is_out_stocked: bool, end_time: int64>, is_hidden: bool, sale_time_info: struct<loop_sale_days: list<item: struct<time_for_sales: list<item: struct<start_time_sec: int64, end_time_sec: int64>>, weekday: int64>>, custom_sale_days: list<item: null>, is_in_sale_time: bool>, price: double, is_group_discount_item: bool, name: string, discount_price: double>\n",
            "/content/drive/My Drive/Data/1 - raw data/shopee/shopee dish/20221126_dishes/dishes_schema002.parquet\n",
            "struct fields don't match or are in the wrong order: Input fields: struct<total_order: int64, listing_status: bool, partner_dish_id: string, description: string, display_total_order: string, total_like: int64, pictures: list<item: null>, restaurant_id: int64, rank: int64, id: int64, picture_label: null, property_info: struct<has_alcohol: bool>, catalog_id: int64, stock_info: struct<start_time: int64, is_out_stocked: bool, end_time: int64>, is_hidden: bool, sale_time_info: struct<loop_sale_days: list<item: struct<time_for_sales: list<item: struct<start_time_sec: int64, end_time_sec: int64>>, weekday: int64>>, custom_sale_days: list<item: null>, is_in_sale_time: bool>, price: double, is_group_discount_item: bool, name: string> output fields: struct<total_order: int64, listing_status: bool, partner_dish_id: string, description: string, display_total_order: string, total_like: int64, pictures: list<item: null>, restaurant_id: int64, rank: int64, id: int64, picture_label: null, property_info: struct<has_alcohol: bool>, catalog_id: int64, stock_info: struct<start_time: int64, is_out_stocked: bool, end_time: int64>, is_hidden: bool, sale_time_info: struct<loop_sale_days: list<item: struct<time_for_sales: list<item: struct<start_time_sec: int64, end_time_sec: int64>>, weekday: int64>>, custom_sale_days: list<item: null>, is_in_sale_time: bool>, price: double, is_group_discount_item: bool, name: string, discount_price: double>\n",
            "/content/drive/My Drive/Data/1 - raw data/shopee/shopee dish/20221126_dishes/dishes_schema003.parquet\n",
            "string indices must be integers\n",
            "/content/drive/My Drive/Data/1 - raw data/shopee/shopee dish/20221126_dishes/dishes_schema004.parquet\n",
            "struct fields don't match or are in the wrong order: Input fields: struct<total_order: int64, listing_status: bool, partner_dish_id: string, description: string, display_total_order: string, total_like: int64, pictures: list<item: struct<url: string, width: int64, height: int64>>, restaurant_id: int64, rank: int64, id: int64, picture_label: null, property_info: struct<has_alcohol: bool>, catalog_id: int64, stock_info: struct<start_time: int64, is_out_stocked: bool, end_time: int64>, is_hidden: bool, sale_time_info: struct<loop_sale_days: list<item: struct<time_for_sales: list<item: struct<start_time_sec: int64, end_time_sec: int64>>, weekday: int64>>, custom_sale_days: list<item: struct<custom_date: int64, time_for_sales: list<item: struct<start_time_sec: int64, end_time_sec: int64>>>>, is_in_sale_time: bool>, price: double, is_group_discount_item: bool, name: string> output fields: struct<total_order: int64, listing_status: bool, partner_dish_id: string, description: string, display_total_order: string, total_like: int64, pictures: list<item: struct<url: string, width: int64, height: int64>>, restaurant_id: int64, rank: int64, id: int64, picture_label: null, property_info: struct<has_alcohol: bool>, catalog_id: int64, stock_info: struct<start_time: int64, is_out_stocked: bool, end_time: int64>, is_hidden: bool, sale_time_info: struct<loop_sale_days: list<item: struct<time_for_sales: list<item: struct<start_time_sec: int64, end_time_sec: int64>>, weekday: int64>>, custom_sale_days: list<item: struct<custom_date: int64, time_for_sales: list<item: struct<start_time_sec: int64, end_time_sec: int64>>>>, is_in_sale_time: bool>, price: double, is_group_discount_item: bool, name: string, discount_price: double>\n",
            "/content/drive/My Drive/Data/1 - raw data/shopee/shopee dish/20221126_dishes/dishes_schema013.parquet\n",
            "struct fields don't match or are in the wrong order: Input fields: struct<total_order: int64, listing_status: bool, partner_dish_id: string, description: string, display_total_order: string, total_like: int64, pictures: list<item: struct<url: string, width: int64, height: int64>>, restaurant_id: int64, rank: int64, id: int64, picture_label: struct<photos: list<item: struct<width: int64, value: string, height: int64>>, label_position: int64>, property_info: struct<has_alcohol: bool>, catalog_id: int64, stock_info: struct<start_time: int64, is_out_stocked: bool, end_time: int64>, is_hidden: bool, sale_time_info: struct<loop_sale_days: list<item: struct<time_for_sales: list<item: struct<start_time_sec: int64, end_time_sec: int64>>, weekday: int64>>, custom_sale_days: list<item: struct<custom_date: int64, time_for_sales: list<item: struct<start_time_sec: int64, end_time_sec: int64>>>>, is_in_sale_time: bool>, price: double, is_group_discount_item: bool, name: string> output fields: struct<total_order: int64, listing_status: bool, partner_dish_id: string, description: string, display_total_order: string, total_like: int64, pictures: list<item: struct<url: string, width: int64, height: int64>>, restaurant_id: int64, rank: int64, id: int64, picture_label: struct<photos: list<item: struct<width: int64, value: string, height: int64>>, label_position: int64>, property_info: struct<has_alcohol: bool>, catalog_id: int64, stock_info: struct<start_time: int64, is_out_stocked: bool, end_time: int64>, is_hidden: bool, sale_time_info: struct<loop_sale_days: list<item: struct<time_for_sales: list<item: struct<start_time_sec: int64, end_time_sec: int64>>, weekday: int64>>, custom_sale_days: list<item: struct<custom_date: int64, time_for_sales: list<item: struct<start_time_sec: int64, end_time_sec: int64>>>>, is_in_sale_time: bool>, price: double, is_group_discount_item: bool, name: string, discount_price: double>\n",
            "/content/drive/My Drive/Data/1 - raw data/shopee/shopee dish/20221126_dishes/dishes_schema021.parquet\n",
            "struct fields don't match or are in the wrong order: Input fields: struct<total_order: int64, listing_status: bool, partner_dish_id: string, description: string, display_total_order: string, total_like: int64, pictures: list<item: struct<url: string, width: int64, height: int64>>, restaurant_id: int64, rank: int64, id: int64, property_info: struct<has_alcohol: bool>, catalog_id: int64, stock_info: struct<start_time: int64, is_out_stocked: bool, end_time: int64>, is_hidden: bool, sale_time_info: struct<loop_sale_days: list<item: struct<time_for_sales: list<item: struct<start_time_sec: int64, end_time_sec: int64>>, weekday: int64>>, custom_sale_days: list<item: struct<custom_date: int64, time_for_sales: list<item: struct<start_time_sec: int64, end_time_sec: int64>>>>, is_in_sale_time: bool>, price: double, is_group_discount_item: bool, name: string> output fields: struct<total_order: int64, listing_status: bool, partner_dish_id: string, description: string, display_total_order: string, total_like: int64, pictures: list<item: struct<url: string, width: int64, height: int64>>, restaurant_id: int64, rank: int64, id: int64, property_info: struct<has_alcohol: bool>, catalog_id: int64, stock_info: struct<start_time: int64, is_out_stocked: bool, end_time: int64>, is_hidden: bool, sale_time_info: struct<loop_sale_days: list<item: struct<time_for_sales: list<item: struct<start_time_sec: int64, end_time_sec: int64>>, weekday: int64>>, custom_sale_days: list<item: struct<custom_date: int64, time_for_sales: list<item: struct<start_time_sec: int64, end_time_sec: int64>>>>, is_in_sale_time: bool>, price: double, is_group_discount_item: bool, name: string, discount_price: double>\n",
            "/content/drive/My Drive/Data/1 - raw data/shopee/shopee dish/20221126_dishes/dishes_schema029.parquet\n",
            "struct fields don't match or are in the wrong order: Input fields: struct<total_order: int64, listing_status: bool, partner_dish_id: string, description: string, display_total_order: string, total_like: int64, pictures: list<item: struct<url: string, width: int64, height: int64>>, restaurant_id: int64, rank: int64, id: int64, picture_label: struct<photos: list<item: struct<width: int64, value: string, height: int64>>, label_position: int64>, property_info: struct<has_alcohol: bool>, is_available: bool, catalog_id: int64, stock_info: struct<start_time: int64, is_out_stocked: bool, end_time: int64>, is_hidden: bool, sale_time_info: struct<loop_sale_days: list<item: struct<time_for_sales: list<item: struct<start_time_sec: int64, end_time_sec: int64>>, weekday: int64>>, custom_sale_days: list<item: struct<custom_date: int64, time_for_sales: list<item: struct<start_time_sec: int64, end_time_sec: int64>>>>, is_in_sale_time: bool>, price: double, is_group_discount_item: bool, name: string> output fields: struct<total_order: int64, listing_status: bool, partner_dish_id: string, description: string, display_total_order: string, total_like: int64, pictures: list<item: struct<url: string, width: int64, height: int64>>, restaurant_id: int64, rank: int64, id: int64, picture_label: struct<photos: list<item: struct<width: int64, value: string, height: int64>>, label_position: int64>, property_info: struct<has_alcohol: bool>, is_available: bool, catalog_id: int64, stock_info: struct<start_time: int64, is_out_stocked: bool, end_time: int64>, is_hidden: bool, sale_time_info: struct<loop_sale_days: list<item: struct<time_for_sales: list<item: struct<start_time_sec: int64, end_time_sec: int64>>, weekday: int64>>, custom_sale_days: list<item: struct<custom_date: int64, time_for_sales: list<item: struct<start_time_sec: int64, end_time_sec: int64>>>>, is_in_sale_time: bool>, price: double, is_group_discount_item: bool, name: string, discount_price: double>\n",
            "/content/drive/My Drive/Data/1 - raw data/shopee/shopee dish/20221126_dishes/dishes_schema032.parquet\n",
            "struct fields don't match or are in the wrong order: Input fields: struct<total_order: int64, listing_status: bool, partner_dish_id: string, description: string, display_total_order: string, total_like: int64, pictures: list<item: struct<url: string, width: int64, height: int64>>, restaurant_id: int64, rank: int64, id: int64, property_info: struct<has_alcohol: bool>, catalog_id: int64, stock_info: struct<start_time: int64, is_out_stocked: bool, end_time: int64>, is_hidden: bool, sale_time_info: struct<loop_sale_days: list<item: struct<time_for_sales: list<item: struct<start_time_sec: int64, end_time_sec: int64>>, weekday: int64>>, custom_sale_days: list<item: struct<custom_date: int64, time_for_sales: list<item: struct<start_time_sec: int64, end_time_sec: int64>>>>, is_in_sale_time: bool>, price: double, is_group_discount_item: bool, name: string, picture_label: struct<photos: list<item: struct<width: int64, value: string, height: int64>>, label_position: int64>> output fields: struct<total_order: int64, listing_status: bool, partner_dish_id: string, description: string, display_total_order: string, total_like: int64, pictures: list<item: struct<url: string, width: int64, height: int64>>, restaurant_id: int64, rank: int64, id: int64, property_info: struct<has_alcohol: bool>, catalog_id: int64, stock_info: struct<start_time: int64, is_out_stocked: bool, end_time: int64>, is_hidden: bool, sale_time_info: struct<loop_sale_days: list<item: struct<time_for_sales: list<item: struct<start_time_sec: int64, end_time_sec: int64>>, weekday: int64>>, custom_sale_days: list<item: struct<custom_date: int64, time_for_sales: list<item: struct<start_time_sec: int64, end_time_sec: int64>>>>, is_in_sale_time: bool>, price: double, is_group_discount_item: bool, name: string, picture_label: struct<photos: list<item: struct<width: int64, value: string, height: int64>>, label_position: int64>, discount_price: double>\n",
            "/content/drive/My Drive/Data/1 - raw data/shopee/shopee dish/20221126_dishes/dishes_schema049.parquet\n",
            "struct fields don't match or are in the wrong order: Input fields: struct<total_order: int64, listing_status: bool, partner_dish_id: string, description: string, display_total_order: string, total_like: int64, pictures: list<item: struct<url: string, width: int64, height: int64>>, restaurant_id: int64, rank: int64, id: int64, picture_label: struct<photos: list<item: struct<width: int64, value: string, height: int64>>, label_position: int64>, property_info: struct<has_alcohol: bool>, catalog_id: int64, stock_info: struct<start_time: int64, is_out_stocked: bool, end_time: int64>, is_hidden: bool, sale_time_info: struct<loop_sale_days: list<item: struct<time_for_sales: list<item: struct<start_time_sec: int64, end_time_sec: int64>>, weekday: int64>>, custom_sale_days: list<item: struct<custom_date: int64, time_for_sales: list<item: struct<start_time_sec: int64, end_time_sec: int64>>>>, is_in_sale_time: bool>, price: double, is_group_discount_item: bool, name: string, is_available: bool> output fields: struct<total_order: int64, listing_status: bool, partner_dish_id: string, description: string, display_total_order: string, total_like: int64, pictures: list<item: struct<url: string, width: int64, height: int64>>, restaurant_id: int64, rank: int64, id: int64, picture_label: struct<photos: list<item: struct<width: int64, value: string, height: int64>>, label_position: int64>, property_info: struct<has_alcohol: bool>, catalog_id: int64, stock_info: struct<start_time: int64, is_out_stocked: bool, end_time: int64>, is_hidden: bool, sale_time_info: struct<loop_sale_days: list<item: struct<time_for_sales: list<item: struct<start_time_sec: int64, end_time_sec: int64>>, weekday: int64>>, custom_sale_days: list<item: struct<custom_date: int64, time_for_sales: list<item: struct<start_time_sec: int64, end_time_sec: int64>>>>, is_in_sale_time: bool>, price: double, is_group_discount_item: bool, name: string, is_available: bool, discount_price: double>\n",
            "/content/drive/My Drive/Data/1 - raw data/shopee/shopee dish/20221126_dishes/dishes_schema055.parquet\n",
            "struct fields don't match or are in the wrong order: Input fields: struct<total_order: int64, listing_status: bool, partner_dish_id: string, description: string, display_total_order: string, total_like: int64, pictures: list<item: struct<url: string, width: int64, height: int64>>, restaurant_id: int64, rank: int64, id: int64, picture_label: struct<photos: list<item: struct<width: int64, value: string, height: int64>>, label_position: int64>, property_info: struct<has_alcohol: bool>, is_available: bool, catalog_id: int64, stock_info: struct<start_time: int64, is_out_stocked: bool, end_time: int64>, is_hidden: bool, sale_time_info: struct<loop_sale_days: list<item: struct<time_for_sales: list<item: struct<start_time_sec: int64, end_time_sec: int64>>, weekday: int64>>, custom_sale_days: list<item: null>, is_in_sale_time: bool>, price: double, is_group_discount_item: bool, name: string> output fields: struct<total_order: int64, listing_status: bool, partner_dish_id: string, description: string, display_total_order: string, total_like: int64, pictures: list<item: struct<url: string, width: int64, height: int64>>, restaurant_id: int64, rank: int64, id: int64, picture_label: struct<photos: list<item: struct<width: int64, value: string, height: int64>>, label_position: int64>, property_info: struct<has_alcohol: bool>, is_available: bool, catalog_id: int64, stock_info: struct<start_time: int64, is_out_stocked: bool, end_time: int64>, is_hidden: bool, sale_time_info: struct<loop_sale_days: list<item: struct<time_for_sales: list<item: struct<start_time_sec: int64, end_time_sec: int64>>, weekday: int64>>, custom_sale_days: list<item: null>, is_in_sale_time: bool>, price: double, is_group_discount_item: bool, name: string, discount_price: double>\n",
            "/content/drive/My Drive/Data/1 - raw data/shopee/shopee dish/20221126_dishes/dishes_schema070.parquet\n"
          ]
        }
      ]
    },
    {
      "cell_type": "markdown",
      "source": [
        "4. Use Spark to read and merge all the files, then write back the latest output"
      ],
      "metadata": {
        "id": "jn8jilXLh8As"
      }
    },
    {
      "cell_type": "code",
      "source": [
        "df = spark.read.option(\"mergeSchema\", True).parquet(*list(map(lambda p: str(p), Path(\"tmp/\").glob(\"*.parquet\"))))"
      ],
      "metadata": {
        "id": "as61cCLlUNlx"
      },
      "execution_count": null,
      "outputs": []
    },
    {
      "cell_type": "code",
      "source": [
        "df.printSchema()"
      ],
      "metadata": {
        "colab": {
          "base_uri": "https://localhost:8080/"
        },
        "id": "TqrKBbV6dYPB",
        "outputId": "81fed839-6815-43b4-fdf4-b3765fac53b9"
      },
      "execution_count": null,
      "outputs": [
        {
          "output_type": "stream",
          "name": "stdout",
          "text": [
            "root\n",
            " |-- msg: string (nullable = true)\n",
            " |-- code: long (nullable = true)\n",
            " |-- data: struct (nullable = true)\n",
            " |    |-- catalogs: array (nullable = true)\n",
            " |    |    |-- element: struct (containsNull = true)\n",
            " |    |    |    |-- name: string (nullable = true)\n",
            " |    |    |    |-- dishes: array (nullable = true)\n",
            " |    |    |    |    |-- element: struct (containsNull = true)\n",
            " |    |    |    |    |    |-- total_order: long (nullable = true)\n",
            " |    |    |    |    |    |-- listing_status: boolean (nullable = true)\n",
            " |    |    |    |    |    |-- partner_dish_id: string (nullable = true)\n",
            " |    |    |    |    |    |-- description: string (nullable = true)\n",
            " |    |    |    |    |    |-- display_total_order: string (nullable = true)\n",
            " |    |    |    |    |    |-- total_like: long (nullable = true)\n",
            " |    |    |    |    |    |-- restaurant_id: long (nullable = true)\n",
            " |    |    |    |    |    |-- rank: long (nullable = true)\n",
            " |    |    |    |    |    |-- id: long (nullable = true)\n",
            " |    |    |    |    |    |-- property_info: struct (nullable = true)\n",
            " |    |    |    |    |    |    |-- has_alcohol: boolean (nullable = true)\n",
            " |    |    |    |    |    |-- catalog_id: long (nullable = true)\n",
            " |    |    |    |    |    |-- stock_info: struct (nullable = true)\n",
            " |    |    |    |    |    |    |-- start_time: long (nullable = true)\n",
            " |    |    |    |    |    |    |-- is_out_stocked: boolean (nullable = true)\n",
            " |    |    |    |    |    |    |-- end_time: long (nullable = true)\n",
            " |    |    |    |    |    |-- is_hidden: boolean (nullable = true)\n",
            " |    |    |    |    |    |-- sale_time_info: struct (nullable = true)\n",
            " |    |    |    |    |    |    |-- loop_sale_days: array (nullable = true)\n",
            " |    |    |    |    |    |    |    |-- element: struct (containsNull = true)\n",
            " |    |    |    |    |    |    |    |    |-- time_for_sales: array (nullable = true)\n",
            " |    |    |    |    |    |    |    |    |    |-- element: struct (containsNull = true)\n",
            " |    |    |    |    |    |    |    |    |    |    |-- start_time_sec: long (nullable = true)\n",
            " |    |    |    |    |    |    |    |    |    |    |-- end_time_sec: long (nullable = true)\n",
            " |    |    |    |    |    |    |    |    |-- weekday: long (nullable = true)\n",
            " |    |    |    |    |    |    |-- is_in_sale_time: boolean (nullable = true)\n",
            " |    |    |    |    |    |    |-- custom_sale_days: array (nullable = true)\n",
            " |    |    |    |    |    |    |    |-- element: struct (containsNull = true)\n",
            " |    |    |    |    |    |    |    |    |-- custom_date: long (nullable = true)\n",
            " |    |    |    |    |    |    |    |    |-- time_for_sales: array (nullable = true)\n",
            " |    |    |    |    |    |    |    |    |    |-- element: struct (containsNull = true)\n",
            " |    |    |    |    |    |    |    |    |    |    |-- start_time_sec: long (nullable = true)\n",
            " |    |    |    |    |    |    |    |    |    |    |-- end_time_sec: long (nullable = true)\n",
            " |    |    |    |    |    |-- price: double (nullable = true)\n",
            " |    |    |    |    |    |-- is_group_discount_item: boolean (nullable = true)\n",
            " |    |    |    |    |    |-- name: string (nullable = true)\n",
            " |    |    |    |    |    |-- pictures: array (nullable = true)\n",
            " |    |    |    |    |    |    |-- element: struct (containsNull = true)\n",
            " |    |    |    |    |    |    |    |-- url: string (nullable = true)\n",
            " |    |    |    |    |    |    |    |-- width: long (nullable = true)\n",
            " |    |    |    |    |    |    |    |-- height: long (nullable = true)\n",
            " |    |    |    |    |    |-- discount_price: double (nullable = true)\n",
            " |    |    |    |    |    |-- is_searchable: boolean (nullable = true)\n",
            " |    |    |    |    |    |-- discount_remaining_quantity: long (nullable = true)\n",
            " |    |    |    |    |    |-- limit_type: long (nullable = true)\n",
            " |    |    |    |    |    |-- is_discount_topping: boolean (nullable = true)\n",
            " |    |    |    |    |    |-- period: long (nullable = true)\n",
            " |    |    |    |    |    |-- limit_per_order: long (nullable = true)\n",
            " |    |    |    |    |    |-- picture_label: struct (nullable = true)\n",
            " |    |    |    |    |    |    |-- photos: array (nullable = true)\n",
            " |    |    |    |    |    |    |    |-- element: struct (containsNull = true)\n",
            " |    |    |    |    |    |    |    |    |-- width: long (nullable = true)\n",
            " |    |    |    |    |    |    |    |    |-- value: string (nullable = true)\n",
            " |    |    |    |    |    |    |    |    |-- height: long (nullable = true)\n",
            " |    |    |    |    |    |    |-- label_position: long (nullable = true)\n",
            " |    |    |    |    |    |-- is_available: boolean (nullable = true)\n",
            " |    |    |    |-- restaurant_id: long (nullable = true)\n",
            " |    |    |    |-- partner_catalog_id: string (nullable = true)\n",
            " |    |    |    |-- rank: long (nullable = true)\n",
            " |    |    |    |-- sort_type: long (nullable = true)\n",
            " |    |    |    |-- id: long (nullable = true)\n",
            " |    |    |    |-- is_group_discount: boolean (nullable = true)\n",
            " |-- restaurant_id: long (nullable = true)\n",
            "\n"
          ]
        }
      ]
    },
    {
      "cell_type": "code",
      "source": [
        "df.coalesce(1).write.format(\"parquet\").mode(\"append\").save(str(_root.joinpath(\"Data/2 - cleaned data/Staging/2022.11.26.dishes.parquet\")))"
      ],
      "metadata": {
        "id": "yn6MgzvTeD7z"
      },
      "execution_count": null,
      "outputs": []
    },
    {
      "cell_type": "code",
      "source": [
        "t = pq.read_table(_root.joinpath(\"Data/2 - cleaned data/Staging/2022.11.26.dishes.parquet\"))"
      ],
      "metadata": {
        "id": "w3YygmfMehNk"
      },
      "execution_count": null,
      "outputs": []
    },
    {
      "cell_type": "code",
      "source": [
        "ArrowSchemaToPyDict(t.schema)"
      ],
      "metadata": {
        "colab": {
          "base_uri": "https://localhost:8080/"
        },
        "id": "bjDmMiTbemVI",
        "outputId": "ace65cd9-a754-4a20-d4e3-bf8ff253785a"
      },
      "execution_count": null,
      "outputs": [
        {
          "output_type": "execute_result",
          "data": {
            "text/plain": [
              "{'msg': 'string',\n",
              " 'code': 'int64',\n",
              " 'data': {'catalogs': [{'name': 'string',\n",
              "    'dishes': [{'total_order': 'int64',\n",
              "      'listing_status': 'bool',\n",
              "      'partner_dish_id': 'string',\n",
              "      'description': 'string',\n",
              "      'display_total_order': 'string',\n",
              "      'total_like': 'int64',\n",
              "      'restaurant_id': 'int64',\n",
              "      'rank': 'int64',\n",
              "      'id': 'int64',\n",
              "      'property_info': {'has_alcohol': 'bool'},\n",
              "      'catalog_id': 'int64',\n",
              "      'stock_info': {'start_time': 'int64',\n",
              "       'is_out_stocked': 'bool',\n",
              "       'end_time': 'int64'},\n",
              "      'is_hidden': 'bool',\n",
              "      'sale_time_info': {'loop_sale_days': [{'time_for_sales': [{'start_time_sec': 'int64',\n",
              "           'end_time_sec': 'int64'}],\n",
              "         'weekday': 'int64'}],\n",
              "       'is_in_sale_time': 'bool',\n",
              "       'custom_sale_days': [{'custom_date': 'int64',\n",
              "         'time_for_sales': [{'start_time_sec': 'int64',\n",
              "           'end_time_sec': 'int64'}]}]},\n",
              "      'price': 'double',\n",
              "      'is_group_discount_item': 'bool',\n",
              "      'name': 'string',\n",
              "      'pictures': [{'url': 'string', 'width': 'int64', 'height': 'int64'}],\n",
              "      'discount_price': 'double',\n",
              "      'is_searchable': 'bool',\n",
              "      'discount_remaining_quantity': 'int64',\n",
              "      'limit_type': 'int64',\n",
              "      'is_discount_topping': 'bool',\n",
              "      'period': 'int64',\n",
              "      'limit_per_order': 'int64',\n",
              "      'picture_label': {'photos': [{'width': 'int64',\n",
              "         'value': 'string',\n",
              "         'height': 'int64'}],\n",
              "       'label_position': 'int64'},\n",
              "      'is_available': 'bool'}],\n",
              "    'restaurant_id': 'int64',\n",
              "    'partner_catalog_id': 'string',\n",
              "    'rank': 'int64',\n",
              "    'sort_type': 'int64',\n",
              "    'id': 'int64',\n",
              "    'is_group_discount': 'bool'}]},\n",
              " 'restaurant_id': 'int64'}"
            ]
          },
          "metadata": {},
          "execution_count": 215
        }
      ]
    },
    {
      "cell_type": "markdown",
      "source": [
        "### Staging Shopee topping (2022/11/21)\n",
        "\n"
      ],
      "metadata": {
        "id": "VfnM6gWRhcsj"
      }
    },
    {
      "cell_type": "markdown",
      "source": [
        "1. Pattern tới chỗ chứa các file để đọc hàng loạt và concat lại"
      ],
      "metadata": {
        "id": "fCl-4D3Ehcsk"
      }
    },
    {
      "cell_type": "code",
      "source": [
        "shopee_file_path = \"Data/1 - raw data/shopee/dish topping/split_dish_topping/*.csv\""
      ],
      "metadata": {
        "id": "RjKlfL5khcsk"
      },
      "execution_count": null,
      "outputs": []
    },
    {
      "cell_type": "markdown",
      "source": [
        "2. Bulk reading csv"
      ],
      "metadata": {
        "id": "q37hqLxOhcsl"
      }
    },
    {
      "cell_type": "code",
      "source": [
        "df = []\n",
        "for f in _root.glob(shopee_file_path):\n",
        "  _df = pd.read_csv(f, na_filter=False)\n",
        "  try:\n",
        "    _df = _df[_df.restaurant_id != '']\n",
        "    df.append(_df)\n",
        "  except:\n",
        "    print(f)\n",
        "    display(_df)\n",
        "\n",
        "df = pd.concat(df).drop(\"Unnamed: 0\", axis=1)"
      ],
      "metadata": {
        "id": "QGR6dx5Lhcsl"
      },
      "execution_count": null,
      "outputs": []
    },
    {
      "cell_type": "code",
      "source": [
        "df"
      ],
      "metadata": {
        "colab": {
          "base_uri": "https://localhost:8080/",
          "height": 424
        },
        "outputId": "0668b672-3a2b-45f7-fb48-f94ad427fc06",
        "id": "kgb-kDOahcsl"
      },
      "execution_count": null,
      "outputs": [
        {
          "output_type": "execute_result",
          "data": {
            "text/plain": [
              "       restaurant_id   dish_id  \\\n",
              "0            1114911  28885958   \n",
              "1            1114911  28885933   \n",
              "2            1114911  28885947   \n",
              "3            1114911  28885937   \n",
              "4            1114911  28885944   \n",
              "...              ...       ...   \n",
              "11244        1134408  71085623   \n",
              "11245        1134408  71085121   \n",
              "11246        1134408  71086298   \n",
              "11247        1134408  71085930   \n",
              "11248        1134408  71088907   \n",
              "\n",
              "                                            topping_data  \n",
              "0      {\"msg\": \"success\", \"code\": 0, \"data\": {\"option...  \n",
              "1      {\"msg\": \"success\", \"code\": 0, \"data\": {\"option...  \n",
              "2      {\"msg\": \"success\", \"code\": 0, \"data\": {\"option...  \n",
              "3      {\"msg\": \"success\", \"code\": 0, \"data\": {\"option...  \n",
              "4      {\"msg\": \"success\", \"code\": 0, \"data\": {\"option...  \n",
              "...                                                  ...  \n",
              "11244  {\"msg\": \"success\", \"code\": 0, \"data\": {\"option...  \n",
              "11245  {\"msg\": \"success\", \"code\": 0, \"data\": {\"option...  \n",
              "11246  {\"msg\": \"success\", \"code\": 0, \"data\": {\"option...  \n",
              "11247  {\"msg\": \"success\", \"code\": 0, \"data\": {\"option...  \n",
              "11248  {\"msg\": \"success\", \"code\": 0, \"data\": {\"option...  \n",
              "\n",
              "[265154 rows x 3 columns]"
            ],
            "text/html": [
              "\n",
              "  <div id=\"df-d6714083-bc9b-463e-ae5b-3f5d76534dc3\">\n",
              "    <div class=\"colab-df-container\">\n",
              "      <div>\n",
              "<style scoped>\n",
              "    .dataframe tbody tr th:only-of-type {\n",
              "        vertical-align: middle;\n",
              "    }\n",
              "\n",
              "    .dataframe tbody tr th {\n",
              "        vertical-align: top;\n",
              "    }\n",
              "\n",
              "    .dataframe thead th {\n",
              "        text-align: right;\n",
              "    }\n",
              "</style>\n",
              "<table border=\"1\" class=\"dataframe\">\n",
              "  <thead>\n",
              "    <tr style=\"text-align: right;\">\n",
              "      <th></th>\n",
              "      <th>restaurant_id</th>\n",
              "      <th>dish_id</th>\n",
              "      <th>topping_data</th>\n",
              "    </tr>\n",
              "  </thead>\n",
              "  <tbody>\n",
              "    <tr>\n",
              "      <th>0</th>\n",
              "      <td>1114911</td>\n",
              "      <td>28885958</td>\n",
              "      <td>{\"msg\": \"success\", \"code\": 0, \"data\": {\"option...</td>\n",
              "    </tr>\n",
              "    <tr>\n",
              "      <th>1</th>\n",
              "      <td>1114911</td>\n",
              "      <td>28885933</td>\n",
              "      <td>{\"msg\": \"success\", \"code\": 0, \"data\": {\"option...</td>\n",
              "    </tr>\n",
              "    <tr>\n",
              "      <th>2</th>\n",
              "      <td>1114911</td>\n",
              "      <td>28885947</td>\n",
              "      <td>{\"msg\": \"success\", \"code\": 0, \"data\": {\"option...</td>\n",
              "    </tr>\n",
              "    <tr>\n",
              "      <th>3</th>\n",
              "      <td>1114911</td>\n",
              "      <td>28885937</td>\n",
              "      <td>{\"msg\": \"success\", \"code\": 0, \"data\": {\"option...</td>\n",
              "    </tr>\n",
              "    <tr>\n",
              "      <th>4</th>\n",
              "      <td>1114911</td>\n",
              "      <td>28885944</td>\n",
              "      <td>{\"msg\": \"success\", \"code\": 0, \"data\": {\"option...</td>\n",
              "    </tr>\n",
              "    <tr>\n",
              "      <th>...</th>\n",
              "      <td>...</td>\n",
              "      <td>...</td>\n",
              "      <td>...</td>\n",
              "    </tr>\n",
              "    <tr>\n",
              "      <th>11244</th>\n",
              "      <td>1134408</td>\n",
              "      <td>71085623</td>\n",
              "      <td>{\"msg\": \"success\", \"code\": 0, \"data\": {\"option...</td>\n",
              "    </tr>\n",
              "    <tr>\n",
              "      <th>11245</th>\n",
              "      <td>1134408</td>\n",
              "      <td>71085121</td>\n",
              "      <td>{\"msg\": \"success\", \"code\": 0, \"data\": {\"option...</td>\n",
              "    </tr>\n",
              "    <tr>\n",
              "      <th>11246</th>\n",
              "      <td>1134408</td>\n",
              "      <td>71086298</td>\n",
              "      <td>{\"msg\": \"success\", \"code\": 0, \"data\": {\"option...</td>\n",
              "    </tr>\n",
              "    <tr>\n",
              "      <th>11247</th>\n",
              "      <td>1134408</td>\n",
              "      <td>71085930</td>\n",
              "      <td>{\"msg\": \"success\", \"code\": 0, \"data\": {\"option...</td>\n",
              "    </tr>\n",
              "    <tr>\n",
              "      <th>11248</th>\n",
              "      <td>1134408</td>\n",
              "      <td>71088907</td>\n",
              "      <td>{\"msg\": \"success\", \"code\": 0, \"data\": {\"option...</td>\n",
              "    </tr>\n",
              "  </tbody>\n",
              "</table>\n",
              "<p>265154 rows × 3 columns</p>\n",
              "</div>\n",
              "      <button class=\"colab-df-convert\" onclick=\"convertToInteractive('df-d6714083-bc9b-463e-ae5b-3f5d76534dc3')\"\n",
              "              title=\"Convert this dataframe to an interactive table.\"\n",
              "              style=\"display:none;\">\n",
              "        \n",
              "  <svg xmlns=\"http://www.w3.org/2000/svg\" height=\"24px\"viewBox=\"0 0 24 24\"\n",
              "       width=\"24px\">\n",
              "    <path d=\"M0 0h24v24H0V0z\" fill=\"none\"/>\n",
              "    <path d=\"M18.56 5.44l.94 2.06.94-2.06 2.06-.94-2.06-.94-.94-2.06-.94 2.06-2.06.94zm-11 1L8.5 8.5l.94-2.06 2.06-.94-2.06-.94L8.5 2.5l-.94 2.06-2.06.94zm10 10l.94 2.06.94-2.06 2.06-.94-2.06-.94-.94-2.06-.94 2.06-2.06.94z\"/><path d=\"M17.41 7.96l-1.37-1.37c-.4-.4-.92-.59-1.43-.59-.52 0-1.04.2-1.43.59L10.3 9.45l-7.72 7.72c-.78.78-.78 2.05 0 2.83L4 21.41c.39.39.9.59 1.41.59.51 0 1.02-.2 1.41-.59l7.78-7.78 2.81-2.81c.8-.78.8-2.07 0-2.86zM5.41 20L4 18.59l7.72-7.72 1.47 1.35L5.41 20z\"/>\n",
              "  </svg>\n",
              "      </button>\n",
              "      \n",
              "  <style>\n",
              "    .colab-df-container {\n",
              "      display:flex;\n",
              "      flex-wrap:wrap;\n",
              "      gap: 12px;\n",
              "    }\n",
              "\n",
              "    .colab-df-convert {\n",
              "      background-color: #E8F0FE;\n",
              "      border: none;\n",
              "      border-radius: 50%;\n",
              "      cursor: pointer;\n",
              "      display: none;\n",
              "      fill: #1967D2;\n",
              "      height: 32px;\n",
              "      padding: 0 0 0 0;\n",
              "      width: 32px;\n",
              "    }\n",
              "\n",
              "    .colab-df-convert:hover {\n",
              "      background-color: #E2EBFA;\n",
              "      box-shadow: 0px 1px 2px rgba(60, 64, 67, 0.3), 0px 1px 3px 1px rgba(60, 64, 67, 0.15);\n",
              "      fill: #174EA6;\n",
              "    }\n",
              "\n",
              "    [theme=dark] .colab-df-convert {\n",
              "      background-color: #3B4455;\n",
              "      fill: #D2E3FC;\n",
              "    }\n",
              "\n",
              "    [theme=dark] .colab-df-convert:hover {\n",
              "      background-color: #434B5C;\n",
              "      box-shadow: 0px 1px 3px 1px rgba(0, 0, 0, 0.15);\n",
              "      filter: drop-shadow(0px 1px 2px rgba(0, 0, 0, 0.3));\n",
              "      fill: #FFFFFF;\n",
              "    }\n",
              "  </style>\n",
              "\n",
              "      <script>\n",
              "        const buttonEl =\n",
              "          document.querySelector('#df-d6714083-bc9b-463e-ae5b-3f5d76534dc3 button.colab-df-convert');\n",
              "        buttonEl.style.display =\n",
              "          google.colab.kernel.accessAllowed ? 'block' : 'none';\n",
              "\n",
              "        async function convertToInteractive(key) {\n",
              "          const element = document.querySelector('#df-d6714083-bc9b-463e-ae5b-3f5d76534dc3');\n",
              "          const dataTable =\n",
              "            await google.colab.kernel.invokeFunction('convertToInteractive',\n",
              "                                                     [key], {});\n",
              "          if (!dataTable) return;\n",
              "\n",
              "          const docLinkHtml = 'Like what you see? Visit the ' +\n",
              "            '<a target=\"_blank\" href=https://colab.research.google.com/notebooks/data_table.ipynb>data table notebook</a>'\n",
              "            + ' to learn more about interactive tables.';\n",
              "          element.innerHTML = '';\n",
              "          dataTable['output_type'] = 'display_data';\n",
              "          await google.colab.output.renderOutput(dataTable, element);\n",
              "          const docLink = document.createElement('div');\n",
              "          docLink.innerHTML = docLinkHtml;\n",
              "          element.appendChild(docLink);\n",
              "        }\n",
              "      </script>\n",
              "    </div>\n",
              "  </div>\n",
              "  "
            ]
          },
          "metadata": {},
          "execution_count": 7
        }
      ]
    },
    {
      "cell_type": "code",
      "source": [
        "# Define a clear structure for Arrow\n",
        "# so as the machine can know the meaning of each field\n",
        "# and whether data is missing or not\n",
        "pa_schema = pa.schema([\n",
        "    pa.field('msg', pa.string()),\n",
        "    pa.field('code', pa.int64()),\n",
        "    pa.field('data', pa.struct([\n",
        "        pa.field('option_groups', pa.list_(pa.struct([\n",
        "          pa.field('min_select', pa.int64()),\n",
        "          pa.field('max_select', pa.int64()),\n",
        "          pa.field('name', pa.string()),\n",
        "          pa.field('rank', pa.int64()),\n",
        "          pa.field('id', pa.int64()),\n",
        "          pa.field('partner_option_group_id', pa.string()),\n",
        "          pa.field('options', pa.list_(pa.struct([\n",
        "              pa.field('original_price', pa.float64()),\n",
        "              pa.field('price', pa.float64()),\n",
        "              pa.field('weight', pa.int64()),\n",
        "              pa.field('is_active', pa.bool_()),\n",
        "              pa.field('rank', pa.int64()),\n",
        "              pa.field('is_default', pa.bool_()),\n",
        "              pa.field('stock_info', pa.struct([\n",
        "                  pa.field('start_time', pa.int64()),\n",
        "                  pa.field('is_out_stocked', pa.bool_()),\n",
        "                  pa.field('end_time', pa.int64()),\n",
        "              ])),\n",
        "              pa.field('max_qty', pa.int64()),\n",
        "              pa.field('id', pa.int64()),\n",
        "              pa.field('group_id', pa.int64()),\n",
        "              pa.field('partner_option_id', pa.string()),\n",
        "          ]))),\n",
        "      ]))),\n",
        "    ])),\n",
        "    pa.field('restaurant_id', pa.int64()),\n",
        "    pa.field('dish_id', pa.int64())],\n",
        ")"
      ],
      "metadata": {
        "id": "u--snoEOhcsm"
      },
      "execution_count": null,
      "outputs": []
    },
    {
      "cell_type": "code",
      "source": [
        "# Iterate over each row, convert them to Arrow structure using schema above\n",
        "merged_df = []\n",
        "for i, r in df.iterrows():\n",
        "  obj = json.dumps({\n",
        "      \"restaurant_id\": int(r.restaurant_id),\n",
        "      \"dish_id\": int(r.dish_id),\n",
        "      **json.loads(r.topping_data), \n",
        "    }).encode(\"utf8\")\n",
        "  data = pj.read_json(io.BytesIO(obj), parse_options=pa.json.ParseOptions(explicit_schema=pa_schema))\n",
        "  merged_df.append(data)"
      ],
      "metadata": {
        "id": "gJ_MsFjBrQjW"
      },
      "execution_count": null,
      "outputs": []
    },
    {
      "cell_type": "code",
      "source": [
        "#@markdown (DEPRICATED CODE, SAVE FOR REFERENCE, CONVERT JSON TO DICT WOULD RESULT IN RAM EXPLOSION)\n",
        "# Iterate over each row, convert them to Arrow structure using schema above\n",
        "# merged_df = []\n",
        "# for i, r in df.iterrows():\n",
        "#   obj = {\n",
        "#       \"restaurant_id\": int(r.restaurant_id),\n",
        "#       \"dish_id\": int(r.dish_id),\n",
        "#       **json.loads(r.topping_data), \n",
        "#     }\n",
        "#   # Wrap in a list since PyArrow require a map to array\n",
        "#   obj = {k: [obj[k]] for k in obj}\n",
        "#   data = pa.table(obj, schema=pa_schema)\n",
        "#   merged_df.append(data)"
      ],
      "metadata": {
        "cellView": "form",
        "id": "LUeLFrC6hcsn"
      },
      "execution_count": null,
      "outputs": []
    },
    {
      "cell_type": "code",
      "source": [
        "# Concat all Arrow table into a single one\n",
        "# Then save them back to the drive in Parquet format\n",
        "pq.write_table(pa.concat_tables(merged_df), _root.joinpath(\"Data/2 - cleaned data/Staging/2022.11.21.dish_topping.parquet\"))"
      ],
      "metadata": {
        "id": "IFEUxr-Xhcsn"
      },
      "execution_count": null,
      "outputs": []
    },
    {
      "cell_type": "markdown",
      "source": [
        "### Staging Shopee topping (2022/11/20)\n",
        "\n"
      ],
      "metadata": {
        "id": "Nmv-3LBvsPs7"
      }
    },
    {
      "cell_type": "markdown",
      "source": [
        "1. Pattern tới chỗ chứa các file để đọc hàng loạt và concat lại"
      ],
      "metadata": {
        "id": "IdQArNalsv_h"
      }
    },
    {
      "cell_type": "code",
      "source": [
        "shopee_file_path = \"Data/1 - raw data/shopee/dish topping/split_dish_topping/*.csv\""
      ],
      "metadata": {
        "id": "aLDi-42msN5n"
      },
      "execution_count": null,
      "outputs": []
    },
    {
      "cell_type": "markdown",
      "source": [
        "2. Bulk reading csv"
      ],
      "metadata": {
        "id": "fypsVhTQsx58"
      }
    },
    {
      "cell_type": "code",
      "source": [
        "df = []\n",
        "for f in _root.glob(shopee_file_path):\n",
        "  _df = pd.read_csv(f, na_filter=False)\n",
        "  try:\n",
        "    _df = _df[_df.restaurant_id != '']\n",
        "    df.append(_df)\n",
        "  except:\n",
        "    print(f)\n",
        "    display(_df)\n",
        "\n",
        "df = pd.concat(df)"
      ],
      "metadata": {
        "id": "b09oDMimsyyr"
      },
      "execution_count": null,
      "outputs": []
    },
    {
      "cell_type": "code",
      "source": [
        "df"
      ],
      "metadata": {
        "colab": {
          "base_uri": "https://localhost:8080/",
          "height": 424
        },
        "id": "21oBhqF_tXww",
        "outputId": "2f9664ea-b5e2-4ce9-884f-e796c08cb51d"
      },
      "execution_count": null,
      "outputs": [
        {
          "output_type": "execute_result",
          "data": {
            "text/plain": [
              "       Unnamed: 0  restaurant_id   dish_id  \\\n",
              "0               0        1114911  28885958   \n",
              "1               1        1114911  28885933   \n",
              "2               2        1114911  28885947   \n",
              "3               3        1114911  28885937   \n",
              "4               4        1114911  28885944   \n",
              "...           ...            ...       ...   \n",
              "11244       11244        1134408  71085623   \n",
              "11245       11245        1134408  71085121   \n",
              "11246       11246        1134408  71086298   \n",
              "11247       11247        1134408  71085930   \n",
              "11248       11248        1134408  71088907   \n",
              "\n",
              "                                            topping_data  \n",
              "0      {\"msg\": \"success\", \"code\": 0, \"data\": {\"option...  \n",
              "1      {\"msg\": \"success\", \"code\": 0, \"data\": {\"option...  \n",
              "2      {\"msg\": \"success\", \"code\": 0, \"data\": {\"option...  \n",
              "3      {\"msg\": \"success\", \"code\": 0, \"data\": {\"option...  \n",
              "4      {\"msg\": \"success\", \"code\": 0, \"data\": {\"option...  \n",
              "...                                                  ...  \n",
              "11244  {\"msg\": \"success\", \"code\": 0, \"data\": {\"option...  \n",
              "11245  {\"msg\": \"success\", \"code\": 0, \"data\": {\"option...  \n",
              "11246  {\"msg\": \"success\", \"code\": 0, \"data\": {\"option...  \n",
              "11247  {\"msg\": \"success\", \"code\": 0, \"data\": {\"option...  \n",
              "11248  {\"msg\": \"success\", \"code\": 0, \"data\": {\"option...  \n",
              "\n",
              "[265154 rows x 4 columns]"
            ],
            "text/html": [
              "\n",
              "  <div id=\"df-f2b2a826-759a-4c0f-baf8-cb12c36b1e4a\">\n",
              "    <div class=\"colab-df-container\">\n",
              "      <div>\n",
              "<style scoped>\n",
              "    .dataframe tbody tr th:only-of-type {\n",
              "        vertical-align: middle;\n",
              "    }\n",
              "\n",
              "    .dataframe tbody tr th {\n",
              "        vertical-align: top;\n",
              "    }\n",
              "\n",
              "    .dataframe thead th {\n",
              "        text-align: right;\n",
              "    }\n",
              "</style>\n",
              "<table border=\"1\" class=\"dataframe\">\n",
              "  <thead>\n",
              "    <tr style=\"text-align: right;\">\n",
              "      <th></th>\n",
              "      <th>Unnamed: 0</th>\n",
              "      <th>restaurant_id</th>\n",
              "      <th>dish_id</th>\n",
              "      <th>topping_data</th>\n",
              "    </tr>\n",
              "  </thead>\n",
              "  <tbody>\n",
              "    <tr>\n",
              "      <th>0</th>\n",
              "      <td>0</td>\n",
              "      <td>1114911</td>\n",
              "      <td>28885958</td>\n",
              "      <td>{\"msg\": \"success\", \"code\": 0, \"data\": {\"option...</td>\n",
              "    </tr>\n",
              "    <tr>\n",
              "      <th>1</th>\n",
              "      <td>1</td>\n",
              "      <td>1114911</td>\n",
              "      <td>28885933</td>\n",
              "      <td>{\"msg\": \"success\", \"code\": 0, \"data\": {\"option...</td>\n",
              "    </tr>\n",
              "    <tr>\n",
              "      <th>2</th>\n",
              "      <td>2</td>\n",
              "      <td>1114911</td>\n",
              "      <td>28885947</td>\n",
              "      <td>{\"msg\": \"success\", \"code\": 0, \"data\": {\"option...</td>\n",
              "    </tr>\n",
              "    <tr>\n",
              "      <th>3</th>\n",
              "      <td>3</td>\n",
              "      <td>1114911</td>\n",
              "      <td>28885937</td>\n",
              "      <td>{\"msg\": \"success\", \"code\": 0, \"data\": {\"option...</td>\n",
              "    </tr>\n",
              "    <tr>\n",
              "      <th>4</th>\n",
              "      <td>4</td>\n",
              "      <td>1114911</td>\n",
              "      <td>28885944</td>\n",
              "      <td>{\"msg\": \"success\", \"code\": 0, \"data\": {\"option...</td>\n",
              "    </tr>\n",
              "    <tr>\n",
              "      <th>...</th>\n",
              "      <td>...</td>\n",
              "      <td>...</td>\n",
              "      <td>...</td>\n",
              "      <td>...</td>\n",
              "    </tr>\n",
              "    <tr>\n",
              "      <th>11244</th>\n",
              "      <td>11244</td>\n",
              "      <td>1134408</td>\n",
              "      <td>71085623</td>\n",
              "      <td>{\"msg\": \"success\", \"code\": 0, \"data\": {\"option...</td>\n",
              "    </tr>\n",
              "    <tr>\n",
              "      <th>11245</th>\n",
              "      <td>11245</td>\n",
              "      <td>1134408</td>\n",
              "      <td>71085121</td>\n",
              "      <td>{\"msg\": \"success\", \"code\": 0, \"data\": {\"option...</td>\n",
              "    </tr>\n",
              "    <tr>\n",
              "      <th>11246</th>\n",
              "      <td>11246</td>\n",
              "      <td>1134408</td>\n",
              "      <td>71086298</td>\n",
              "      <td>{\"msg\": \"success\", \"code\": 0, \"data\": {\"option...</td>\n",
              "    </tr>\n",
              "    <tr>\n",
              "      <th>11247</th>\n",
              "      <td>11247</td>\n",
              "      <td>1134408</td>\n",
              "      <td>71085930</td>\n",
              "      <td>{\"msg\": \"success\", \"code\": 0, \"data\": {\"option...</td>\n",
              "    </tr>\n",
              "    <tr>\n",
              "      <th>11248</th>\n",
              "      <td>11248</td>\n",
              "      <td>1134408</td>\n",
              "      <td>71088907</td>\n",
              "      <td>{\"msg\": \"success\", \"code\": 0, \"data\": {\"option...</td>\n",
              "    </tr>\n",
              "  </tbody>\n",
              "</table>\n",
              "<p>265154 rows × 4 columns</p>\n",
              "</div>\n",
              "      <button class=\"colab-df-convert\" onclick=\"convertToInteractive('df-f2b2a826-759a-4c0f-baf8-cb12c36b1e4a')\"\n",
              "              title=\"Convert this dataframe to an interactive table.\"\n",
              "              style=\"display:none;\">\n",
              "        \n",
              "  <svg xmlns=\"http://www.w3.org/2000/svg\" height=\"24px\"viewBox=\"0 0 24 24\"\n",
              "       width=\"24px\">\n",
              "    <path d=\"M0 0h24v24H0V0z\" fill=\"none\"/>\n",
              "    <path d=\"M18.56 5.44l.94 2.06.94-2.06 2.06-.94-2.06-.94-.94-2.06-.94 2.06-2.06.94zm-11 1L8.5 8.5l.94-2.06 2.06-.94-2.06-.94L8.5 2.5l-.94 2.06-2.06.94zm10 10l.94 2.06.94-2.06 2.06-.94-2.06-.94-.94-2.06-.94 2.06-2.06.94z\"/><path d=\"M17.41 7.96l-1.37-1.37c-.4-.4-.92-.59-1.43-.59-.52 0-1.04.2-1.43.59L10.3 9.45l-7.72 7.72c-.78.78-.78 2.05 0 2.83L4 21.41c.39.39.9.59 1.41.59.51 0 1.02-.2 1.41-.59l7.78-7.78 2.81-2.81c.8-.78.8-2.07 0-2.86zM5.41 20L4 18.59l7.72-7.72 1.47 1.35L5.41 20z\"/>\n",
              "  </svg>\n",
              "      </button>\n",
              "      \n",
              "  <style>\n",
              "    .colab-df-container {\n",
              "      display:flex;\n",
              "      flex-wrap:wrap;\n",
              "      gap: 12px;\n",
              "    }\n",
              "\n",
              "    .colab-df-convert {\n",
              "      background-color: #E8F0FE;\n",
              "      border: none;\n",
              "      border-radius: 50%;\n",
              "      cursor: pointer;\n",
              "      display: none;\n",
              "      fill: #1967D2;\n",
              "      height: 32px;\n",
              "      padding: 0 0 0 0;\n",
              "      width: 32px;\n",
              "    }\n",
              "\n",
              "    .colab-df-convert:hover {\n",
              "      background-color: #E2EBFA;\n",
              "      box-shadow: 0px 1px 2px rgba(60, 64, 67, 0.3), 0px 1px 3px 1px rgba(60, 64, 67, 0.15);\n",
              "      fill: #174EA6;\n",
              "    }\n",
              "\n",
              "    [theme=dark] .colab-df-convert {\n",
              "      background-color: #3B4455;\n",
              "      fill: #D2E3FC;\n",
              "    }\n",
              "\n",
              "    [theme=dark] .colab-df-convert:hover {\n",
              "      background-color: #434B5C;\n",
              "      box-shadow: 0px 1px 3px 1px rgba(0, 0, 0, 0.15);\n",
              "      filter: drop-shadow(0px 1px 2px rgba(0, 0, 0, 0.3));\n",
              "      fill: #FFFFFF;\n",
              "    }\n",
              "  </style>\n",
              "\n",
              "      <script>\n",
              "        const buttonEl =\n",
              "          document.querySelector('#df-f2b2a826-759a-4c0f-baf8-cb12c36b1e4a button.colab-df-convert');\n",
              "        buttonEl.style.display =\n",
              "          google.colab.kernel.accessAllowed ? 'block' : 'none';\n",
              "\n",
              "        async function convertToInteractive(key) {\n",
              "          const element = document.querySelector('#df-f2b2a826-759a-4c0f-baf8-cb12c36b1e4a');\n",
              "          const dataTable =\n",
              "            await google.colab.kernel.invokeFunction('convertToInteractive',\n",
              "                                                     [key], {});\n",
              "          if (!dataTable) return;\n",
              "\n",
              "          const docLinkHtml = 'Like what you see? Visit the ' +\n",
              "            '<a target=\"_blank\" href=https://colab.research.google.com/notebooks/data_table.ipynb>data table notebook</a>'\n",
              "            + ' to learn more about interactive tables.';\n",
              "          element.innerHTML = '';\n",
              "          dataTable['output_type'] = 'display_data';\n",
              "          await google.colab.output.renderOutput(dataTable, element);\n",
              "          const docLink = document.createElement('div');\n",
              "          docLink.innerHTML = docLinkHtml;\n",
              "          element.appendChild(docLink);\n",
              "        }\n",
              "      </script>\n",
              "    </div>\n",
              "  </div>\n",
              "  "
            ]
          },
          "metadata": {},
          "execution_count": 7
        }
      ]
    },
    {
      "cell_type": "code",
      "source": [
        "def dictString2dict(s, **kattrs):\n",
        "  return {\"options\": eval(s), **kattrs}\n",
        "  \n",
        "def dictString2JSON(s, **kattrs):\n",
        "  return json.dumps({\"options\": eval(s), **kattrs}, ensure_ascii=False).encode('utf8')"
      ],
      "metadata": {
        "id": "PglWJgwh6lFT"
      },
      "execution_count": null,
      "outputs": []
    },
    {
      "cell_type": "code",
      "source": [
        "dictString2JSON(df.iloc[0].topping_data, restaurant_id=\"sdfsd\")"
      ],
      "metadata": {
        "id": "QuNkjMvL6-GP"
      },
      "execution_count": null,
      "outputs": []
    },
    {
      "cell_type": "code",
      "source": [
        "# Define a clear structure for Arrow\n",
        "# so as the machine can know the meaning of each field\n",
        "# and whether data is missing or not\n",
        "pa_schema = pa.schema([\n",
        "    pa.field('options', pa.list_(pa.struct([\n",
        "        pa.field('min_select', pa.int64()),\n",
        "        pa.field('max_select', pa.int64()),\n",
        "        pa.field('name', pa.string()),\n",
        "        pa.field('rank', pa.int64()),\n",
        "        pa.field('id', pa.int64()),\n",
        "        pa.field('partner_option_group_id', pa.string()),\n",
        "        pa.field('options', pa.list_(pa.struct([\n",
        "            pa.field('original_price', pa.float64()),\n",
        "            pa.field('price', pa.float64()),\n",
        "            pa.field('weight', pa.int64()),\n",
        "            pa.field('is_active', pa.bool_()),\n",
        "            pa.field('rank', pa.int64()),\n",
        "            pa.field('is_default', pa.bool_()),\n",
        "            pa.field('stock_info', pa.struct([\n",
        "                pa.field('start_time', pa.int64()),\n",
        "                pa.field('is_out_stocked', pa.bool_()),\n",
        "                pa.field('end_time', pa.int64()),\n",
        "            ])),\n",
        "            pa.field('max_qty', pa.int64()),\n",
        "            pa.field('id', pa.int64()),\n",
        "            pa.field('partner_option_id', pa.string()),\n",
        "        ]))),\n",
        "    ]))),\n",
        "    pa.field('restaurant_id', pa.int64()),\n",
        "    pa.field('dish_id', pa.int64())],\n",
        ")"
      ],
      "metadata": {
        "id": "nXltgLmIjc4N"
      },
      "execution_count": null,
      "outputs": []
    },
    {
      "cell_type": "code",
      "source": [
        "# Iterate over each row, convert them to Arrow structure using schema above\n",
        "merged_df = []\n",
        "for i, r in df.iterrows():\n",
        "  json_io = io.BytesIO(dictString2dict(r.topping_data, restaurant_id=int(float(r.restaurant_id))))\n",
        "  data = pa.Table.read_json(json_io, parse_options=pa.json.ParseOptions(explicit_schema=pa_schema))\n",
        "  merged_df.append(data)"
      ],
      "metadata": {
        "id": "Zuck6QUGhEJZ"
      },
      "execution_count": null,
      "outputs": []
    },
    {
      "cell_type": "code",
      "source": [
        "# Concat all Arrow table into a single one\n",
        "# Then save them back to the drive in Parquet format\n",
        "pq.write_table(pa.concat_tables(merged_df), _root.joinpath(\"Data/2 - cleaned data/Staging/2022.11.20.dish_topping_by_restaurant.parquet\"))"
      ],
      "metadata": {
        "id": "ye7vx-6VoGnS"
      },
      "execution_count": null,
      "outputs": []
    },
    {
      "cell_type": "markdown",
      "source": [
        "### Staging Shopee topping (2022/11/20) (Spark reference only, do not touch)"
      ],
      "metadata": {
        "id": "n1Dzgyr98_cg"
      }
    },
    {
      "cell_type": "code",
      "source": [
        "!pip install pyspark"
      ],
      "metadata": {
        "colab": {
          "base_uri": "https://localhost:8080/"
        },
        "id": "CLiG_ndIUe26",
        "outputId": "afba231c-2c62-4e4a-b097-9ff29937e747"
      },
      "execution_count": null,
      "outputs": [
        {
          "output_type": "stream",
          "name": "stdout",
          "text": [
            "Looking in indexes: https://pypi.org/simple, https://us-python.pkg.dev/colab-wheels/public/simple/\n",
            "Collecting pyspark\n",
            "  Downloading pyspark-3.3.1.tar.gz (281.4 MB)\n",
            "\u001b[K     |████████████████████████████████| 281.4 MB 48 kB/s \n",
            "\u001b[?25hCollecting py4j==0.10.9.5\n",
            "  Downloading py4j-0.10.9.5-py2.py3-none-any.whl (199 kB)\n",
            "\u001b[K     |████████████████████████████████| 199 kB 65.2 MB/s \n",
            "\u001b[?25hBuilding wheels for collected packages: pyspark\n",
            "  Building wheel for pyspark (setup.py) ... \u001b[?25l\u001b[?25hdone\n",
            "  Created wheel for pyspark: filename=pyspark-3.3.1-py2.py3-none-any.whl size=281845514 sha256=38e74c1d49fe336dc55ae3370c0a3631b7580e3a6620485dc4148f3aaf14ce12\n",
            "  Stored in directory: /root/.cache/pip/wheels/42/59/f5/79a5bf931714dcd201b26025347785f087370a10a3329a899c\n",
            "Successfully built pyspark\n",
            "Installing collected packages: py4j, pyspark\n",
            "Successfully installed py4j-0.10.9.5 pyspark-3.3.1\n"
          ]
        }
      ]
    },
    {
      "cell_type": "code",
      "source": [
        "from pyspark.sql import SparkSession\n",
        "spark = SparkSession.builder\\\n",
        "        .master(\"local\")\\\n",
        "        .getOrCreate()"
      ],
      "metadata": {
        "id": "lL8MFxX4Utn5"
      },
      "execution_count": null,
      "outputs": []
    },
    {
      "cell_type": "code",
      "source": [
        "from pyspark.sql.types import StructField, StructType, StringType, MapType, IntegerType, FloatType, ArrayType, BooleanType"
      ],
      "metadata": {
        "id": "y-GqCbRhYtdH"
      },
      "execution_count": null,
      "outputs": []
    },
    {
      "cell_type": "code",
      "source": [
        "schema = StructType([\n",
        "  StructField('options', ArrayType(\n",
        "      StructType([\n",
        "          StructField('min_select', IntegerType(),True),\n",
        "          StructField('name', StringType(),True),\n",
        "          StructField('rank', IntegerType(),True),\n",
        "          StructField('options', ArrayType(\n",
        "              StructType([\n",
        "                StructField('original_price', FloatType(),True),\n",
        "                StructField('price', FloatType(),True),\n",
        "                StructField('weight', IntegerType(),True),\n",
        "                StructField('is_active', BooleanType(),True),\n",
        "                StructField('rank', IntegerType(),True),\n",
        "                StructField('is_default', BooleanType(),True),\n",
        "                StructField('stock_info', StructType([\n",
        "                    StructField('start_time', IntegerType(),True),\n",
        "                    StructField('is_out_stocked', BooleanType(),True),\n",
        "                    StructField('end_time', IntegerType(),True),\n",
        "                ]),True),\n",
        "                StructField('max_qty', IntegerType(),True),\n",
        "                StructField('id', IntegerType(),True),\n",
        "                StructField('partner_option_id', StringType(),True),\n",
        "            ]), \n",
        "            True\n",
        "          ),True),\n",
        "          StructField('max_select', IntegerType(),True),\n",
        "          StructField('id', IntegerType(),True),\n",
        "          StructField('partner_option_group_id', StringType(),True),\n",
        "      ]),\n",
        "      True\n",
        "  ), False),\n",
        "  StructField('restaurant_id', IntegerType(),True),\n",
        "  StructField('dish_id', IntegerType(),True),\n",
        "])"
      ],
      "metadata": {
        "id": "h_8t1KLmYqi1"
      },
      "execution_count": null,
      "outputs": []
    },
    {
      "cell_type": "markdown",
      "source": [
        "Test on 1 sample"
      ],
      "metadata": {
        "id": "cwjTTrDB9vQK"
      }
    },
    {
      "cell_type": "code",
      "source": [
        "d = dictString2dict(df.iloc[0].topping_data)\n",
        "d"
      ],
      "metadata": {
        "colab": {
          "base_uri": "https://localhost:8080/"
        },
        "id": "Vfmep7wlWp6a",
        "outputId": "a221e0dd-83e9-4296-bd10-54d6f7060350"
      },
      "execution_count": null,
      "outputs": [
        {
          "output_type": "execute_result",
          "data": {
            "text/plain": [
              "{'options': [{'min_select': 1,\n",
              "   'name': 'Lựa chọn',\n",
              "   'rank': 0,\n",
              "   'options': [{'name': 'Nóng',\n",
              "     'weight': 1,\n",
              "     'price': 0.0,\n",
              "     'partner_option_id': '',\n",
              "     'is_active': True,\n",
              "     'rank': 1,\n",
              "     'is_default': True,\n",
              "     'stock_info': {'start_time': 0, 'is_out_stocked': False, 'end_time': 0},\n",
              "     'max_qty': 1,\n",
              "     'group_id': 54703,\n",
              "     'id': 215974},\n",
              "    {'name': 'Đá',\n",
              "     'weight': 1,\n",
              "     'price': 0.0,\n",
              "     'partner_option_id': '',\n",
              "     'is_active': True,\n",
              "     'rank': 2,\n",
              "     'is_default': False,\n",
              "     'stock_info': {'start_time': 0, 'is_out_stocked': False, 'end_time': 0},\n",
              "     'max_qty': 1,\n",
              "     'group_id': 54703,\n",
              "     'id': 215975}],\n",
              "   'max_select': 1,\n",
              "   'id': 54703,\n",
              "   'partner_option_group_id': ''}]}"
            ]
          },
          "metadata": {},
          "execution_count": 37
        }
      ]
    },
    {
      "cell_type": "code",
      "source": [
        "spark.createDataFrame(data=[d], schema=schema).show()"
      ],
      "metadata": {
        "colab": {
          "base_uri": "https://localhost:8080/"
        },
        "id": "frKlZn96WKGT",
        "outputId": "2f294e70-b472-4d18-cf79-4444daeff4e8"
      },
      "execution_count": null,
      "outputs": [
        {
          "output_type": "stream",
          "name": "stdout",
          "text": [
            "+--------------------+-------------+-------+\n",
            "|             options|restaurant_id|dish_id|\n",
            "+--------------------+-------------+-------+\n",
            "|[{1, Lựa chọn, 0,...|         null|   null|\n",
            "+--------------------+-------------+-------+\n",
            "\n"
          ]
        }
      ]
    },
    {
      "cell_type": "markdown",
      "source": [
        "Bulk processing"
      ],
      "metadata": {
        "id": "1Dk3CQ1J9xHR"
      }
    },
    {
      "cell_type": "code",
      "source": [
        "merged_df = []\n",
        "for i, r in df.iterrows():\n",
        "  d = dictString2dict(r.topping_data, restaurant_id=int(float(r.restaurant_id)))\n",
        "  data = spark.createDataFrame(data=[d], schema=schema)\n",
        "  merged_df.append(data)"
      ],
      "metadata": {
        "id": "_fU1neTlf5C-"
      },
      "execution_count": null,
      "outputs": []
    },
    {
      "cell_type": "markdown",
      "source": [
        "### Staging Shopee dishes (2022/11/19)"
      ],
      "metadata": {
        "id": "aq1GWAVCEIeE"
      }
    },
    {
      "cell_type": "markdown",
      "source": [
        "1. Pattern tới chỗ chứa các file để đọc hàng loạt và concat lại"
      ],
      "metadata": {
        "id": "zAdvPkQeVjR5"
      }
    },
    {
      "cell_type": "code",
      "source": [
        "shopee_file_path = \"Data/1 - raw data/shopee/shopee dish/dishes2/*.xlsx\""
      ],
      "metadata": {
        "id": "ExETkSk7VW_6"
      },
      "execution_count": null,
      "outputs": []
    },
    {
      "cell_type": "markdown",
      "source": [
        "2. Bulk reading, concat files, drop useless column(s)"
      ],
      "metadata": {
        "id": "meAvhSwhVpWJ"
      }
    },
    {
      "cell_type": "code",
      "source": [
        "df = []\n",
        "for f in _root.glob(shopee_file_path):\n",
        "  _df = pd.read_excel(f, na_filter=False)\n",
        "  df.append(_df)\n",
        "stg_shopee_dishes = pd.concat(df).drop(columns={'Unnamed: 0'})"
      ],
      "metadata": {
        "id": "BqacCqW__wfq"
      },
      "execution_count": null,
      "outputs": []
    },
    {
      "cell_type": "markdown",
      "source": [
        "3. Check datatype and convert them to a approriate one"
      ],
      "metadata": {
        "id": "yQoYt0ucVx0y"
      }
    },
    {
      "cell_type": "code",
      "source": [
        "stg_shopee_dishes.dtypes"
      ],
      "metadata": {
        "colab": {
          "base_uri": "https://localhost:8080/"
        },
        "id": "B4BGnwPnOFv7",
        "outputId": "4747784c-f91a-4b9a-a1a5-bb9a7f0b88fc"
      },
      "execution_count": null,
      "outputs": [
        {
          "output_type": "execute_result",
          "data": {
            "text/plain": [
              "catalog_id                       Int64\n",
              "dish_total_order                 Int64\n",
              "catalog_name                    object\n",
              "catalog_rank                     Int64\n",
              "catalog_partner_catalog_id      object\n",
              "catalog_description             object\n",
              "dish_restaurant_id               Int64\n",
              "dish_id                          Int64\n",
              "dish_name                       object\n",
              "dish_partner_dish_id            object\n",
              "dish_listing_status               bool\n",
              "dish_description                object\n",
              "dish_total_like                  Int64\n",
              "dish_rank                        Int64\n",
              "dish_picture_label              object\n",
              "dish_is_hidden                    bool\n",
              "dish_price                     float64\n",
              "dish_is_group_discount_item       bool\n",
              "dishes_property_info            object\n",
              "dtype: object"
            ]
          },
          "metadata": {},
          "execution_count": 75
        }
      ]
    },
    {
      "cell_type": "code",
      "source": [
        "stg_shopee_dishes = stg_shopee_dishes.astype({\n",
        "    \"catalog_id\": 'Int64', \n",
        "    \"dish_total_order\": 'Int64', \n",
        "    \"catalog_rank\": 'Int64', \n",
        "    \"dish_restaurant_id\": 'Int64', \n",
        "    \"dish_id\": 'Int64', \n",
        "    'dish_listing_status': \"bool\",\n",
        "    \"dish_description\": 'str',\n",
        "    \"dish_total_like\": 'Int64', \n",
        "    \"dish_rank\": 'Int64', \n",
        "    \"dish_is_hidden\": 'bool', \n",
        "    \"dish_price\": 'float64', \n",
        "    \"dish_is_group_discount_item\": 'bool',\n",
        "})"
      ],
      "metadata": {
        "id": "D5o0vfY7PHlF"
      },
      "execution_count": null,
      "outputs": []
    },
    {
      "cell_type": "markdown",
      "source": [
        "4. Save the condensed data to staging folder for future referencing"
      ],
      "metadata": {
        "id": "PYMaXdH3V7mg"
      }
    },
    {
      "cell_type": "code",
      "source": [
        "stg_shopee_dishes.to_parquet(_root.joinpath(\"Data/2 - cleaned data/Staging/2022.11.19.dim_shopee_dishes.parquet\"), index=False)"
      ],
      "metadata": {
        "id": "Vhve8AgaNLoD"
      },
      "execution_count": null,
      "outputs": []
    },
    {
      "cell_type": "markdown",
      "source": [
        "### Staging Shopee dishes (2022/10/16)"
      ],
      "metadata": {
        "id": "4cfsACBOabP9"
      }
    },
    {
      "cell_type": "markdown",
      "source": [
        "1. Pattern tới chỗ chứa các file để đọc hàng loạt và concat lại"
      ],
      "metadata": {
        "id": "AzadspMnabP9"
      }
    },
    {
      "cell_type": "code",
      "source": [
        "shopee_file_path = \"Data/1 - raw data/shopee/shopee dish/dishes/*.xlsx\""
      ],
      "metadata": {
        "id": "_pcHMOKHabP9"
      },
      "execution_count": null,
      "outputs": []
    },
    {
      "cell_type": "markdown",
      "source": [
        "2. Bulk reading, concat files, drop useless column(s)"
      ],
      "metadata": {
        "id": "U-DqKB0RabP-"
      }
    },
    {
      "cell_type": "code",
      "source": [
        "df = []\n",
        "for f in _root.glob(shopee_file_path):\n",
        "  _df = pd.read_excel(f, na_filter=False)\n",
        "  df.append(_df)\n",
        "stg_shopee_dishes = pd.concat(df).drop(columns={'Unnamed: 0'})"
      ],
      "metadata": {
        "id": "0vyYIt6iabP-"
      },
      "execution_count": null,
      "outputs": []
    },
    {
      "cell_type": "markdown",
      "source": [
        "3. Check datatype and convert them to a approriate one"
      ],
      "metadata": {
        "id": "q09PaOiZabP-"
      }
    },
    {
      "cell_type": "code",
      "source": [
        "stg_shopee_dishes.dtypes"
      ],
      "metadata": {
        "colab": {
          "base_uri": "https://localhost:8080/"
        },
        "outputId": "9a5510fc-12f6-4336-a667-c1de832c91d9",
        "id": "iK8S2KvMabP-"
      },
      "execution_count": null,
      "outputs": [
        {
          "output_type": "execute_result",
          "data": {
            "text/plain": [
              "catalog_id                     float64\n",
              "dish_total_order               float64\n",
              "catalog_name                    object\n",
              "catalog_rank                   float64\n",
              "catalog_partner_catalog_id      object\n",
              "catalog_description             object\n",
              "dish_restaurant_id             float64\n",
              "dish_id                        float64\n",
              "dish_name                       object\n",
              "dish_partner_dish_id            object\n",
              "dish_listing_status               bool\n",
              "dish_description                object\n",
              "dish_total_like                 object\n",
              "dish_rank                      float64\n",
              "dish_picture_label              object\n",
              "dish_is_hidden                    bool\n",
              "dish_price                     float64\n",
              "dish_is_group_discount_item       bool\n",
              "dishes_property_info            object\n",
              "dtype: object"
            ]
          },
          "metadata": {},
          "execution_count": 82
        }
      ]
    },
    {
      "cell_type": "code",
      "source": [
        "stg_shopee_dishes.dish_total_like.replace('', pd.NA, inplace=True)"
      ],
      "metadata": {
        "id": "LlCCj2Lyelo-"
      },
      "execution_count": null,
      "outputs": []
    },
    {
      "cell_type": "code",
      "source": [
        "stg_shopee_dishes = stg_shopee_dishes.astype({\n",
        "    \"catalog_id\": 'Int64', \n",
        "    \"dish_total_order\": 'Int64', \n",
        "    \"catalog_rank\": 'Int64', \n",
        "    \"dish_restaurant_id\": 'Int64', \n",
        "    \"dish_id\": 'Int64', \n",
        "    \"dish_name\": \"str\",\n",
        "    'dish_listing_status': \"bool\",\n",
        "    \"dish_description\": 'str',\n",
        "    \"dish_total_like\": 'Int64',\n",
        "    \"dish_rank\": 'Int64', \n",
        "    \"dish_is_hidden\": 'bool', \n",
        "    \"dish_price\": 'float64', \n",
        "    \"dish_is_group_discount_item\": 'bool',\n",
        "})"
      ],
      "metadata": {
        "id": "EPY2tu3ZabP-"
      },
      "execution_count": null,
      "outputs": []
    },
    {
      "cell_type": "markdown",
      "source": [
        "4. Save the condensed data to staging folder for future referencing"
      ],
      "metadata": {
        "id": "w3Od9HfOabP-"
      }
    },
    {
      "cell_type": "code",
      "source": [
        "stg_shopee_dishes.to_parquet(_root.joinpath(\"Data/2 - cleaned data/Staging/2022.10.16.dim_shopee_dishes.parquet\"), index=False)"
      ],
      "metadata": {
        "id": "tv59ogV0abP-"
      },
      "execution_count": null,
      "outputs": []
    },
    {
      "cell_type": "markdown",
      "source": [
        "### Staging Shopee dishes (2022/12/03)"
      ],
      "metadata": {
        "id": "Yfp0Au521yys"
      }
    },
    {
      "cell_type": "code",
      "source": [
        "shopee_file_path = \"Data/1 - raw data/shopee/shopee dish/20221203_dishes/*.parquet\"\n",
        "Path(\"tmp\").mkdir(parents=True, exist_ok=True)\n",
        "\n",
        "for f in _root.glob(shopee_file_path):\n",
        "  # Đọc file lên trước, drop các cột Null\n",
        "  df = pq.read_table(f)\n",
        "  df = ArrowDropNull(df)\n",
        "\n",
        "  # Cast cột discount_pice về double\n",
        "  s = ArrowSchemaToPyDict(df.schema)\n",
        "  try:\n",
        "    s[\"data\"][\"catalogs\"][0][\"dishes\"][0][\"discount_price\"] = \"double\"\n",
        "    df = df.cast(PyDictToArrowSchema(s))\n",
        "  except Exception as e:\n",
        "    print(e)\n",
        "    print(f)\n",
        "\n",
        "  # Ghi tạm xuống\n",
        "  pq.write_table(df, f\"tmp/{f.name}\")"
      ],
      "metadata": {
        "colab": {
          "base_uri": "https://localhost:8080/"
        },
        "id": "mtKHlGUA16Fa",
        "outputId": "a2148d0b-fdce-4c2b-9308-486e91934b37"
      },
      "execution_count": null,
      "outputs": [
        {
          "output_type": "stream",
          "name": "stdout",
          "text": [
            "struct fields don't match or are in the wrong order: Input fields: struct<listing_status: bool, partner_dish_id: string, description: string, total_like: int64, restaurant_id: int64, rank: int64, id: int64, property_info: struct<has_alcohol: bool>, catalog_id: int64, stock_info: struct<start_time: int64, is_out_stocked: bool, end_time: int64>, is_hidden: bool, sale_time_info: struct<loop_sale_days: list<item: struct<time_for_sales: list<item: struct<start_time_sec: int64, end_time_sec: int64>>, weekday: int64>>, is_in_sale_time: bool>, price: double, is_group_discount_item: bool, name: string> output fields: struct<listing_status: bool, partner_dish_id: string, description: string, total_like: int64, restaurant_id: int64, rank: int64, id: int64, property_info: struct<has_alcohol: bool>, catalog_id: int64, stock_info: struct<start_time: int64, is_out_stocked: bool, end_time: int64>, is_hidden: bool, sale_time_info: struct<loop_sale_days: list<item: struct<time_for_sales: list<item: struct<start_time_sec: int64, end_time_sec: int64>>, weekday: int64>>, is_in_sale_time: bool>, price: double, is_group_discount_item: bool, name: string, discount_price: double>\n",
            "/content/drive/My Drive/Data/1 - raw data/shopee/shopee dish/20221203_dishes/dishes_schema000.parquet\n",
            "struct fields don't match or are in the wrong order: Input fields: struct<listing_status: bool, partner_dish_id: string, description: string, total_like: int64, pictures: list<item: struct<url: string, width: int64, height: int64>>, restaurant_id: int64, rank: int64, id: int64, property_info: struct<has_alcohol: bool>, catalog_id: int64, stock_info: struct<start_time: int64, is_out_stocked: bool, end_time: int64>, is_hidden: bool, sale_time_info: struct<loop_sale_days: list<item: struct<time_for_sales: list<item: struct<start_time_sec: int64, end_time_sec: int64>>, weekday: int64>>, is_in_sale_time: bool>, price: double, is_group_discount_item: bool, name: string> output fields: struct<listing_status: bool, partner_dish_id: string, description: string, total_like: int64, pictures: list<item: struct<url: string, width: int64, height: int64>>, restaurant_id: int64, rank: int64, id: int64, property_info: struct<has_alcohol: bool>, catalog_id: int64, stock_info: struct<start_time: int64, is_out_stocked: bool, end_time: int64>, is_hidden: bool, sale_time_info: struct<loop_sale_days: list<item: struct<time_for_sales: list<item: struct<start_time_sec: int64, end_time_sec: int64>>, weekday: int64>>, is_in_sale_time: bool>, price: double, is_group_discount_item: bool, name: string, discount_price: double>\n",
            "/content/drive/My Drive/Data/1 - raw data/shopee/shopee dish/20221203_dishes/dishes_schema001.parquet\n",
            "struct fields don't match or are in the wrong order: Input fields: struct<listing_status: bool, partner_dish_id: string, description: string, total_like: int64, pictures: list<item: struct<url: string, width: int64, height: int64>>, restaurant_id: int64, rank: int64, id: int64, property_info: struct<has_alcohol: bool>, catalog_id: int64, stock_info: struct<start_time: int64, is_out_stocked: bool, end_time: int64>, is_hidden: bool, sale_time_info: struct<loop_sale_days: list<item: struct<time_for_sales: list<item: struct<start_time_sec: int64, end_time_sec: int64>>, weekday: int64>>, is_in_sale_time: bool>, price: double, is_group_discount_item: bool, name: string> output fields: struct<listing_status: bool, partner_dish_id: string, description: string, total_like: int64, pictures: list<item: struct<url: string, width: int64, height: int64>>, restaurant_id: int64, rank: int64, id: int64, property_info: struct<has_alcohol: bool>, catalog_id: int64, stock_info: struct<start_time: int64, is_out_stocked: bool, end_time: int64>, is_hidden: bool, sale_time_info: struct<loop_sale_days: list<item: struct<time_for_sales: list<item: struct<start_time_sec: int64, end_time_sec: int64>>, weekday: int64>>, is_in_sale_time: bool>, price: double, is_group_discount_item: bool, name: string, discount_price: double>\n",
            "/content/drive/My Drive/Data/1 - raw data/shopee/shopee dish/20221203_dishes/dishes_schema002.parquet\n",
            "struct fields don't match or are in the wrong order: Input fields: struct<listing_status: bool, partner_dish_id: string, description: string, total_like: int64, restaurant_id: int64, rank: int64, id: int64, property_info: struct<has_alcohol: bool>, catalog_id: int64, stock_info: struct<start_time: int64, is_out_stocked: bool, end_time: int64>, is_hidden: bool, sale_time_info: struct<loop_sale_days: list<item: struct<time_for_sales: list<item: struct<start_time_sec: int64, end_time_sec: int64>>, weekday: int64>>, is_in_sale_time: bool>, price: double, is_group_discount_item: bool, name: string> output fields: struct<listing_status: bool, partner_dish_id: string, description: string, total_like: int64, restaurant_id: int64, rank: int64, id: int64, property_info: struct<has_alcohol: bool>, catalog_id: int64, stock_info: struct<start_time: int64, is_out_stocked: bool, end_time: int64>, is_hidden: bool, sale_time_info: struct<loop_sale_days: list<item: struct<time_for_sales: list<item: struct<start_time_sec: int64, end_time_sec: int64>>, weekday: int64>>, is_in_sale_time: bool>, price: double, is_group_discount_item: bool, name: string, discount_price: double>\n",
            "/content/drive/My Drive/Data/1 - raw data/shopee/shopee dish/20221203_dishes/dishes_schema003.parquet\n",
            "'data'\n",
            "/content/drive/My Drive/Data/1 - raw data/shopee/shopee dish/20221203_dishes/dishes_schema004.parquet\n",
            "struct fields don't match or are in the wrong order: Input fields: struct<listing_status: bool, partner_dish_id: string, description: string, total_like: int64, pictures: list<item: struct<url: string, width: int64, height: int64>>, restaurant_id: int64, rank: int64, id: int64, property_info: struct<has_alcohol: bool>, catalog_id: int64, stock_info: struct<start_time: int64, is_out_stocked: bool, end_time: int64>, is_hidden: bool, sale_time_info: struct<loop_sale_days: list<item: struct<time_for_sales: list<item: struct<start_time_sec: int64, end_time_sec: int64>>, weekday: int64>>, custom_sale_days: list<item: struct<custom_date: int64, time_for_sales: list<item: struct<start_time_sec: int64, end_time_sec: int64>>>>, is_in_sale_time: bool>, price: double, is_group_discount_item: bool, name: string> output fields: struct<listing_status: bool, partner_dish_id: string, description: string, total_like: int64, pictures: list<item: struct<url: string, width: int64, height: int64>>, restaurant_id: int64, rank: int64, id: int64, property_info: struct<has_alcohol: bool>, catalog_id: int64, stock_info: struct<start_time: int64, is_out_stocked: bool, end_time: int64>, is_hidden: bool, sale_time_info: struct<loop_sale_days: list<item: struct<time_for_sales: list<item: struct<start_time_sec: int64, end_time_sec: int64>>, weekday: int64>>, custom_sale_days: list<item: struct<custom_date: int64, time_for_sales: list<item: struct<start_time_sec: int64, end_time_sec: int64>>>>, is_in_sale_time: bool>, price: double, is_group_discount_item: bool, name: string, discount_price: double>\n",
            "/content/drive/My Drive/Data/1 - raw data/shopee/shopee dish/20221203_dishes/dishes_schema022.parquet\n"
          ]
        }
      ]
    },
    {
      "cell_type": "code",
      "source": [
        "df = spark.read.option(\"mergeSchema\", True).parquet(*list(map(lambda p: str(p), Path(\"tmp/\").glob(\"*.parquet\"))))"
      ],
      "metadata": {
        "id": "g8VKXe7x2SAA"
      },
      "execution_count": null,
      "outputs": []
    },
    {
      "cell_type": "code",
      "source": [
        "df.coalesce(1).write.format(\"parquet\").mode(\"append\").save(str(_root.joinpath(\"Data/2 - cleaned data/Staging/2022.12.03.dishes.parquet\")))"
      ],
      "metadata": {
        "id": "6u7C20a82TXv"
      },
      "execution_count": null,
      "outputs": []
    },
    {
      "cell_type": "code",
      "source": [],
      "metadata": {
        "id": "kZhpppJF2fRw"
      },
      "execution_count": null,
      "outputs": []
    },
    {
      "cell_type": "markdown",
      "source": [
        "### Staging Shopee dishes (2022/12/06)"
      ],
      "metadata": {
        "id": "EP9wrL3yKr7h"
      }
    },
    {
      "cell_type": "code",
      "source": [
        "shopee_file_path = \"Data/1 - raw data/shopee/shopee dish/20221206_dishes/*.parquet\"\n",
        "Path(\"tmp\").mkdir(parents=True, exist_ok=True)\n",
        "\n",
        "for f in _root.glob(shopee_file_path):\n",
        "  # Đọc file lên trước, drop các cột Null\n",
        "  df = pq.read_table(f)\n",
        "  df = ArrowDropNull(df)\n",
        "\n",
        "  # Cast cột discount_pice về double\n",
        "  s = ArrowSchemaToPyDict(df.schema)\n",
        "  try:\n",
        "    s[\"data\"][\"catalogs\"][0][\"dishes\"][0][\"discount_price\"] = \"double\"\n",
        "    df = df.cast(PyDictToArrowSchema(s))\n",
        "  except Exception as e:\n",
        "    print(e)\n",
        "    print(f)\n",
        "\n",
        "  # Ghi tạm xuống\n",
        "  pq.write_table(df, f\"tmp/{f.name}\")"
      ],
      "metadata": {
        "colab": {
          "base_uri": "https://localhost:8080/"
        },
        "outputId": "d3602b05-2935-4b42-f8e4-1a7e58b964c4",
        "id": "Y_z_J0TqKr7h"
      },
      "execution_count": null,
      "outputs": [
        {
          "output_type": "stream",
          "name": "stdout",
          "text": [
            "struct fields don't match or are in the wrong order: Input fields: struct<listing_status: bool, partner_dish_id: string, description: string, total_like: int64, restaurant_id: int64, rank: int64, id: int64, property_info: struct<has_alcohol: bool>, catalog_id: int64, stock_info: struct<start_time: int64, is_out_stocked: bool, end_time: int64>, is_hidden: bool, sale_time_info: struct<loop_sale_days: list<item: struct<time_for_sales: list<item: struct<start_time_sec: int64, end_time_sec: int64>>, weekday: int64>>, is_in_sale_time: bool>, price: double, is_group_discount_item: bool, name: string> output fields: struct<listing_status: bool, partner_dish_id: string, description: string, total_like: int64, restaurant_id: int64, rank: int64, id: int64, property_info: struct<has_alcohol: bool>, catalog_id: int64, stock_info: struct<start_time: int64, is_out_stocked: bool, end_time: int64>, is_hidden: bool, sale_time_info: struct<loop_sale_days: list<item: struct<time_for_sales: list<item: struct<start_time_sec: int64, end_time_sec: int64>>, weekday: int64>>, is_in_sale_time: bool>, price: double, is_group_discount_item: bool, name: string, discount_price: double>\n",
            "/content/drive/My Drive/Data/1 - raw data/shopee/shopee dish/20221206_dishes/dishes_schema000.parquet\n",
            "struct fields don't match or are in the wrong order: Input fields: struct<listing_status: bool, partner_dish_id: string, description: string, total_like: int64, pictures: list<item: struct<url: string, width: int64, height: int64>>, restaurant_id: int64, rank: int64, id: int64, property_info: struct<has_alcohol: bool>, catalog_id: int64, stock_info: struct<start_time: int64, is_out_stocked: bool, end_time: int64>, is_hidden: bool, sale_time_info: struct<loop_sale_days: list<item: struct<time_for_sales: list<item: struct<start_time_sec: int64, end_time_sec: int64>>, weekday: int64>>, is_in_sale_time: bool>, price: double, is_group_discount_item: bool, name: string> output fields: struct<listing_status: bool, partner_dish_id: string, description: string, total_like: int64, pictures: list<item: struct<url: string, width: int64, height: int64>>, restaurant_id: int64, rank: int64, id: int64, property_info: struct<has_alcohol: bool>, catalog_id: int64, stock_info: struct<start_time: int64, is_out_stocked: bool, end_time: int64>, is_hidden: bool, sale_time_info: struct<loop_sale_days: list<item: struct<time_for_sales: list<item: struct<start_time_sec: int64, end_time_sec: int64>>, weekday: int64>>, is_in_sale_time: bool>, price: double, is_group_discount_item: bool, name: string, discount_price: double>\n",
            "/content/drive/My Drive/Data/1 - raw data/shopee/shopee dish/20221206_dishes/dishes_schema001.parquet\n",
            "struct fields don't match or are in the wrong order: Input fields: struct<listing_status: bool, partner_dish_id: string, description: string, total_like: int64, pictures: list<item: struct<url: string, width: int64, height: int64>>, restaurant_id: int64, rank: int64, id: int64, property_info: struct<has_alcohol: bool>, catalog_id: int64, stock_info: struct<start_time: int64, is_out_stocked: bool, end_time: int64>, is_hidden: bool, sale_time_info: struct<loop_sale_days: list<item: struct<time_for_sales: list<item: struct<start_time_sec: int64, end_time_sec: int64>>, weekday: int64>>, is_in_sale_time: bool>, price: double, is_group_discount_item: bool, name: string> output fields: struct<listing_status: bool, partner_dish_id: string, description: string, total_like: int64, pictures: list<item: struct<url: string, width: int64, height: int64>>, restaurant_id: int64, rank: int64, id: int64, property_info: struct<has_alcohol: bool>, catalog_id: int64, stock_info: struct<start_time: int64, is_out_stocked: bool, end_time: int64>, is_hidden: bool, sale_time_info: struct<loop_sale_days: list<item: struct<time_for_sales: list<item: struct<start_time_sec: int64, end_time_sec: int64>>, weekday: int64>>, is_in_sale_time: bool>, price: double, is_group_discount_item: bool, name: string, discount_price: double>\n",
            "/content/drive/My Drive/Data/1 - raw data/shopee/shopee dish/20221206_dishes/dishes_schema002.parquet\n",
            "struct fields don't match or are in the wrong order: Input fields: struct<listing_status: bool, partner_dish_id: string, description: string, total_like: int64, restaurant_id: int64, rank: int64, id: int64, property_info: struct<has_alcohol: bool>, catalog_id: int64, stock_info: struct<start_time: int64, is_out_stocked: bool, end_time: int64>, is_hidden: bool, sale_time_info: struct<loop_sale_days: list<item: struct<time_for_sales: list<item: struct<start_time_sec: int64, end_time_sec: int64>>, weekday: int64>>, is_in_sale_time: bool>, price: double, is_group_discount_item: bool, name: string> output fields: struct<listing_status: bool, partner_dish_id: string, description: string, total_like: int64, restaurant_id: int64, rank: int64, id: int64, property_info: struct<has_alcohol: bool>, catalog_id: int64, stock_info: struct<start_time: int64, is_out_stocked: bool, end_time: int64>, is_hidden: bool, sale_time_info: struct<loop_sale_days: list<item: struct<time_for_sales: list<item: struct<start_time_sec: int64, end_time_sec: int64>>, weekday: int64>>, is_in_sale_time: bool>, price: double, is_group_discount_item: bool, name: string, discount_price: double>\n",
            "/content/drive/My Drive/Data/1 - raw data/shopee/shopee dish/20221206_dishes/dishes_schema003.parquet\n",
            "'data'\n",
            "/content/drive/My Drive/Data/1 - raw data/shopee/shopee dish/20221206_dishes/dishes_schema004.parquet\n",
            "struct fields don't match or are in the wrong order: Input fields: struct<listing_status: bool, partner_dish_id: string, description: string, total_like: int64, pictures: list<item: struct<url: string, width: int64, height: int64>>, restaurant_id: int64, rank: int64, id: int64, property_info: struct<has_alcohol: bool>, catalog_id: int64, stock_info: struct<start_time: int64, is_out_stocked: bool, end_time: int64>, is_hidden: bool, sale_time_info: struct<loop_sale_days: list<item: struct<time_for_sales: list<item: struct<start_time_sec: int64, end_time_sec: int64>>, weekday: int64>>, custom_sale_days: list<item: struct<custom_date: int64, time_for_sales: list<item: struct<start_time_sec: int64, end_time_sec: int64>>>>, is_in_sale_time: bool>, price: double, is_group_discount_item: bool, name: string> output fields: struct<listing_status: bool, partner_dish_id: string, description: string, total_like: int64, pictures: list<item: struct<url: string, width: int64, height: int64>>, restaurant_id: int64, rank: int64, id: int64, property_info: struct<has_alcohol: bool>, catalog_id: int64, stock_info: struct<start_time: int64, is_out_stocked: bool, end_time: int64>, is_hidden: bool, sale_time_info: struct<loop_sale_days: list<item: struct<time_for_sales: list<item: struct<start_time_sec: int64, end_time_sec: int64>>, weekday: int64>>, custom_sale_days: list<item: struct<custom_date: int64, time_for_sales: list<item: struct<start_time_sec: int64, end_time_sec: int64>>>>, is_in_sale_time: bool>, price: double, is_group_discount_item: bool, name: string, discount_price: double>\n",
            "/content/drive/My Drive/Data/1 - raw data/shopee/shopee dish/20221206_dishes/dishes_schema039.parquet\n"
          ]
        }
      ]
    },
    {
      "cell_type": "code",
      "source": [
        "df = spark.read.option(\"mergeSchema\", True).parquet(*list(map(lambda p: str(p), Path(\"tmp/\").glob(\"*.parquet\"))))"
      ],
      "metadata": {
        "id": "CK29nAmFKr7i"
      },
      "execution_count": null,
      "outputs": []
    },
    {
      "cell_type": "code",
      "source": [
        "df.coalesce(1).write.format(\"parquet\").mode(\"append\").save(str(_root.joinpath(\"Data/2 - cleaned data/Staging/2022.12.06.dishes.parquet\")))"
      ],
      "metadata": {
        "id": "SPnTar-pKr7i"
      },
      "execution_count": null,
      "outputs": []
    }
  ]
}