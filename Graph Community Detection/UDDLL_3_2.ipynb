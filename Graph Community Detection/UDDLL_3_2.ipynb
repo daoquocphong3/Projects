{
  "nbformat": 4,
  "nbformat_minor": 0,
  "metadata": {
    "colab": {
      "provenance": []
    },
    "kernelspec": {
      "name": "python3",
      "display_name": "Python 3"
    },
    "language_info": {
      "name": "python"
    }
  },
  "cells": [
    {
      "cell_type": "markdown",
      "source": [
        "## Prepare data"
      ],
      "metadata": {
        "id": "WLWgDW72RP-s"
      }
    },
    {
      "cell_type": "markdown",
      "source": [
        "Get edges data from the previous task"
      ],
      "metadata": {
        "id": "sz2M71frRXaO"
      }
    },
    {
      "cell_type": "code",
      "execution_count": null,
      "metadata": {
        "colab": {
          "base_uri": "https://localhost:8080/"
        },
        "id": "eY5WW_V4i9dE",
        "outputId": "8f117ca1-03bd-4dea-a371-b45f2dbd244a"
      },
      "outputs": [
        {
          "output_type": "stream",
          "name": "stdout",
          "text": [
            "Downloading...\n",
            "From: https://drive.google.com/uc?id=1sd5preIDrXtTo6PXjheiD8978kXBDOM5\n",
            "To: /content/edge_df.csv\n",
            "\r  0% 0.00/22.9k [00:00<?, ?B/s]\r100% 22.9k/22.9k [00:00<00:00, 25.1MB/s]\n"
          ]
        }
      ],
      "source": [
        "!gdown 1sd5preIDrXtTo6PXjheiD8978kXBDOM5"
      ]
    },
    {
      "cell_type": "code",
      "source": [
        "import pandas as pd\n",
        "import networkx as nx\n",
        "from networkx.algorithms import community"
      ],
      "metadata": {
        "id": "GkT7pj_ejfCR"
      },
      "execution_count": null,
      "outputs": []
    },
    {
      "cell_type": "markdown",
      "source": [
        "Make pandas DataFrame of edges"
      ],
      "metadata": {
        "id": "vIZEKqq_Reyk"
      }
    },
    {
      "cell_type": "code",
      "source": [
        "edge_df = pd.read_csv('edge_df.csv')\n",
        "edge_df"
      ],
      "metadata": {
        "colab": {
          "base_uri": "https://localhost:8080/",
          "height": 424
        },
        "id": "pVspI4bijiZ5",
        "outputId": "19d69072-56f8-4c42-9fbc-53cb7d162c9e"
      },
      "execution_count": null,
      "outputs": [
        {
          "output_type": "execute_result",
          "data": {
            "text/plain": [
              "                         u1                      u2\n",
              "0    39FT2Ui8KUXwmUt6hnwy-g  79yaBDbLASfIdB-C2c8DzA\n",
              "1    0FVcoJko1kfZCrJRfssfIA  BDjiEmXljD2ZHT61Iv9rrQ\n",
              "2    LcCRMIDz1JgshpPGYfLDcA  _VTEyUzzH92X3w-IpGaXVA\n",
              "3    MtdSCXtmrSxj_uZOJ5ZycQ  tekHDsd0fskYG3tqu4sHQw\n",
              "4    _VTEyUzzH92X3w-IpGaXVA  bHufZ2OTlC-OUxBDRXxViw\n",
              "..                      ...                     ...\n",
              "493  DkLSyxogCcJXY5DbTZ-f2A  bSUS0YcvS7UelmHvCzNWBA\n",
              "494  Nf_Jw_W_CwOz5WJ7ApSMxg  tcWnoX_IfuDmlDl6o6y3_g\n",
              "495  Nf_Jw_W_CwOz5WJ7ApSMxg  pDNeS1nbkKS7mJmhRQJPig\n",
              "496  h-ajC_UHD0QAyAzySN6g2A  tcWnoX_IfuDmlDl6o6y3_g\n",
              "497  9SWtEX1k9AjRg93BAzMCpg  LKP0Yq9T7Ss6oiDZnVtQwQ\n",
              "\n",
              "[498 rows x 2 columns]"
            ],
            "text/html": [
              "\n",
              "  <div id=\"df-de24e4f5-8423-483e-b93a-a64297ad1e37\">\n",
              "    <div class=\"colab-df-container\">\n",
              "      <div>\n",
              "<style scoped>\n",
              "    .dataframe tbody tr th:only-of-type {\n",
              "        vertical-align: middle;\n",
              "    }\n",
              "\n",
              "    .dataframe tbody tr th {\n",
              "        vertical-align: top;\n",
              "    }\n",
              "\n",
              "    .dataframe thead th {\n",
              "        text-align: right;\n",
              "    }\n",
              "</style>\n",
              "<table border=\"1\" class=\"dataframe\">\n",
              "  <thead>\n",
              "    <tr style=\"text-align: right;\">\n",
              "      <th></th>\n",
              "      <th>u1</th>\n",
              "      <th>u2</th>\n",
              "    </tr>\n",
              "  </thead>\n",
              "  <tbody>\n",
              "    <tr>\n",
              "      <th>0</th>\n",
              "      <td>39FT2Ui8KUXwmUt6hnwy-g</td>\n",
              "      <td>79yaBDbLASfIdB-C2c8DzA</td>\n",
              "    </tr>\n",
              "    <tr>\n",
              "      <th>1</th>\n",
              "      <td>0FVcoJko1kfZCrJRfssfIA</td>\n",
              "      <td>BDjiEmXljD2ZHT61Iv9rrQ</td>\n",
              "    </tr>\n",
              "    <tr>\n",
              "      <th>2</th>\n",
              "      <td>LcCRMIDz1JgshpPGYfLDcA</td>\n",
              "      <td>_VTEyUzzH92X3w-IpGaXVA</td>\n",
              "    </tr>\n",
              "    <tr>\n",
              "      <th>3</th>\n",
              "      <td>MtdSCXtmrSxj_uZOJ5ZycQ</td>\n",
              "      <td>tekHDsd0fskYG3tqu4sHQw</td>\n",
              "    </tr>\n",
              "    <tr>\n",
              "      <th>4</th>\n",
              "      <td>_VTEyUzzH92X3w-IpGaXVA</td>\n",
              "      <td>bHufZ2OTlC-OUxBDRXxViw</td>\n",
              "    </tr>\n",
              "    <tr>\n",
              "      <th>...</th>\n",
              "      <td>...</td>\n",
              "      <td>...</td>\n",
              "    </tr>\n",
              "    <tr>\n",
              "      <th>493</th>\n",
              "      <td>DkLSyxogCcJXY5DbTZ-f2A</td>\n",
              "      <td>bSUS0YcvS7UelmHvCzNWBA</td>\n",
              "    </tr>\n",
              "    <tr>\n",
              "      <th>494</th>\n",
              "      <td>Nf_Jw_W_CwOz5WJ7ApSMxg</td>\n",
              "      <td>tcWnoX_IfuDmlDl6o6y3_g</td>\n",
              "    </tr>\n",
              "    <tr>\n",
              "      <th>495</th>\n",
              "      <td>Nf_Jw_W_CwOz5WJ7ApSMxg</td>\n",
              "      <td>pDNeS1nbkKS7mJmhRQJPig</td>\n",
              "    </tr>\n",
              "    <tr>\n",
              "      <th>496</th>\n",
              "      <td>h-ajC_UHD0QAyAzySN6g2A</td>\n",
              "      <td>tcWnoX_IfuDmlDl6o6y3_g</td>\n",
              "    </tr>\n",
              "    <tr>\n",
              "      <th>497</th>\n",
              "      <td>9SWtEX1k9AjRg93BAzMCpg</td>\n",
              "      <td>LKP0Yq9T7Ss6oiDZnVtQwQ</td>\n",
              "    </tr>\n",
              "  </tbody>\n",
              "</table>\n",
              "<p>498 rows × 2 columns</p>\n",
              "</div>\n",
              "      <button class=\"colab-df-convert\" onclick=\"convertToInteractive('df-de24e4f5-8423-483e-b93a-a64297ad1e37')\"\n",
              "              title=\"Convert this dataframe to an interactive table.\"\n",
              "              style=\"display:none;\">\n",
              "        \n",
              "  <svg xmlns=\"http://www.w3.org/2000/svg\" height=\"24px\"viewBox=\"0 0 24 24\"\n",
              "       width=\"24px\">\n",
              "    <path d=\"M0 0h24v24H0V0z\" fill=\"none\"/>\n",
              "    <path d=\"M18.56 5.44l.94 2.06.94-2.06 2.06-.94-2.06-.94-.94-2.06-.94 2.06-2.06.94zm-11 1L8.5 8.5l.94-2.06 2.06-.94-2.06-.94L8.5 2.5l-.94 2.06-2.06.94zm10 10l.94 2.06.94-2.06 2.06-.94-2.06-.94-.94-2.06-.94 2.06-2.06.94z\"/><path d=\"M17.41 7.96l-1.37-1.37c-.4-.4-.92-.59-1.43-.59-.52 0-1.04.2-1.43.59L10.3 9.45l-7.72 7.72c-.78.78-.78 2.05 0 2.83L4 21.41c.39.39.9.59 1.41.59.51 0 1.02-.2 1.41-.59l7.78-7.78 2.81-2.81c.8-.78.8-2.07 0-2.86zM5.41 20L4 18.59l7.72-7.72 1.47 1.35L5.41 20z\"/>\n",
              "  </svg>\n",
              "      </button>\n",
              "      \n",
              "  <style>\n",
              "    .colab-df-container {\n",
              "      display:flex;\n",
              "      flex-wrap:wrap;\n",
              "      gap: 12px;\n",
              "    }\n",
              "\n",
              "    .colab-df-convert {\n",
              "      background-color: #E8F0FE;\n",
              "      border: none;\n",
              "      border-radius: 50%;\n",
              "      cursor: pointer;\n",
              "      display: none;\n",
              "      fill: #1967D2;\n",
              "      height: 32px;\n",
              "      padding: 0 0 0 0;\n",
              "      width: 32px;\n",
              "    }\n",
              "\n",
              "    .colab-df-convert:hover {\n",
              "      background-color: #E2EBFA;\n",
              "      box-shadow: 0px 1px 2px rgba(60, 64, 67, 0.3), 0px 1px 3px 1px rgba(60, 64, 67, 0.15);\n",
              "      fill: #174EA6;\n",
              "    }\n",
              "\n",
              "    [theme=dark] .colab-df-convert {\n",
              "      background-color: #3B4455;\n",
              "      fill: #D2E3FC;\n",
              "    }\n",
              "\n",
              "    [theme=dark] .colab-df-convert:hover {\n",
              "      background-color: #434B5C;\n",
              "      box-shadow: 0px 1px 3px 1px rgba(0, 0, 0, 0.15);\n",
              "      filter: drop-shadow(0px 1px 2px rgba(0, 0, 0, 0.3));\n",
              "      fill: #FFFFFF;\n",
              "    }\n",
              "  </style>\n",
              "\n",
              "      <script>\n",
              "        const buttonEl =\n",
              "          document.querySelector('#df-de24e4f5-8423-483e-b93a-a64297ad1e37 button.colab-df-convert');\n",
              "        buttonEl.style.display =\n",
              "          google.colab.kernel.accessAllowed ? 'block' : 'none';\n",
              "\n",
              "        async function convertToInteractive(key) {\n",
              "          const element = document.querySelector('#df-de24e4f5-8423-483e-b93a-a64297ad1e37');\n",
              "          const dataTable =\n",
              "            await google.colab.kernel.invokeFunction('convertToInteractive',\n",
              "                                                     [key], {});\n",
              "          if (!dataTable) return;\n",
              "\n",
              "          const docLinkHtml = 'Like what you see? Visit the ' +\n",
              "            '<a target=\"_blank\" href=https://colab.research.google.com/notebooks/data_table.ipynb>data table notebook</a>'\n",
              "            + ' to learn more about interactive tables.';\n",
              "          element.innerHTML = '';\n",
              "          dataTable['output_type'] = 'display_data';\n",
              "          await google.colab.output.renderOutput(dataTable, element);\n",
              "          const docLink = document.createElement('div');\n",
              "          docLink.innerHTML = docLinkHtml;\n",
              "          element.appendChild(docLink);\n",
              "        }\n",
              "      </script>\n",
              "    </div>\n",
              "  </div>\n",
              "  "
            ]
          },
          "metadata": {},
          "execution_count": 3
        }
      ]
    },
    {
      "cell_type": "markdown",
      "source": [
        "## Task 2"
      ],
      "metadata": {
        "id": "NSfboGIGRj6Q"
      }
    },
    {
      "cell_type": "markdown",
      "source": [
        "Create a graph with networkx and put data into it"
      ],
      "metadata": {
        "id": "tCh-sv0QRmEG"
      }
    },
    {
      "cell_type": "code",
      "source": [
        "graph = nx.Graph()\n",
        "graph.add_edges_from(edge_df.values)"
      ],
      "metadata": {
        "id": "dPXGrKqLjteX"
      },
      "execution_count": null,
      "outputs": []
    },
    {
      "cell_type": "code",
      "source": [
        "graph.number_of_edges()"
      ],
      "metadata": {
        "colab": {
          "base_uri": "https://localhost:8080/"
        },
        "id": "Uh5ay4Cuj6Xc",
        "outputId": "e5f70a4e-c3ff-462f-ce47-cd7bfd26c531"
      },
      "execution_count": null,
      "outputs": [
        {
          "output_type": "execute_result",
          "data": {
            "text/plain": [
              "498"
            ]
          },
          "metadata": {},
          "execution_count": 5
        }
      ]
    },
    {
      "cell_type": "markdown",
      "source": [
        "Run Girvan Newman algorithm"
      ],
      "metadata": {
        "id": "Y0E9i-DuRuZU"
      }
    },
    {
      "cell_type": "code",
      "source": [
        "group = community.girvan_newman(graph)"
      ],
      "metadata": {
        "id": "dbArChdRkEDB"
      },
      "execution_count": null,
      "outputs": []
    },
    {
      "cell_type": "markdown",
      "source": [
        "Choose the best communities"
      ],
      "metadata": {
        "id": "hEd0hNUERz3X"
      }
    },
    {
      "cell_type": "code",
      "source": [
        "best_modularity = -1000\n",
        "best_communities = []\n",
        "edges_list = []\n",
        "\n",
        "for communities in group:\n",
        "    modularity_score = community.modularity(graph, communities)\n",
        "    if modularity_score > best_modularity: \n",
        "        best_modularity = modularity_score\n",
        "        best_communities = communities\n",
        "\n",
        "best_modularity"
      ],
      "metadata": {
        "id": "RfnWbsnhk79X",
        "colab": {
          "base_uri": "https://localhost:8080/"
        },
        "outputId": "3868bb68-a172-4d00-b163-5db691303ae2"
      },
      "execution_count": null,
      "outputs": [
        {
          "output_type": "execute_result",
          "data": {
            "text/plain": [
              "0.6872550442734798"
            ]
          },
          "metadata": {},
          "execution_count": 7
        }
      ]
    },
    {
      "cell_type": "markdown",
      "source": [
        "Write result to file"
      ],
      "metadata": {
        "id": "xuUVKQBjSTKl"
      }
    },
    {
      "cell_type": "code",
      "source": [
        "result = str(sorted(sorted(list(sorted(c) for c in best_communities), key = lambda x: x[0]), key=len)).replace('], ','\\n').replace('[','').replace(']]','')\n",
        "with open(\"task2_result.txt\", \"w\") as file2:\n",
        "    file2.write(result)\n",
        "    file2.write('\\n'+str(best_modularity))"
      ],
      "metadata": {
        "id": "3iGwBpsH4T82"
      },
      "execution_count": null,
      "outputs": []
    },
    {
      "cell_type": "markdown",
      "source": [
        "### Compare the result of task 1 and task 2"
      ],
      "metadata": {
        "id": "LPH7ZrCpSVLr"
      }
    },
    {
      "cell_type": "markdown",
      "source": [
        "Get files result of task 1"
      ],
      "metadata": {
        "id": "ubFKXJomYrT1"
      }
    },
    {
      "cell_type": "code",
      "source": [
        "!gdown 17R1S3dkSp3nv_9-2Hy4YaNx_8UtR0-Mn\n",
        "!gdown 1gCS5-i1idojFNw1PE69rRQOH492DsRHp"
      ],
      "metadata": {
        "colab": {
          "base_uri": "https://localhost:8080/"
        },
        "id": "PuJyv2RrgcLl",
        "outputId": "0e8534d7-3206-43a1-bcaa-4673e0b2beb7"
      },
      "execution_count": null,
      "outputs": [
        {
          "output_type": "stream",
          "name": "stdout",
          "text": [
            "Downloading...\n",
            "From: https://drive.google.com/uc?id=17R1S3dkSp3nv_9-2Hy4YaNx_8UtR0-Mn\n",
            "To: /content/task1_2_result.txt\n",
            "100% 5.77k/5.77k [00:00<00:00, 5.05MB/s]\n",
            "Downloading...\n",
            "From: https://drive.google.com/uc?id=1gCS5-i1idojFNw1PE69rRQOH492DsRHp\n",
            "To: /content/task1_2_result2.txt\n",
            "100% 5.77k/5.77k [00:00<00:00, 6.71MB/s]\n"
          ]
        }
      ]
    },
    {
      "cell_type": "markdown",
      "source": [
        "Compare result of two tasks"
      ],
      "metadata": {
        "id": "c7qOhkZ0TFwo"
      }
    },
    {
      "cell_type": "code",
      "source": [
        "with open(\"task1_2_result.txt\",\"r\") as file1, open('task2_result.txt', 'r') as file2:\n",
        "    same_result = [line1==line2 for line1, line2 in zip(file1, file2)]\n",
        "    print(same_result)\n",
        "\n",
        "with open(\"task1_2_result.txt\",\"r\") as file1, open('task2_result.txt', 'r') as file2:\n",
        "    print('Modulairy in task 1: ', file1.readlines()[-1])\n",
        "    print('Modulairy in task 2: ', file2.readlines()[-1])"
      ],
      "metadata": {
        "id": "xu3vBF1XUyX0",
        "colab": {
          "base_uri": "https://localhost:8080/"
        },
        "outputId": "c42edbee-0eb1-4d5e-c113-54a1dd94e8be"
      },
      "execution_count": null,
      "outputs": [
        {
          "output_type": "stream",
          "name": "stdout",
          "text": [
            "[True, True, True, True, True, True, True, True, True, True, True, True, True, True, True, True, True, True, True, False]\n",
            "Modulairy in task 1:  0.6872550442734674\n",
            "Modulairy in task 2:  0.6872550442734798\n"
          ]
        }
      ]
    },
    {
      "cell_type": "markdown",
      "source": [
        "- There is no difference in communites between two tasks.\n",
        "- The modularities are the same (slightly different, it is not even noticeable, just because of the difference formula)"
      ],
      "metadata": {
        "id": "77ceijmISbxq"
      }
    },
    {
      "cell_type": "markdown",
      "source": [
        "Campare result of two tasks with the modularity used in task1 is the simulation of NetworkX modularity"
      ],
      "metadata": {
        "id": "uiW_MJRETKR-"
      }
    },
    {
      "cell_type": "code",
      "source": [
        "with open(\"task1_2_result2.txt\",\"r\") as file1, open('task2_result.txt', 'r') as file2:\n",
        "    same_result = [line1==line2 for line1, line2 in zip(file1, file2)]\n",
        "    print(same_result)\n",
        "\n",
        "with open(\"task1_2_result2.txt\",\"r\") as file1, open('task2_result.txt', 'r') as file2:\n",
        "    print('Modulairy in task 1: ', file1.readlines()[-1])\n",
        "    print('Modulairy in task 2: ', file2.readlines()[-1])"
      ],
      "metadata": {
        "colab": {
          "base_uri": "https://localhost:8080/"
        },
        "id": "AayZpH5cS5qz",
        "outputId": "a01c26f5-457c-4365-c23c-3210d3e54ecb"
      },
      "execution_count": null,
      "outputs": [
        {
          "output_type": "stream",
          "name": "stdout",
          "text": [
            "[True, True, True, True, True, True, True, True, True, True, True, True, True, True, True, True, True, True, True, True]\n",
            "Modulairy in task 1:  0.6872550442734798\n",
            "Modulairy in task 2:  0.6872550442734798\n"
          ]
        }
      ]
    },
    {
      "cell_type": "markdown",
      "source": [
        "- Now the result is the same.\n",
        "- The module we create is the same as the module NetworkX used."
      ],
      "metadata": {
        "id": "SDwIYeSWXuN1"
      }
    }
  ]
}